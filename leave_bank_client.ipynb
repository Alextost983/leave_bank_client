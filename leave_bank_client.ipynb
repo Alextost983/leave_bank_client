{
 "cells": [
  {
   "attachments": {},
   "cell_type": "markdown",
   "metadata": {
    "toc": true
   },
   "source": [
    "<h1>Содержание<span class=\"tocSkip\"></span></h1>\n",
    "<div class=\"toc\"><ul class=\"toc-item\"><li><span><a href=\"#Подготовка-данных\" data-toc-modified-id=\"Подготовка-данных-1\"><span class=\"toc-item-num\">1&nbsp;&nbsp;</span>Подготовка данных</a></span></li><li><span><a href=\"#Исследование-задачи\" data-toc-modified-id=\"Исследование-задачи-2\"><span class=\"toc-item-num\">2&nbsp;&nbsp;</span>Исследование задачи</a></span><ul class=\"toc-item\"><li><span><a href=\"#Обучение-моделей\" data-toc-modified-id=\"Обучение-моделей-2.1\"><span class=\"toc-item-num\">2.1&nbsp;&nbsp;</span>Обучение моделей</a></span><ul class=\"toc-item\"><li><span><a href=\"#Logistic-regression\" data-toc-modified-id=\"Logistic-regression-2.1.1\"><span class=\"toc-item-num\">2.1.1&nbsp;&nbsp;</span>Logistic regression</a></span></li><li><span><a href=\"#Random-forest\" data-toc-modified-id=\"Random-forest-2.1.2\"><span class=\"toc-item-num\">2.1.2&nbsp;&nbsp;</span>Random forest</a></span></li></ul></li></ul></li><li><span><a href=\"#Борьба-с-дисбалансом\" data-toc-modified-id=\"Борьба-с-дисбалансом-3\"><span class=\"toc-item-num\">3&nbsp;&nbsp;</span>Борьба с дисбалансом</a></span><ul class=\"toc-item\"><li><span><a href=\"#Upsampling\" data-toc-modified-id=\"Upsampling-3.1\"><span class=\"toc-item-num\">3.1&nbsp;&nbsp;</span>Upsampling</a></span><ul class=\"toc-item\"><li><span><a href=\"#СЛУЧАЙНЫЙ-ЛЕС\" data-toc-modified-id=\"СЛУЧАЙНЫЙ-ЛЕС-3.1.1\"><span class=\"toc-item-num\">3.1.1&nbsp;&nbsp;</span>СЛУЧАЙНЫЙ ЛЕС</a></span></li><li><span><a href=\"#ЛОГИСТИЧЕСКАЯ-РЕГРЕССИЯ\" data-toc-modified-id=\"ЛОГИСТИЧЕСКАЯ-РЕГРЕССИЯ-3.1.2\"><span class=\"toc-item-num\">3.1.2&nbsp;&nbsp;</span>ЛОГИСТИЧЕСКАЯ РЕГРЕССИЯ</a></span></li></ul></li><li><span><a href=\"#Downsampling\" data-toc-modified-id=\"Downsampling-3.2\"><span class=\"toc-item-num\">3.2&nbsp;&nbsp;</span>Downsampling</a></span><ul class=\"toc-item\"><li><span><a href=\"#СЛУЧАЙНЫ-ЛЕС\" data-toc-modified-id=\"СЛУЧАЙНЫ-ЛЕС-3.2.1\"><span class=\"toc-item-num\">3.2.1&nbsp;&nbsp;</span>СЛУЧАЙНЫ ЛЕС</a></span></li><li><span><a href=\"#ЛОГИСТИЧЕСКАЯ-РЕГРЕССИЯ\" data-toc-modified-id=\"ЛОГИСТИЧЕСКАЯ-РЕГРЕССИЯ-3.2.2\"><span class=\"toc-item-num\">3.2.2&nbsp;&nbsp;</span>ЛОГИСТИЧЕСКАЯ РЕГРЕССИЯ</a></span></li></ul></li></ul></li><li><span><a href=\"#Тестирование-модели\" data-toc-modified-id=\"Тестирование-модели-4\"><span class=\"toc-item-num\">4&nbsp;&nbsp;</span>Тестирование модели</a></span></li><li><span><a href=\"#Вывод:\" data-toc-modified-id=\"Вывод:-5\"><span class=\"toc-item-num\">5&nbsp;&nbsp;</span>Вывод:</a></span></li><li><span><a href=\"#Чек-лист-готовности-проекта\" data-toc-modified-id=\"Чек-лист-готовности-проекта-6\"><span class=\"toc-item-num\">6&nbsp;&nbsp;</span>Чек-лист готовности проекта</a></span></li><li><span><a href=\"#Общий-вывод-по-проекту\" data-toc-modified-id=\"Общий-вывод-по-проекту-7\"><span class=\"toc-item-num\">7&nbsp;&nbsp;</span><b>Общий вывод по проекту</b></a></span></li><li><span><a href=\"#Общий-вывод-по-проекту-В2\" data-toc-modified-id=\"Общий-вывод-по-проекту-В2-8\"><span class=\"toc-item-num\">8&nbsp;&nbsp;</span><b>Общий вывод по проекту В2</b></a></span></li><li><span><a href=\"#Общий-вывод-по-проекту-В3\" data-toc-modified-id=\"Общий-вывод-по-проекту-В3-9\"><span class=\"toc-item-num\">9&nbsp;&nbsp;</span><b>Общий вывод по проекту В3</b></a></span></li><li><span><a href=\"#Общий-вывод-по-проекту-В4\" data-toc-modified-id=\"Общий-вывод-по-проекту-В4-10\"><span class=\"toc-item-num\">10&nbsp;&nbsp;</span><b>Общий вывод по проекту В4</b></a></span></li></ul></div>"
   ]
  },
  {
   "attachments": {},
   "cell_type": "markdown",
   "metadata": {},
   "source": [
    "# Отток клиентов"
   ]
  },
  {
   "attachments": {},
   "cell_type": "markdown",
   "metadata": {},
   "source": [
    "Из «Бета-Банка» стали уходить клиенты. Каждый месяц. Немного, но заметно. Банковские маркетологи посчитали: сохранять текущих клиентов дешевле, чем привлекать новых.\n",
    "\n",
    "На осносании исторических данных о расторжении договоров, посчитаем вероятность ухода клиента, для принятия соответствующих мер. \n",
    "\n",
    "Построим и протестируем модель с предельно большим значением *F1*-меры. Целевое значениеметрики, которое будет считаться успехом в проделанной работе доведем до 0.59. Проверим *F1*-меру на тестовой выборке самостоятельно.\n",
    "\n",
    "Дополнительно измерим *AUC-ROC*, сравнивая её значение с *F1*-мерой.\n"
   ]
  },
  {
   "attachments": {},
   "cell_type": "markdown",
   "metadata": {},
   "source": [
    "## Подготовка данных"
   ]
  },
  {
   "cell_type": "code",
   "execution_count": 40,
   "metadata": {},
   "outputs": [],
   "source": [
    "import pandas as pd\n",
    "import numpy as np\n",
    "\n",
    "\n",
    "import matplotlib.pyplot as plt\n",
    "import seaborn as sns\n",
    "\n",
    "\n",
    "from sklearn.preprocessing import MinMaxScaler\n",
    "from sklearn.preprocessing import OneHotEncoder\n",
    "\n",
    "from sklearn.utils import shuffle\n",
    "from sklearn.model_selection import train_test_split, RandomizedSearchCV\n",
    "\n",
    "from sklearn.metrics import accuracy_score, f1_score\n",
    "\n",
    "from scipy.stats import uniform\n",
    "from sklearn.metrics import classification_report, roc_auc_score, roc_curve, confusion_matrix\n",
    "\n",
    "from sklearn.metrics import roc_auc_score \n",
    "\n",
    "from sklearn.linear_model import LogisticRegression\n",
    "from sklearn.ensemble import RandomForestClassifier\n",
    "\n",
    "import warnings\n",
    "warnings.filterwarnings(\"ignore\")"
   ]
  },
  {
   "cell_type": "code",
   "execution_count": 41,
   "metadata": {},
   "outputs": [],
   "source": [
    "df = pd.read_csv('/datasets/Churn.csv')"
   ]
  },
  {
   "cell_type": "code",
   "execution_count": 42,
   "metadata": {},
   "outputs": [
    {
     "data": {
      "text/html": [
       "<div>\n",
       "<style scoped>\n",
       "    .dataframe tbody tr th:only-of-type {\n",
       "        vertical-align: middle;\n",
       "    }\n",
       "\n",
       "    .dataframe tbody tr th {\n",
       "        vertical-align: top;\n",
       "    }\n",
       "\n",
       "    .dataframe thead th {\n",
       "        text-align: right;\n",
       "    }\n",
       "</style>\n",
       "<table border=\"1\" class=\"dataframe\">\n",
       "  <thead>\n",
       "    <tr style=\"text-align: right;\">\n",
       "      <th></th>\n",
       "      <th>RowNumber</th>\n",
       "      <th>CustomerId</th>\n",
       "      <th>Surname</th>\n",
       "      <th>CreditScore</th>\n",
       "      <th>Geography</th>\n",
       "      <th>Gender</th>\n",
       "      <th>Age</th>\n",
       "      <th>Tenure</th>\n",
       "      <th>Balance</th>\n",
       "      <th>NumOfProducts</th>\n",
       "      <th>HasCrCard</th>\n",
       "      <th>IsActiveMember</th>\n",
       "      <th>EstimatedSalary</th>\n",
       "      <th>Exited</th>\n",
       "    </tr>\n",
       "  </thead>\n",
       "  <tbody>\n",
       "    <tr>\n",
       "      <th>0</th>\n",
       "      <td>1</td>\n",
       "      <td>15634602</td>\n",
       "      <td>Hargrave</td>\n",
       "      <td>619</td>\n",
       "      <td>France</td>\n",
       "      <td>Female</td>\n",
       "      <td>42</td>\n",
       "      <td>2.00</td>\n",
       "      <td>0.00</td>\n",
       "      <td>1</td>\n",
       "      <td>1</td>\n",
       "      <td>1</td>\n",
       "      <td>101348.88</td>\n",
       "      <td>1</td>\n",
       "    </tr>\n",
       "    <tr>\n",
       "      <th>1</th>\n",
       "      <td>2</td>\n",
       "      <td>15647311</td>\n",
       "      <td>Hill</td>\n",
       "      <td>608</td>\n",
       "      <td>Spain</td>\n",
       "      <td>Female</td>\n",
       "      <td>41</td>\n",
       "      <td>1.00</td>\n",
       "      <td>83807.86</td>\n",
       "      <td>1</td>\n",
       "      <td>0</td>\n",
       "      <td>1</td>\n",
       "      <td>112542.58</td>\n",
       "      <td>0</td>\n",
       "    </tr>\n",
       "    <tr>\n",
       "      <th>2</th>\n",
       "      <td>3</td>\n",
       "      <td>15619304</td>\n",
       "      <td>Onio</td>\n",
       "      <td>502</td>\n",
       "      <td>France</td>\n",
       "      <td>Female</td>\n",
       "      <td>42</td>\n",
       "      <td>8.00</td>\n",
       "      <td>159660.80</td>\n",
       "      <td>3</td>\n",
       "      <td>1</td>\n",
       "      <td>0</td>\n",
       "      <td>113931.57</td>\n",
       "      <td>1</td>\n",
       "    </tr>\n",
       "    <tr>\n",
       "      <th>3</th>\n",
       "      <td>4</td>\n",
       "      <td>15701354</td>\n",
       "      <td>Boni</td>\n",
       "      <td>699</td>\n",
       "      <td>France</td>\n",
       "      <td>Female</td>\n",
       "      <td>39</td>\n",
       "      <td>1.00</td>\n",
       "      <td>0.00</td>\n",
       "      <td>2</td>\n",
       "      <td>0</td>\n",
       "      <td>0</td>\n",
       "      <td>93826.63</td>\n",
       "      <td>0</td>\n",
       "    </tr>\n",
       "    <tr>\n",
       "      <th>4</th>\n",
       "      <td>5</td>\n",
       "      <td>15737888</td>\n",
       "      <td>Mitchell</td>\n",
       "      <td>850</td>\n",
       "      <td>Spain</td>\n",
       "      <td>Female</td>\n",
       "      <td>43</td>\n",
       "      <td>2.00</td>\n",
       "      <td>125510.82</td>\n",
       "      <td>1</td>\n",
       "      <td>1</td>\n",
       "      <td>1</td>\n",
       "      <td>79084.10</td>\n",
       "      <td>0</td>\n",
       "    </tr>\n",
       "  </tbody>\n",
       "</table>\n",
       "</div>"
      ],
      "text/plain": [
       "   RowNumber  CustomerId   Surname  CreditScore Geography  Gender  Age  \\\n",
       "0          1    15634602  Hargrave          619    France  Female   42   \n",
       "1          2    15647311      Hill          608     Spain  Female   41   \n",
       "2          3    15619304      Onio          502    France  Female   42   \n",
       "3          4    15701354      Boni          699    France  Female   39   \n",
       "4          5    15737888  Mitchell          850     Spain  Female   43   \n",
       "\n",
       "   Tenure   Balance  NumOfProducts  HasCrCard  IsActiveMember  \\\n",
       "0    2.00      0.00              1          1               1   \n",
       "1    1.00  83807.86              1          0               1   \n",
       "2    8.00 159660.80              3          1               0   \n",
       "3    1.00      0.00              2          0               0   \n",
       "4    2.00 125510.82              1          1               1   \n",
       "\n",
       "   EstimatedSalary  Exited  \n",
       "0        101348.88       1  \n",
       "1        112542.58       0  \n",
       "2        113931.57       1  \n",
       "3         93826.63       0  \n",
       "4         79084.10       0  "
      ]
     },
     "execution_count": 42,
     "metadata": {},
     "output_type": "execute_result"
    }
   ],
   "source": [
    "df.head()"
   ]
  },
  {
   "cell_type": "code",
   "execution_count": 43,
   "metadata": {},
   "outputs": [
    {
     "name": "stdout",
     "output_type": "stream",
     "text": [
      "<class 'pandas.core.frame.DataFrame'>\n",
      "RangeIndex: 10000 entries, 0 to 9999\n",
      "Data columns (total 14 columns):\n",
      " #   Column           Non-Null Count  Dtype  \n",
      "---  ------           --------------  -----  \n",
      " 0   RowNumber        10000 non-null  int64  \n",
      " 1   CustomerId       10000 non-null  int64  \n",
      " 2   Surname          10000 non-null  object \n",
      " 3   CreditScore      10000 non-null  int64  \n",
      " 4   Geography        10000 non-null  object \n",
      " 5   Gender           10000 non-null  object \n",
      " 6   Age              10000 non-null  int64  \n",
      " 7   Tenure           9091 non-null   float64\n",
      " 8   Balance          10000 non-null  float64\n",
      " 9   NumOfProducts    10000 non-null  int64  \n",
      " 10  HasCrCard        10000 non-null  int64  \n",
      " 11  IsActiveMember   10000 non-null  int64  \n",
      " 12  EstimatedSalary  10000 non-null  float64\n",
      " 13  Exited           10000 non-null  int64  \n",
      "dtypes: float64(3), int64(8), object(3)\n",
      "memory usage: 1.1+ MB\n"
     ]
    }
   ],
   "source": [
    "df.info()"
   ]
  },
  {
   "cell_type": "code",
   "execution_count": 44,
   "metadata": {},
   "outputs": [],
   "source": [
    "df[\"Tenure\"] = df[\"Tenure\"].fillna(df[\"Tenure\"].median())"
   ]
  },
  {
   "cell_type": "code",
   "execution_count": 45,
   "metadata": {},
   "outputs": [
    {
     "name": "stdout",
     "output_type": "stream",
     "text": [
      "<class 'pandas.core.frame.DataFrame'>\n",
      "RangeIndex: 10000 entries, 0 to 9999\n",
      "Data columns (total 14 columns):\n",
      " #   Column           Non-Null Count  Dtype  \n",
      "---  ------           --------------  -----  \n",
      " 0   RowNumber        10000 non-null  int64  \n",
      " 1   CustomerId       10000 non-null  int64  \n",
      " 2   Surname          10000 non-null  object \n",
      " 3   CreditScore      10000 non-null  int64  \n",
      " 4   Geography        10000 non-null  object \n",
      " 5   Gender           10000 non-null  object \n",
      " 6   Age              10000 non-null  int64  \n",
      " 7   Tenure           10000 non-null  int64  \n",
      " 8   Balance          10000 non-null  float64\n",
      " 9   NumOfProducts    10000 non-null  int64  \n",
      " 10  HasCrCard        10000 non-null  int64  \n",
      " 11  IsActiveMember   10000 non-null  int64  \n",
      " 12  EstimatedSalary  10000 non-null  float64\n",
      " 13  Exited           10000 non-null  int64  \n",
      "dtypes: float64(2), int64(9), object(3)\n",
      "memory usage: 1.1+ MB\n"
     ]
    }
   ],
   "source": [
    "df[\"Tenure\"] = df[\"Tenure\"].astype('int')\n",
    "df.info()"
   ]
  },
  {
   "attachments": {},
   "cell_type": "markdown",
   "metadata": {},
   "source": [
    "Итак, решаем задчу классификации, так как у нас количественные признаки. Это задача относится к классу обучение с учителем, потому, что у нас есть целевой признак и обучающий набор данных.\n",
    "\n",
    "Построим матрицу корреляции признаков:"
   ]
  },
  {
   "cell_type": "code",
   "execution_count": 46,
   "metadata": {},
   "outputs": [
    {
     "data": {
      "image/png": "[encoded data removed]",
      "text/plain": [
       "<Figure size 432x288 with 2 Axes>"
      ]
     },
     "metadata": {
      "needs_background": "light"
     },
     "output_type": "display_data"
    }
   ],
   "source": [
    "sns.heatmap(df[['HasCrCard', 'IsActiveMember', 'NumOfProducts', 'Balance']].corr(), cmap='RdYlGn', annot=True)\n",
    "plt.show()"
   ]
  },
  {
   "cell_type": "code",
   "execution_count": 47,
   "metadata": {},
   "outputs": [
    {
     "data": {
      "image/png": "[encoded data removed]",
      "text/plain": [
       "<Figure size 720x720 with 20 Axes>"
      ]
     },
     "metadata": {
      "needs_background": "light"
     },
     "output_type": "display_data"
    }
   ],
   "source": [
    "sns.pairplot(df[['HasCrCard', 'IsActiveMember', 'NumOfProducts', 'Balance']])\n",
    "plt.show()"
   ]
  },
  {
   "attachments": {},
   "cell_type": "markdown",
   "metadata": {},
   "source": [
    "Корреляция признаков столбцов 'HasCrCard', 'IsActiveMember', очевидна"
   ]
  },
  {
   "attachments": {},
   "cell_type": "markdown",
   "metadata": {},
   "source": [
    "Удалим столбцы, которые не относятся к расчетам по оттоку и будут только уменьшать качество создаваемых моделей.\n",
    "Особое значение для чистоты данных имеет столбец \"HasCrCard\", а точнее его отсутствие, так как он очень схож со значением"
   ]
  },
  {
   "cell_type": "code",
   "execution_count": 48,
   "metadata": {},
   "outputs": [],
   "source": [
    "df.drop([\"HasCrCard\",\"RowNumber\", \"CustomerId\", \"Surname\"], axis=1, inplace=True)"
   ]
  },
  {
   "cell_type": "code",
   "execution_count": 49,
   "metadata": {},
   "outputs": [
    {
     "data": {
      "image/png": "[encoded data removed]",
      "text/plain": [
       "<Figure size 432x288 with 2 Axes>"
      ]
     },
     "metadata": {
      "needs_background": "light"
     },
     "output_type": "display_data"
    }
   ],
   "source": [
    "sns.heatmap(df[['IsActiveMember', 'NumOfProducts', 'Balance']].corr(), cmap='RdYlGn', annot=True)\n",
    "plt.show()"
   ]
  },
  {
   "attachments": {},
   "cell_type": "markdown",
   "metadata": {},
   "source": [
    "Все в порядке, продолжим"
   ]
  },
  {
   "cell_type": "code",
   "execution_count": 50,
   "metadata": {},
   "outputs": [
    {
     "data": {
      "text/html": [
       "<div>\n",
       "<style scoped>\n",
       "    .dataframe tbody tr th:only-of-type {\n",
       "        vertical-align: middle;\n",
       "    }\n",
       "\n",
       "    .dataframe tbody tr th {\n",
       "        vertical-align: top;\n",
       "    }\n",
       "\n",
       "    .dataframe thead th {\n",
       "        text-align: right;\n",
       "    }\n",
       "</style>\n",
       "<table border=\"1\" class=\"dataframe\">\n",
       "  <thead>\n",
       "    <tr style=\"text-align: right;\">\n",
       "      <th></th>\n",
       "      <th>CreditScore</th>\n",
       "      <th>Geography</th>\n",
       "      <th>Gender</th>\n",
       "      <th>Age</th>\n",
       "      <th>Tenure</th>\n",
       "      <th>Balance</th>\n",
       "      <th>NumOfProducts</th>\n",
       "      <th>IsActiveMember</th>\n",
       "      <th>EstimatedSalary</th>\n",
       "      <th>Exited</th>\n",
       "    </tr>\n",
       "  </thead>\n",
       "  <tbody>\n",
       "    <tr>\n",
       "      <th>0</th>\n",
       "      <td>619</td>\n",
       "      <td>France</td>\n",
       "      <td>Female</td>\n",
       "      <td>42</td>\n",
       "      <td>2</td>\n",
       "      <td>0.00</td>\n",
       "      <td>1</td>\n",
       "      <td>1</td>\n",
       "      <td>101348.88</td>\n",
       "      <td>1</td>\n",
       "    </tr>\n",
       "    <tr>\n",
       "      <th>1</th>\n",
       "      <td>608</td>\n",
       "      <td>Spain</td>\n",
       "      <td>Female</td>\n",
       "      <td>41</td>\n",
       "      <td>1</td>\n",
       "      <td>83807.86</td>\n",
       "      <td>1</td>\n",
       "      <td>1</td>\n",
       "      <td>112542.58</td>\n",
       "      <td>0</td>\n",
       "    </tr>\n",
       "  </tbody>\n",
       "</table>\n",
       "</div>"
      ],
      "text/plain": [
       "   CreditScore Geography  Gender  Age  Tenure  Balance  NumOfProducts  \\\n",
       "0          619    France  Female   42       2     0.00              1   \n",
       "1          608     Spain  Female   41       1 83807.86              1   \n",
       "\n",
       "   IsActiveMember  EstimatedSalary  Exited  \n",
       "0               1        101348.88       1  \n",
       "1               1        112542.58       0  "
      ]
     },
     "execution_count": 50,
     "metadata": {},
     "output_type": "execute_result"
    }
   ],
   "source": [
    "df.head(2)"
   ]
  },
  {
   "attachments": {},
   "cell_type": "markdown",
   "metadata": {},
   "source": [
    "Доля объектов положительного класса:"
   ]
  },
  {
   "cell_type": "code",
   "execution_count": 51,
   "metadata": {},
   "outputs": [
    {
     "data": {
      "text/plain": [
       "0.20369999999999389"
      ]
     },
     "execution_count": 51,
     "metadata": {},
     "output_type": "execute_result"
    }
   ],
   "source": [
    "sum(df[\"Exited\"]/len(df))"
   ]
  },
  {
   "attachments": {},
   "cell_type": "markdown",
   "metadata": {},
   "source": [
    "Доля объектов отрицательного класса:"
   ]
  },
  {
   "cell_type": "code",
   "execution_count": 52,
   "metadata": {},
   "outputs": [
    {
     "data": {
      "text/plain": [
       "0.7963000000000061"
      ]
     },
     "execution_count": 52,
     "metadata": {},
     "output_type": "execute_result"
    }
   ],
   "source": [
    "1-sum(df[\"Exited\"]/len(df))"
   ]
  },
  {
   "attachments": {},
   "cell_type": "markdown",
   "metadata": {},
   "source": [
    "Объектов отрицательного класса намного больше"
   ]
  },
  {
   "attachments": {},
   "cell_type": "markdown",
   "metadata": {},
   "source": [
    "Onehot encoding преобразуем категориальные переменные в числовые значения"
   ]
  },
  {
   "attachments": {},
   "cell_type": "markdown",
   "metadata": {},
   "source": [
    "gender_one_hot = pd.get_dummies(df[\"Gender\"], drop_first=True)\n",
    "country_one_hot = pd.get_dummies(df[\"Geography\"], drop_first=True)\n",
    "df.drop([\"Gender\", \"Geography\"], axis=1, inplace=True)\n",
    "df_one_hot = pd.concat([df, gender_one_hot, country_one_hot], axis=1)"
   ]
  },
  {
   "cell_type": "code",
   "execution_count": 53,
   "metadata": {},
   "outputs": [
    {
     "name": "stdout",
     "output_type": "stream",
     "text": [
      "<class 'pandas.core.frame.DataFrame'>\n",
      "RangeIndex: 10000 entries, 0 to 9999\n",
      "Data columns (total 11 columns):\n",
      " #   Column             Non-Null Count  Dtype  \n",
      "---  ------             --------------  -----  \n",
      " 0   CreditScore        10000 non-null  int64  \n",
      " 1   Age                10000 non-null  int64  \n",
      " 2   Tenure             10000 non-null  int64  \n",
      " 3   Balance            10000 non-null  float64\n",
      " 4   NumOfProducts      10000 non-null  int64  \n",
      " 5   IsActiveMember     10000 non-null  int64  \n",
      " 6   EstimatedSalary    10000 non-null  float64\n",
      " 7   Exited             10000 non-null  int64  \n",
      " 8   Geography_Germany  10000 non-null  uint8  \n",
      " 9   Geography_Spain    10000 non-null  uint8  \n",
      " 10  Gender_Male        10000 non-null  uint8  \n",
      "dtypes: float64(2), int64(6), uint8(3)\n",
      "memory usage: 654.4 KB\n"
     ]
    }
   ],
   "source": [
    "df_ohe = pd.get_dummies(df, drop_first=True)\n",
    "df_ohe.info()"
   ]
  },
  {
   "cell_type": "code",
   "execution_count": 54,
   "metadata": {},
   "outputs": [],
   "source": [
    "target = df_ohe[\"Exited\"]\n",
    "features = df_ohe.drop(\"Exited\", axis = 1)"
   ]
  },
  {
   "attachments": {},
   "cell_type": "markdown",
   "metadata": {},
   "source": [
    "Scaling приведем данные к удобному масштабу"
   ]
  },
  {
   "cell_type": "code",
   "execution_count": 55,
   "metadata": {},
   "outputs": [],
   "source": [
    "scaler = MinMaxScaler()\n",
    "df_ohe_scaled = df_ohe.copy(deep=True)\n",
    "df_ohe_scaled[[\"Balance\", \"EstimatedSalary\"]] = scaler.fit_transform(df_ohe_scaled[[\"Balance\", \"EstimatedSalary\"]])"
   ]
  },
  {
   "attachments": {},
   "cell_type": "markdown",
   "metadata": {},
   "source": [
    "Проверим на Пропуски"
   ]
  },
  {
   "cell_type": "code",
   "execution_count": 56,
   "metadata": {},
   "outputs": [
    {
     "data": {
      "text/plain": [
       "CreditScore          0\n",
       "Age                  0\n",
       "Tenure               0\n",
       "Balance              0\n",
       "NumOfProducts        0\n",
       "IsActiveMember       0\n",
       "EstimatedSalary      0\n",
       "Exited               0\n",
       "Geography_Germany    0\n",
       "Geography_Spain      0\n",
       "Gender_Male          0\n",
       "dtype: int64"
      ]
     },
     "execution_count": 56,
     "metadata": {},
     "output_type": "execute_result"
    }
   ],
   "source": [
    "df_ohe_scaled.isna().sum()"
   ]
  },
  {
   "cell_type": "code",
   "execution_count": 57,
   "metadata": {},
   "outputs": [],
   "source": [
    "features = df_ohe_scaled.drop(\"Exited\", axis=1)\n",
    "target = df[\"Exited\"]"
   ]
  },
  {
   "attachments": {},
   "cell_type": "markdown",
   "metadata": {},
   "source": [
    "Деление на обучающую, валидационную и тестовую выборки"
   ]
  },
  {
   "cell_type": "code",
   "execution_count": 58,
   "metadata": {},
   "outputs": [],
   "source": [
    "features_train, features_test0, target_train, target_test0 = train_test_split(features, target, \n",
    "                                                                              test_size=0.6, \n",
    "                                                                              random_state=1)"
   ]
  },
  {
   "cell_type": "code",
   "execution_count": 59,
   "metadata": {},
   "outputs": [
    {
     "data": {
      "text/html": [
       "<div>\n",
       "<style scoped>\n",
       "    .dataframe tbody tr th:only-of-type {\n",
       "        vertical-align: middle;\n",
       "    }\n",
       "\n",
       "    .dataframe tbody tr th {\n",
       "        vertical-align: top;\n",
       "    }\n",
       "\n",
       "    .dataframe thead th {\n",
       "        text-align: right;\n",
       "    }\n",
       "</style>\n",
       "<table border=\"1\" class=\"dataframe\">\n",
       "  <thead>\n",
       "    <tr style=\"text-align: right;\">\n",
       "      <th></th>\n",
       "      <th>Exited</th>\n",
       "    </tr>\n",
       "  </thead>\n",
       "  <tbody>\n",
       "    <tr>\n",
       "      <th>0</th>\n",
       "      <td>4770</td>\n",
       "    </tr>\n",
       "    <tr>\n",
       "      <th>1</th>\n",
       "      <td>1230</td>\n",
       "    </tr>\n",
       "  </tbody>\n",
       "</table>\n",
       "</div>"
      ],
      "text/plain": [
       "   Exited\n",
       "0    4770\n",
       "1    1230"
      ]
     },
     "execution_count": 59,
     "metadata": {},
     "output_type": "execute_result"
    }
   ],
   "source": [
    "target_test0.value_counts().to_frame()"
   ]
  },
  {
   "cell_type": "code",
   "execution_count": 60,
   "metadata": {},
   "outputs": [],
   "source": [
    "features_valid, features_test, target_valid, target_test = train_test_split(features_test0, target_test0, \n",
    "                                                                              test_size=0.5, \n",
    "                                                                              random_state=1)"
   ]
  },
  {
   "cell_type": "code",
   "execution_count": 61,
   "metadata": {},
   "outputs": [
    {
     "data": {
      "text/html": [
       "<div>\n",
       "<style scoped>\n",
       "    .dataframe tbody tr th:only-of-type {\n",
       "        vertical-align: middle;\n",
       "    }\n",
       "\n",
       "    .dataframe tbody tr th {\n",
       "        vertical-align: top;\n",
       "    }\n",
       "\n",
       "    .dataframe thead th {\n",
       "        text-align: right;\n",
       "    }\n",
       "</style>\n",
       "<table border=\"1\" class=\"dataframe\">\n",
       "  <thead>\n",
       "    <tr style=\"text-align: right;\">\n",
       "      <th></th>\n",
       "      <th>Exited</th>\n",
       "    </tr>\n",
       "  </thead>\n",
       "  <tbody>\n",
       "    <tr>\n",
       "      <th>0</th>\n",
       "      <td>2366</td>\n",
       "    </tr>\n",
       "    <tr>\n",
       "      <th>1</th>\n",
       "      <td>634</td>\n",
       "    </tr>\n",
       "  </tbody>\n",
       "</table>\n",
       "</div>"
      ],
      "text/plain": [
       "   Exited\n",
       "0    2366\n",
       "1     634"
      ]
     },
     "execution_count": 61,
     "metadata": {},
     "output_type": "execute_result"
    }
   ],
   "source": [
    "target_test.value_counts().to_frame()"
   ]
  },
  {
   "cell_type": "code",
   "execution_count": 62,
   "metadata": {},
   "outputs": [],
   "source": [
    "features_train = pd.DataFrame(features_train)\n",
    "features_valid = pd.DataFrame(features_valid)\n",
    "target_train = pd.Series(target_train)\n",
    "target_valid = pd.Series(target_valid)"
   ]
  },
  {
   "attachments": {},
   "cell_type": "markdown",
   "metadata": {},
   "source": [
    "## Исследование задачи"
   ]
  },
  {
   "attachments": {},
   "cell_type": "markdown",
   "metadata": {},
   "source": [
    "<h3>Обучение моделей</h3>"
   ]
  },
  {
   "attachments": {},
   "cell_type": "markdown",
   "metadata": {},
   "source": [
    "Создадим модели Логистической регресси и случайного леса и выясним точность и гармоничность, \n",
    "завершив исследование вычислением площади пространства между прямой случайной модели и \n",
    "текущих двух(расчитаем AUC-ROC для каждой отдельно)"
   ]
  },
  {
   "attachments": {},
   "cell_type": "markdown",
   "metadata": {},
   "source": [
    "<h4>Logistic regression</h4>"
   ]
  },
  {
   "cell_type": "code",
   "execution_count": 83,
   "metadata": {},
   "outputs": [
    {
     "name": "stdout",
     "output_type": "stream",
     "text": [
      "Наилучшее качество достигается при max_depth = 8 и n_estimators = 40\n",
      "\n"
     ]
    }
   ],
   "source": [
    "    best_depth = 0\n",
    "    best_est = 0\n",
    "    best_result = 0\n",
    "    for depth in range(8, 15):\n",
    "        for est in range(40, 50):\n",
    "            model_log = LogisticRegression(solver='lbfgs', max_iter=10, random_state=12345)\n",
    "            model_log.fit(features_train, target_train)\n",
    "            result = model.score(features_valid, target_valid)\n",
    "            if result > best_result:\n",
    "                best_result = result\n",
    "                best_depth = depth\n",
    "                best_est = est\n",
    "    print('Наилучшее качество достигается при max_depth =', best_depth, 'и n_estimators =', best_est)\n",
    "    print()     \n",
    "\n"
   ]
  },
  {
   "cell_type": "code",
   "execution_count": 64,
   "metadata": {},
   "outputs": [
    {
     "name": "stdout",
     "output_type": "stream",
     "text": [
      "              precision  recall  f1-score  support\n",
      "0                  0.83    0.97      0.90  2404.00\n",
      "1                  0.66    0.22      0.33   596.00\n",
      "accuracy           0.82    0.82      0.82     0.82\n",
      "macro avg          0.75    0.59      0.61  3000.00\n",
      "weighted avg       0.80    0.82      0.78  3000.00\n"
     ]
    }
   ],
   "source": [
    "predictions_regress = rs_regress.predict(features_valid)\n",
    "\n",
    "report_regress = classification_report(target_valid, predictions_regress, output_dict=True)\n",
    "report_regress = pd.DataFrame(report_regress).transpose()\n",
    "pd.set_option('display.float_format', '{:.2f}'.format)\n",
    "print(report_regress)"
   ]
  },
  {
   "attachments": {},
   "cell_type": "markdown",
   "metadata": {},
   "source": [
    "<h4>Random forest</h4>"
   ]
  },
  {
   "cell_type": "code",
   "execution_count": 84,
   "metadata": {},
   "outputs": [
    {
     "name": "stdout",
     "output_type": "stream",
     "text": [
      "Наилучшее качество достигается при max_depth = 8 и n_estimators = 40\n",
      "\n"
     ]
    }
   ],
   "source": [
    "    best_depth = 0\n",
    "    best_est = 0\n",
    "    best_result = 0\n",
    "    for depth in range(8, 15):\n",
    "        for est in range(40, 50):\n",
    "            model_f = RandomForestClassifier(n_estimators = est, max_depth = depth, random_state=12345)\n",
    "            model_f.fit(features_train, target_train)\n",
    "            result = model.score(features_valid, target_valid)\n",
    "            if result > best_result:\n",
    "                best_result = result\n",
    "                best_depth = depth\n",
    "                best_est = est\n",
    "    print('Наилучшее качество достигается при max_depth =', best_depth, 'и n_estimators =', best_est)\n",
    "    print()     "
   ]
  },
  {
   "attachments": {},
   "cell_type": "markdown",
   "metadata": {},
   "source": [
    "Получим предсказания модели случайного леса и выведем сводный отчет о метриках accuracy, precision, recall, f1-score."
   ]
  },
  {
   "cell_type": "code",
   "execution_count": 85,
   "metadata": {},
   "outputs": [
    {
     "name": "stdout",
     "output_type": "stream",
     "text": [
      "              precision  recall  f1-score  support\n",
      "0                  0.88    0.97      0.92  2404.00\n",
      "1                  0.77    0.46      0.58   596.00\n",
      "accuracy           0.86    0.86      0.86     0.86\n",
      "macro avg          0.82    0.71      0.75  3000.00\n",
      "weighted avg       0.86    0.86      0.85  3000.00\n"
     ]
    }
   ],
   "source": [
    "predictions_forest = model_f.predict(features_valid)\n",
    "\n",
    "report_forest = classification_report(target_valid, predictions_forest, output_dict=True)\n",
    "report_forest = pd.DataFrame(report_forest).transpose()\n",
    "pd.set_option('display.float_format', '{:.2f}'.format)\n",
    "print(report_forest)"
   ]
  },
  {
   "attachments": {},
   "cell_type": "markdown",
   "metadata": {},
   "source": [
    "Случайный лес показал неплохие результаты, продолжим его исследование."
   ]
  },
  {
   "cell_type": "code",
   "execution_count": 87,
   "metadata": {},
   "outputs": [
    {
     "data": {
      "image/png": "[encoded data removed]",
      "text/plain": [
       "<Figure size 504x360 with 1 Axes>"
      ]
     },
     "metadata": {
      "needs_background": "light"
     },
     "output_type": "display_data"
    }
   ],
   "source": [
    "fpr1, tpr1, thresholds1 = roc_curve(target_valid, model_log.predict_proba(features_valid)[:,1], pos_label=1)\n",
    "fpr2, tpr2, thresholds2 = roc_curve(target_valid, model_f.predict_proba(features_valid)[:,1], pos_label=1)\n",
    "\n",
    "auc_regress = roc_auc_score(target_valid, model_log.predict_proba(features_valid)[:,1])\n",
    "auc_forest = roc_auc_score(target_valid, model_f.predict_proba(features_valid)[:,1])\n",
    "\n",
    "lw=2\n",
    "fig, ax = plt.subplots(figsize=(7,5))\n",
    "ax.plot(fpr1, tpr1, lw=lw, label= 'LogisticRegression, AUC-ROC = %.2f' %auc_regress)\n",
    "ax.plot(fpr2, tpr2, lw=lw, label= 'RandomForest, AUC-ROC = %.2f' %auc_forest)\n",
    "\n",
    "plt.title('ROC-кривые моделей', fontsize=16)\n",
    "plt.legend(loc='lower right')\n",
    "plt.plot([0,1], [0,1])\n",
    "plt.xlim([0.0, 1.0])\n",
    "plt.xlabel('FPR', fontsize=16)\n",
    "plt.ylabel('TPR', fontsize=16)\n",
    "plt.ylim([0.0, 1.05])\n",
    "plt.tick_params(which='major', labelsize=14)\n",
    "plt.show()"
   ]
  },
  {
   "cell_type": "code",
   "execution_count": 88,
   "metadata": {},
   "outputs": [
    {
     "name": "stdout",
     "output_type": "stream",
     "text": [
      "                         accuracy  precision  recall   F1  AUC-ROC\n",
      "Логистическая регрессия      0.82       0.66    0.22 0.33     0.67\n",
      "Случайный лес                0.86       0.77    0.46 0.58     0.85\n"
     ]
    }
   ],
   "source": [
    "data = {'accuracy':[report_regress.loc['accuracy', 'support'], report_forest.loc['accuracy', 'support']],\n",
    "        'precision':[report_regress.loc['1', 'precision'], report_forest.loc['1', 'precision']],\n",
    "        'recall':[report_regress.loc['1', 'recall'], report_forest.loc['1', 'recall']],\n",
    "        'F1':[report_regress.loc['1', 'f1-score'], report_forest.loc['1', 'f1-score']],\n",
    "       'AUC-ROC': [auc_regress, auc_forest]}\n",
    "\n",
    "table_compare = pd.DataFrame(data)\n",
    "pd.set_option('display.float_format', '{:.2f}'.format)\n",
    "table_compare.index = ['Логистическая регрессия', 'Случайный лес']\n",
    "print(table_compare)"
   ]
  },
  {
   "attachments": {},
   "cell_type": "markdown",
   "metadata": {},
   "source": [
    "Увеличим и уменьшим выборки, контролируя изменения выходящих ключевых параметров."
   ]
  },
  {
   "attachments": {},
   "cell_type": "markdown",
   "metadata": {},
   "source": [
    "## Борьба с дисбалансом"
   ]
  },
  {
   "attachments": {},
   "cell_type": "markdown",
   "metadata": {},
   "source": [
    "<h3>Upsampling</h3>"
   ]
  },
  {
   "cell_type": "code",
   "execution_count": 93,
   "metadata": {},
   "outputs": [],
   "source": [
    "\n",
    "# Увеличиваем число наблюдений положительного класса\n",
    "def upsample(features, target, repeat):\n",
    "    features_zeros = features[target == 0]\n",
    "    features_ones = features[target == 1]\n",
    "    target_zeros = target[target == 0]\n",
    "    target_ones = target[target == 1]\n",
    "\n",
    "    features_upsampled = pd.concat([features_zeros] + [features_ones] * repeat)\n",
    "    target_upsampled = pd.concat([target_zeros] + [target_ones] * repeat)\n",
    "    \n",
    "    features_upsampled, target_upsampled = shuffle(\n",
    "        features_upsampled, target_upsampled, random_state=12345)\n",
    "    \n",
    "    return features_upsampled, target_upsampled"
   ]
  },
  {
   "cell_type": "code",
   "execution_count": 140,
   "metadata": {},
   "outputs": [],
   "source": [
    "features_upsampled_train, target_upsampled_train = upsample(features_train, target_train, repeat=4)"
   ]
  },
  {
   "attachments": {},
   "cell_type": "markdown",
   "metadata": {},
   "source": [
    "Целевой признак до увеличения выборки"
   ]
  },
  {
   "cell_type": "code",
   "execution_count": 141,
   "metadata": {},
   "outputs": [
    {
     "data": {
      "text/plain": [
       "0    3193\n",
       "1     807\n",
       "Name: Exited, dtype: int64"
      ]
     },
     "execution_count": 141,
     "metadata": {},
     "output_type": "execute_result"
    }
   ],
   "source": [
    "target_train.value_counts()"
   ]
  },
  {
   "attachments": {},
   "cell_type": "markdown",
   "metadata": {},
   "source": [
    "Целевой признак после увеличения выборки"
   ]
  },
  {
   "cell_type": "code",
   "execution_count": 142,
   "metadata": {},
   "outputs": [
    {
     "data": {
      "text/plain": [
       "1    3228\n",
       "0    3193\n",
       "Name: Exited, dtype: int64"
      ]
     },
     "execution_count": 142,
     "metadata": {},
     "output_type": "execute_result"
    }
   ],
   "source": [
    "target_upsampled_train.value_counts()"
   ]
  },
  {
   "attachments": {},
   "cell_type": "markdown",
   "metadata": {},
   "source": [
    "<h4>СЛУЧАЙНЫЙ ЛЕС</h4>"
   ]
  },
  {
   "cell_type": "code",
   "execution_count": 106,
   "metadata": {},
   "outputs": [],
   "source": [
    "features_upsampled, target_upsampled = upsample(features_train, target_train, 10)\n",
    " \n",
    "model_f = RandomForestClassifier(random_state=12345)\n",
    "model_f.fit(features_upsampled,target_upsampled)\n",
    "predicted_valid = model.predict(features_valid)\n"
   ]
  },
  {
   "cell_type": "code",
   "execution_count": 125,
   "metadata": {},
   "outputs": [
    {
     "name": "stdout",
     "output_type": "stream",
     "text": [
      "              precision  recall  f1-score  support\n",
      "0                  0.89    0.93      0.91  2404.00\n",
      "1                  0.66    0.55      0.60   596.00\n",
      "accuracy           0.85    0.85      0.85     0.85\n",
      "macro avg          0.78    0.74      0.76  3000.00\n",
      "weighted avg       0.85    0.85      0.85  3000.00\n"
     ]
    }
   ],
   "source": [
    "predictions_forest_up = model_f.predict(features_valid)\n",
    "\n",
    "report_forest_up = classification_report(target_valid, predictions_forest_up, output_dict=True)\n",
    "report_forest_up = pd.DataFrame(report_forest_up).transpose()\n",
    "\n",
    "print(report_forest_up)"
   ]
  },
  {
   "attachments": {},
   "cell_type": "markdown",
   "metadata": {},
   "source": [
    "<h4>ЛОГИСТИЧЕСКАЯ РЕГРЕССИЯ</h4>"
   ]
  },
  {
   "cell_type": "code",
   "execution_count": 124,
   "metadata": {},
   "outputs": [],
   "source": [
    "features_upsampled, target_upsampled = upsample(features_train, target_train,4)\n",
    " \n",
    "model_log = LogisticRegression(solver='lbfgs', random_state=12345)\n",
    "model_log.fit(features_upsampled,target_upsampled)\n",
    "predicted_valid = model.predict(features_valid)\n"
   ]
  },
  {
   "cell_type": "code",
   "execution_count": 114,
   "metadata": {},
   "outputs": [
    {
     "name": "stdout",
     "output_type": "stream",
     "text": [
      "              precision  recall  f1-score  support\n",
      "0                  0.94    0.35      0.52  2404.00\n",
      "1                  0.26    0.91      0.40   596.00\n",
      "accuracy           0.47    0.47      0.47     0.47\n",
      "macro avg          0.60    0.63      0.46  3000.00\n",
      "weighted avg       0.81    0.47      0.49  3000.00\n"
     ]
    }
   ],
   "source": [
    "predictions_regress_up = model_log.predict(features_valid)\n",
    "\n",
    "report_regress_up = classification_report(target_valid, predictions_regress_up, output_dict=True)\n",
    "report_regress_up = pd.DataFrame(report_regress_up).transpose()\n",
    "pd.set_option('display.float_format', '{:.2f}'.format)\n",
    "print(report_regress_up)"
   ]
  },
  {
   "cell_type": "code",
   "execution_count": 115,
   "metadata": {},
   "outputs": [
    {
     "data": {
      "image/png": "[encoded data removed]",
      "text/plain": [
       "<Figure size 504x360 with 1 Axes>"
      ]
     },
     "metadata": {
      "needs_background": "light"
     },
     "output_type": "display_data"
    }
   ],
   "source": [
    "fpr1, tpr1, thresholds1 = roc_curve(target_valid, model_log.predict_proba(features_valid)[:,1], pos_label=1)\n",
    "fpr2, tpr2, thresholds2 = roc_curve(target_valid, model_f.predict_proba(features_valid)[:,1], pos_label=1)\n",
    "\n",
    "auc_regress_up = roc_auc_score(target_valid, model_log.predict_proba(features_valid)[:,1])\n",
    "auc_forest_up = roc_auc_score(target_valid, model_f.predict_proba(features_valid)[:,1])\n",
    "\n",
    "lw=2\n",
    "fig, ax = plt.subplots(figsize=(7,5))\n",
    "ax.plot(fpr1, tpr1, lw=lw, label= 'LogisticRegression, AUC-ROC = %.2f' %auc_regress_up)\n",
    "ax.plot(fpr2, tpr2, lw=lw, label= 'RandomForest, AUC-ROC = %.2f' %auc_forest_up)\n",
    "\n",
    "plt.title('ROC-кривые моделей (увеличение выборки)', fontsize=16)\n",
    "plt.legend(loc='lower right', prop={'size':12})\n",
    "plt.plot([0,1], [0,1])\n",
    "plt.xlim([0.0, 1.0])\n",
    "plt.xlabel('FPR', fontsize=16)\n",
    "plt.ylabel('TPR', fontsize=16)\n",
    "plt.ylim([0.0, 1.05])\n",
    "plt.tick_params(which='major', labelsize=14)\n",
    "plt.show()"
   ]
  },
  {
   "cell_type": "code",
   "execution_count": 116,
   "metadata": {},
   "outputs": [
    {
     "name": "stdout",
     "output_type": "stream",
     "text": [
      "                         accuracy  precision  recall   F1  AUC-ROC\n",
      "Логистическая регрессия      0.47       0.26    0.91 0.40     0.78\n",
      "Случайный лес                0.85       0.66    0.55 0.60     0.86\n"
     ]
    }
   ],
   "source": [
    "data = {'accuracy':[report_regress_up.loc['accuracy', 'support'], report_forest_up.loc['accuracy', 'support']],\n",
    "        'precision':[report_regress_up.loc['1', 'precision'], report_forest_up.loc['1', 'precision']],\n",
    "        'recall':[report_regress_up.loc['1', 'recall'], report_forest_up.loc['1', 'recall']],\n",
    "        'F1':[report_regress_up.loc['1', 'f1-score'], report_forest_up.loc['1', 'f1-score']],\n",
    "       'AUC-ROC': [auc_regress_up, auc_forest_up]}\n",
    "\n",
    "table_compare = pd.DataFrame(data)\n",
    "\n",
    "table_compare.index = ['Логистическая регрессия', 'Случайный лес']\n",
    "print(table_compare)"
   ]
  },
  {
   "attachments": {},
   "cell_type": "markdown",
   "metadata": {},
   "source": [
    "<h3>Downsampling</h3>"
   ]
  },
  {
   "cell_type": "code",
   "execution_count": 117,
   "metadata": {},
   "outputs": [],
   "source": [
    "def downsample(features, target, fraction):\n",
    "    features_zeros = features[target == 0]\n",
    "    features_ones = features[target == 1]\n",
    "    target_zeros = target[target == 0]\n",
    "    target_ones = target[target == 1]\n",
    "\n",
    "    features_downsampled = pd.concat(\n",
    "        [features_zeros.sample(frac=fraction, random_state=12345)] + [features_ones])\n",
    "    target_downsampled = pd.concat(\n",
    "        [target_zeros.sample(frac=fraction, random_state=12345)] + [target_ones])\n",
    "    \n",
    "    features_downsampled, target_downsampled = shuffle(\n",
    "        features_downsampled, target_downsampled, random_state=12345)\n",
    "    \n",
    "    return features_downsampled, target_downsampled"
   ]
  },
  {
   "cell_type": "code",
   "execution_count": 167,
   "metadata": {},
   "outputs": [],
   "source": [
    "features_downsampled_train, target_downsampled_train = downsample(features_train, target_train, fraction=0.3)"
   ]
  },
  {
   "cell_type": "code",
   "execution_count": 168,
   "metadata": {},
   "outputs": [
    {
     "data": {
      "text/plain": [
       "0    3193\n",
       "1     807\n",
       "Name: Exited, dtype: int64"
      ]
     },
     "execution_count": 168,
     "metadata": {},
     "output_type": "execute_result"
    }
   ],
   "source": [
    "target_train.value_counts()"
   ]
  },
  {
   "cell_type": "code",
   "execution_count": 169,
   "metadata": {},
   "outputs": [
    {
     "data": {
      "text/plain": [
       "0    958\n",
       "1    807\n",
       "Name: Exited, dtype: int64"
      ]
     },
     "execution_count": 169,
     "metadata": {},
     "output_type": "execute_result"
    }
   ],
   "source": [
    "target_downsampled_train.value_counts()"
   ]
  },
  {
   "attachments": {},
   "cell_type": "markdown",
   "metadata": {},
   "source": [
    "<h4>СЛУЧАЙНЫ ЛЕС</h4>"
   ]
  },
  {
   "cell_type": "code",
   "execution_count": 170,
   "metadata": {},
   "outputs": [],
   "source": [
    "features_downsampled, target_downsampled = downsample(features_train, target_train, 0.3)\n",
    " \n",
    "model_f_d = RandomForestClassifier(random_state=12345)\n",
    "model_f_d.fit(features_downsampled,target_downsampled)\n",
    "predicted_valid = model.predict(features_valid)\n"
   ]
  },
  {
   "cell_type": "code",
   "execution_count": 171,
   "metadata": {},
   "outputs": [
    {
     "name": "stdout",
     "output_type": "stream",
     "text": [
      "              precision  recall  f1-score  support\n",
      "0                  0.96    0.49      0.65  2404.00\n",
      "1                  0.31    0.92      0.46   596.00\n",
      "accuracy           0.58    0.58      0.58     0.58\n",
      "macro avg          0.64    0.71      0.56  3000.00\n",
      "weighted avg       0.83    0.58      0.61  3000.00\n"
     ]
    }
   ],
   "source": [
    "predictions_forest_down = model_f_d.predict(features_valid)\n",
    "\n",
    "report_forest_down = classification_report(target_valid, predictions_forest_down, output_dict=True)\n",
    "report_forest_down = pd.DataFrame(report_forest_down).transpose()\n",
    "\n",
    "print(report_forest_down)"
   ]
  },
  {
   "attachments": {},
   "cell_type": "markdown",
   "metadata": {},
   "source": [
    "<h4>ЛОГИСТИЧЕСКАЯ РЕГРЕССИЯ</h4>"
   ]
  },
  {
   "cell_type": "code",
   "execution_count": 172,
   "metadata": {},
   "outputs": [],
   "source": [
    "features_downsampled, target_downsampled = downsample(features_train, target_train, 0.3)\n",
    "\n",
    "model_log_d = LogisticRegression(solver='liblinear', random_state=12345)\n",
    "model_log_d.fit(features_downsampled,target_downsampled)\n",
    "predicted_valid = model.predict(features_valid)"
   ]
  },
  {
   "cell_type": "code",
   "execution_count": 173,
   "metadata": {},
   "outputs": [
    {
     "name": "stdout",
     "output_type": "stream",
     "text": [
      "              precision  recall  f1-score  support\n",
      "0                  0.95    0.35      0.51  2404.00\n",
      "1                  0.26    0.92      0.41   596.00\n",
      "accuracy           0.47    0.47      0.47     0.47\n",
      "macro avg          0.61    0.64      0.46  3000.00\n",
      "weighted avg       0.81    0.47      0.49  3000.00\n"
     ]
    }
   ],
   "source": [
    "predictions_regress_down = model_log_d.predict(features_valid)\n",
    "\n",
    "report_regress_down = classification_report(target_valid, predictions_regress_down, output_dict=True)\n",
    "report_regress_down = pd.DataFrame(report_regress_down).transpose()\n",
    "\n",
    "print(report_regress_down)"
   ]
  },
  {
   "cell_type": "code",
   "execution_count": 174,
   "metadata": {},
   "outputs": [
    {
     "data": {
      "image/png": "[encoded data removed]",
      "text/plain": [
       "<Figure size 504x360 with 1 Axes>"
      ]
     },
     "metadata": {
      "needs_background": "light"
     },
     "output_type": "display_data"
    }
   ],
   "source": [
    "fpr1, tpr1, thresholds1 = roc_curve(target_valid, model_log_d.predict_proba(features_valid)[:,1], pos_label=1)\n",
    "fpr2, tpr2, thresholds2 = roc_curve(target_valid, model_f_d.predict_proba(features_valid)[:,1], pos_label=1)\n",
    "\n",
    "auc_regress_down = roc_auc_score(target_valid, model_log_d.predict_proba(features_valid)[:,1])\n",
    "auc_forest_down = roc_auc_score(target_valid, model_f_d.predict_proba(features_valid)[:,1])\n",
    "\n",
    "lw=2\n",
    "fig, ax = plt.subplots(figsize=(7,5))\n",
    "ax.plot(fpr1, tpr1, lw=lw, label= 'LogisticRegression, AUC-ROC = %.2f' %auc_regress_down)\n",
    "ax.plot(fpr2, tpr2, lw=lw, label= 'RandomForest, AUC-ROC = %.2f' %auc_forest_down)\n",
    "\n",
    "plt.title('ROC-кривые моделей (уменьшение выборки)', fontsize=16)\n",
    "plt.legend(loc='lower right', prop={'size':12})\n",
    "plt.plot([0,1], [0,1])\n",
    "plt.xlim([0.0, 1.0])\n",
    "plt.xlabel('FPR', fontsize=16)\n",
    "plt.ylabel('TPR', fontsize=16)\n",
    "plt.ylim([0.0, 1.05])\n",
    "plt.tick_params(which='major', labelsize=14)\n",
    "plt.show()"
   ]
  },
  {
   "cell_type": "code",
   "execution_count": 175,
   "metadata": {},
   "outputs": [
    {
     "name": "stdout",
     "output_type": "stream",
     "text": [
      "                         accuracy  precision  recall   F1  AUC-ROC\n",
      "Логистическая регрессия      0.47       0.26    0.92 0.41     0.79\n",
      "Случайный лес                0.58       0.31    0.92 0.46     0.85\n"
     ]
    }
   ],
   "source": [
    "data = {'accuracy':[report_regress_down.loc['accuracy', 'support'], report_forest_down.loc['accuracy', 'support']],\n",
    "        'precision':[report_regress_down.loc['1', 'precision'], report_forest_down.loc['1', 'precision']],\n",
    "        'recall':[report_regress_down.loc['1', 'recall'], report_forest_down.loc['1', 'recall']],\n",
    "        'F1':[report_regress_down.loc['1', 'f1-score'], report_forest_down.loc['1', 'f1-score']],\n",
    "       'AUC-ROC': [auc_regress_down, auc_forest_down]}\n",
    "\n",
    "table_compare = pd.DataFrame(data)\n",
    "\n",
    "table_compare.index = ['Логистическая регрессия', 'Случайный лес']\n",
    "print(table_compare)"
   ]
  },
  {
   "attachments": {},
   "cell_type": "markdown",
   "metadata": {},
   "source": [
    "## Тестирование модели"
   ]
  },
  {
   "cell_type": "code",
   "execution_count": 176,
   "metadata": {},
   "outputs": [
    {
     "name": "stdout",
     "output_type": "stream",
     "text": [
      "              precision  recall  f1-score  support\n",
      "0                  0.88    0.94      0.91  2366.00\n",
      "1                  0.69    0.54      0.60   634.00\n",
      "accuracy           0.85    0.85      0.85     0.85\n",
      "macro avg          0.79    0.74      0.76  3000.00\n",
      "weighted avg       0.84    0.85      0.84  3000.00\n"
     ]
    }
   ],
   "source": [
    "predictions_forest_balanced_test = model_f.predict(features_test)\n",
    "\n",
    "report_forest_balanced_test = classification_report(target_test, predictions_forest_balanced_test, output_dict=True)\n",
    "report_forest_balanced_test = pd.DataFrame(report_forest_balanced_test).transpose()\n",
    "\n",
    "print(report_forest_balanced_test)"
   ]
  },
  {
   "cell_type": "code",
   "execution_count": 177,
   "metadata": {},
   "outputs": [
    {
     "data": {
      "image/png": "[encoded data removed]",
      "text/plain": [
       "<Figure size 432x288 with 1 Axes>"
      ]
     },
     "metadata": {
      "needs_background": "light"
     },
     "output_type": "display_data"
    }
   ],
   "source": [
    "fpr, tpr, thresholds = roc_curve(target_test, model_f_d.predict_proba(features_test)[:,1], pos_label=1)\n",
    "auc_forest_test = roc_auc_score(target_test, model_f_d.predict_proba(features_test)[:,1])\n",
    "lw=2\n",
    "plt.plot(fpr, tpr, lw=lw, label= 'RandomForest, AUC-ROC = %.2f' %auc_forest_test)\n",
    "\n",
    "plt.title('ROC-кривая на тестовой выборке', fontsize=16)\n",
    "plt.legend(loc='lower right', prop={'size':12})\n",
    "plt.plot([0,1], [0,1])\n",
    "plt.xlim([0.0, 1.0])\n",
    "plt.xlabel('FPR', fontsize=16)\n",
    "plt.ylabel('TPR', fontsize=16)\n",
    "plt.ylim([0.0, 1.05])\n",
    "plt.tick_params(which='major', labelsize=14)\n",
    "plt.show()"
   ]
  },
  {
   "attachments": {},
   "cell_type": "markdown",
   "metadata": {},
   "source": [
    "<h2>Вывод:</h2>"
   ]
  },
  {
   "attachments": {},
   "cell_type": "markdown",
   "metadata": {},
   "source": [
    "- В результате первичного анализа, был выялен явный дисбаланс калассов отрицательного к положительному - 4 к 1.\n",
    "- Выполнили этап предобработки данных, Осуществили заполнение пропусков, провели шкалирование, сделали One_hot_encoding. \n",
    "- Модель логистической регресси до борьбы сдисбалансом, показала результат 0.33, а модель случайного леса с рекзултативностью метрики f1 - 58%.\n",
    "- Сделали upsampling положительного класса случайного леса, благодаря чему удалось достич показателя f1 меры 60%. Dowmsampling оказался более эффективен.\n",
    "- Проверка на тестовой выборке показала, что не изменилась метрика f1 и осталась 60%."
   ]
  }
 ],
 "metadata": {
  "ExecuteTimeLog": [
   {
    "duration": 1779,
    "start_time": "2023-02-13T18:50:37.049Z"
   },
   {
    "duration": 61,
    "start_time": "2023-02-13T18:54:21.988Z"
   },
   {
    "duration": 45,
    "start_time": "2023-02-13T18:54:48.940Z"
   },
   {
    "duration": 57,
    "start_time": "2023-02-13T18:55:38.593Z"
   },
   {
    "duration": 56,
    "start_time": "2023-02-13T18:57:01.376Z"
   },
   {
    "duration": 56,
    "start_time": "2023-02-13T18:58:15.378Z"
   },
   {
    "duration": 54,
    "start_time": "2023-02-13T19:01:56.710Z"
   },
   {
    "duration": 69,
    "start_time": "2023-02-13T19:02:12.430Z"
   },
   {
    "duration": 52,
    "start_time": "2023-02-13T19:03:52.635Z"
   },
   {
    "duration": 87,
    "start_time": "2023-02-16T07:23:22.609Z"
   },
   {
    "duration": 73,
    "start_time": "2023-02-16T07:23:29.351Z"
   },
   {
    "duration": 55,
    "start_time": "2023-02-16T07:23:34.328Z"
   },
   {
    "duration": 37,
    "start_time": "2023-02-16T07:23:42.252Z"
   },
   {
    "duration": 14,
    "start_time": "2023-02-16T07:24:03.338Z"
   },
   {
    "duration": 4,
    "start_time": "2023-02-16T07:24:29.128Z"
   },
   {
    "duration": 11,
    "start_time": "2023-02-16T07:24:42.475Z"
   },
   {
    "duration": 52,
    "start_time": "2023-02-16T07:25:20.137Z"
   },
   {
    "duration": 13,
    "start_time": "2023-02-16T07:25:32.422Z"
   },
   {
    "duration": 14,
    "start_time": "2023-02-16T07:25:51.101Z"
   },
   {
    "duration": 12,
    "start_time": "2023-02-16T07:25:53.729Z"
   },
   {
    "duration": 17,
    "start_time": "2023-02-16T07:25:54.227Z"
   },
   {
    "duration": 38,
    "start_time": "2023-02-16T07:25:56.820Z"
   },
   {
    "duration": 13,
    "start_time": "2023-02-16T07:25:57.251Z"
   },
   {
    "duration": 4,
    "start_time": "2023-02-16T07:25:57.698Z"
   },
   {
    "duration": 14,
    "start_time": "2023-02-16T07:26:11.493Z"
   },
   {
    "duration": 13,
    "start_time": "2023-02-16T07:26:14.541Z"
   },
   {
    "duration": 12,
    "start_time": "2023-02-16T07:26:38.396Z"
   },
   {
    "duration": 23,
    "start_time": "2023-02-16T07:26:39.044Z"
   },
   {
    "duration": 16,
    "start_time": "2023-02-16T07:26:54.371Z"
   },
   {
    "duration": 12,
    "start_time": "2023-02-16T07:26:57.245Z"
   },
   {
    "duration": 14,
    "start_time": "2023-02-16T07:26:57.743Z"
   },
   {
    "duration": 17,
    "start_time": "2023-02-16T07:27:23.318Z"
   },
   {
    "duration": 16,
    "start_time": "2023-02-16T07:27:25.469Z"
   },
   {
    "duration": 15,
    "start_time": "2023-02-16T07:27:26.050Z"
   },
   {
    "duration": 39,
    "start_time": "2023-02-16T07:27:54.120Z"
   },
   {
    "duration": 14,
    "start_time": "2023-02-16T07:27:54.956Z"
   },
   {
    "duration": 6,
    "start_time": "2023-02-16T07:28:16.419Z"
   },
   {
    "duration": 14,
    "start_time": "2023-02-16T07:28:32.416Z"
   },
   {
    "duration": 18,
    "start_time": "2023-02-16T07:28:33.117Z"
   },
   {
    "duration": 16,
    "start_time": "2023-02-16T07:28:34.102Z"
   },
   {
    "duration": 37,
    "start_time": "2023-02-16T07:28:39.632Z"
   },
   {
    "duration": 14,
    "start_time": "2023-02-16T07:28:39.672Z"
   },
   {
    "duration": 7,
    "start_time": "2023-02-16T07:28:39.688Z"
   },
   {
    "duration": 13,
    "start_time": "2023-02-16T07:28:39.696Z"
   },
   {
    "duration": 10,
    "start_time": "2023-02-16T07:31:18.441Z"
   },
   {
    "duration": 7,
    "start_time": "2023-02-16T07:32:38.834Z"
   },
   {
    "duration": 6,
    "start_time": "2023-02-16T07:33:16.423Z"
   },
   {
    "duration": 10,
    "start_time": "2023-02-16T07:35:31.451Z"
   },
   {
    "duration": 11,
    "start_time": "2023-02-16T07:36:40.351Z"
   },
   {
    "duration": 6,
    "start_time": "2023-02-16T07:36:52.875Z"
   },
   {
    "duration": 1212,
    "start_time": "2023-02-16T07:36:54.360Z"
   },
   {
    "duration": 0,
    "start_time": "2023-02-16T07:36:55.574Z"
   },
   {
    "duration": 11,
    "start_time": "2023-02-16T07:36:55.719Z"
   },
   {
    "duration": 16,
    "start_time": "2023-02-16T07:36:56.313Z"
   },
   {
    "duration": 39,
    "start_time": "2023-02-16T07:37:03.758Z"
   },
   {
    "duration": 14,
    "start_time": "2023-02-16T07:37:03.799Z"
   },
   {
    "duration": 40,
    "start_time": "2023-02-16T07:37:03.814Z"
   },
   {
    "duration": 23,
    "start_time": "2023-02-16T07:37:03.855Z"
   },
   {
    "duration": 16,
    "start_time": "2023-02-16T07:37:03.880Z"
   },
   {
    "duration": 29,
    "start_time": "2023-02-16T07:37:03.898Z"
   },
   {
    "duration": 31,
    "start_time": "2023-02-16T07:37:03.929Z"
   },
   {
    "duration": 33,
    "start_time": "2023-02-16T07:37:03.962Z"
   },
   {
    "duration": 9,
    "start_time": "2023-02-16T07:37:03.997Z"
   },
   {
    "duration": 0,
    "start_time": "2023-02-16T07:37:04.007Z"
   },
   {
    "duration": 1156,
    "start_time": "2023-02-16T07:37:17.744Z"
   },
   {
    "duration": 0,
    "start_time": "2023-02-16T07:37:18.903Z"
   },
   {
    "duration": 9,
    "start_time": "2023-02-16T07:37:19.745Z"
   },
   {
    "duration": 36,
    "start_time": "2023-02-16T07:37:49.530Z"
   },
   {
    "duration": 13,
    "start_time": "2023-02-16T07:37:49.569Z"
   },
   {
    "duration": 9,
    "start_time": "2023-02-16T07:37:49.583Z"
   },
   {
    "duration": 13,
    "start_time": "2023-02-16T07:37:49.593Z"
   },
   {
    "duration": 22,
    "start_time": "2023-02-16T07:37:49.608Z"
   },
   {
    "duration": 7,
    "start_time": "2023-02-16T07:37:49.632Z"
   },
   {
    "duration": 10,
    "start_time": "2023-02-16T07:37:49.641Z"
   },
   {
    "duration": 11,
    "start_time": "2023-02-16T07:37:49.653Z"
   },
   {
    "duration": 17,
    "start_time": "2023-02-16T07:37:49.666Z"
   },
   {
    "duration": 6,
    "start_time": "2023-02-16T07:38:20.393Z"
   },
   {
    "duration": 4,
    "start_time": "2023-02-16T07:38:28.936Z"
   },
   {
    "duration": 10,
    "start_time": "2023-02-16T07:44:48.725Z"
   },
   {
    "duration": 40,
    "start_time": "2023-02-16T07:44:53.626Z"
   },
   {
    "duration": 14,
    "start_time": "2023-02-16T07:44:53.668Z"
   },
   {
    "duration": 22,
    "start_time": "2023-02-16T07:44:53.684Z"
   },
   {
    "duration": 17,
    "start_time": "2023-02-16T07:44:53.708Z"
   },
   {
    "duration": 35,
    "start_time": "2023-02-16T07:44:53.727Z"
   },
   {
    "duration": 23,
    "start_time": "2023-02-16T07:44:53.764Z"
   },
   {
    "duration": 17,
    "start_time": "2023-02-16T07:44:53.789Z"
   },
   {
    "duration": 21,
    "start_time": "2023-02-16T07:44:53.808Z"
   },
   {
    "duration": 8,
    "start_time": "2023-02-16T07:44:53.831Z"
   },
   {
    "duration": 6,
    "start_time": "2023-02-16T07:44:53.841Z"
   },
   {
    "duration": 7,
    "start_time": "2023-02-16T07:44:53.849Z"
   },
   {
    "duration": 8,
    "start_time": "2023-02-16T07:44:53.858Z"
   },
   {
    "duration": 19,
    "start_time": "2023-02-16T07:44:53.868Z"
   },
   {
    "duration": 4,
    "start_time": "2023-02-16T07:44:53.890Z"
   },
   {
    "duration": 907,
    "start_time": "2023-02-16T07:44:53.927Z"
   },
   {
    "duration": 11,
    "start_time": "2023-02-16T07:45:29.748Z"
   },
   {
    "duration": 74,
    "start_time": "2023-02-16T07:46:28.424Z"
   },
   {
    "duration": 4,
    "start_time": "2023-02-16T07:49:40.319Z"
   },
   {
    "duration": 37,
    "start_time": "2023-02-16T07:50:09.274Z"
   },
   {
    "duration": 32,
    "start_time": "2023-02-16T07:50:09.312Z"
   },
   {
    "duration": 4,
    "start_time": "2023-02-16T07:50:09.347Z"
   },
   {
    "duration": 12,
    "start_time": "2023-02-16T07:50:09.352Z"
   },
   {
    "duration": 15,
    "start_time": "2023-02-16T07:50:09.365Z"
   },
   {
    "duration": 12,
    "start_time": "2023-02-16T07:50:09.382Z"
   },
   {
    "duration": 36,
    "start_time": "2023-02-16T07:50:09.396Z"
   },
   {
    "duration": 11,
    "start_time": "2023-02-16T07:50:09.434Z"
   },
   {
    "duration": 6,
    "start_time": "2023-02-16T07:50:09.448Z"
   },
   {
    "duration": 9,
    "start_time": "2023-02-16T07:50:09.456Z"
   },
   {
    "duration": 17,
    "start_time": "2023-02-16T07:50:09.470Z"
   },
   {
    "duration": 11,
    "start_time": "2023-02-16T07:50:09.489Z"
   },
   {
    "duration": 27,
    "start_time": "2023-02-16T07:50:09.502Z"
   },
   {
    "duration": 4,
    "start_time": "2023-02-16T07:50:09.530Z"
   },
   {
    "duration": 708,
    "start_time": "2023-02-16T07:50:09.536Z"
   },
   {
    "duration": 14,
    "start_time": "2023-02-16T07:50:10.328Z"
   },
   {
    "duration": 187,
    "start_time": "2023-02-16T07:50:10.347Z"
   },
   {
    "duration": 3,
    "start_time": "2023-02-16T07:51:07.546Z"
   },
   {
    "duration": 28340,
    "start_time": "2023-02-16T07:51:07.551Z"
   },
   {
    "duration": 19,
    "start_time": "2023-02-16T07:51:35.894Z"
   },
   {
    "duration": 75,
    "start_time": "2023-02-16T07:56:12.267Z"
   },
   {
    "duration": 9,
    "start_time": "2023-02-16T07:57:11.325Z"
   },
   {
    "duration": 12,
    "start_time": "2023-02-16T07:57:39.765Z"
   },
   {
    "duration": 37,
    "start_time": "2023-02-16T07:58:30.054Z"
   },
   {
    "duration": 14,
    "start_time": "2023-02-16T07:58:30.093Z"
   },
   {
    "duration": 19,
    "start_time": "2023-02-16T07:58:30.108Z"
   },
   {
    "duration": 26,
    "start_time": "2023-02-16T07:58:30.129Z"
   },
   {
    "duration": 14,
    "start_time": "2023-02-16T07:58:30.157Z"
   },
   {
    "duration": 9,
    "start_time": "2023-02-16T07:58:30.173Z"
   },
   {
    "duration": 28,
    "start_time": "2023-02-16T07:58:30.183Z"
   },
   {
    "duration": 41,
    "start_time": "2023-02-16T07:58:30.215Z"
   },
   {
    "duration": 56,
    "start_time": "2023-02-16T07:58:30.258Z"
   },
   {
    "duration": 63,
    "start_time": "2023-02-16T07:58:30.316Z"
   },
   {
    "duration": 34,
    "start_time": "2023-02-16T07:58:30.381Z"
   },
   {
    "duration": 78,
    "start_time": "2023-02-16T07:58:30.418Z"
   },
   {
    "duration": 46,
    "start_time": "2023-02-16T07:58:30.498Z"
   },
   {
    "duration": 39,
    "start_time": "2023-02-16T07:58:30.549Z"
   },
   {
    "duration": 741,
    "start_time": "2023-02-16T07:58:30.590Z"
   },
   {
    "duration": 9,
    "start_time": "2023-02-16T07:58:31.333Z"
   },
   {
    "duration": 4,
    "start_time": "2023-02-16T07:58:31.428Z"
   },
   {
    "duration": 28347,
    "start_time": "2023-02-16T07:58:31.434Z"
   },
   {
    "duration": 21,
    "start_time": "2023-02-16T07:58:59.783Z"
   },
   {
    "duration": 4,
    "start_time": "2023-02-16T07:58:59.807Z"
   },
   {
    "duration": 34,
    "start_time": "2023-02-16T07:58:59.829Z"
   },
   {
    "duration": 40783,
    "start_time": "2023-02-16T07:58:59.865Z"
   },
   {
    "duration": 28,
    "start_time": "2023-02-16T07:59:40.651Z"
   },
   {
    "duration": 28,
    "start_time": "2023-02-16T08:00:21.791Z"
   },
   {
    "duration": 9,
    "start_time": "2023-02-16T08:02:43.212Z"
   },
   {
    "duration": 12,
    "start_time": "2023-02-16T08:02:43.500Z"
   },
   {
    "duration": 5,
    "start_time": "2023-02-16T08:02:46.475Z"
   },
   {
    "duration": 13,
    "start_time": "2023-02-16T08:02:46.836Z"
   },
   {
    "duration": 19091,
    "start_time": "2023-02-16T08:02:47.345Z"
   },
   {
    "duration": 19,
    "start_time": "2023-02-16T08:03:06.437Z"
   },
   {
    "duration": 17,
    "start_time": "2023-02-16T08:03:28.034Z"
   },
   {
    "duration": 16,
    "start_time": "2023-02-16T08:06:46.711Z"
   },
   {
    "duration": 17,
    "start_time": "2023-02-16T08:24:05.244Z"
   },
   {
    "duration": 15,
    "start_time": "2023-02-16T08:25:38.265Z"
   },
   {
    "duration": 16,
    "start_time": "2023-02-16T08:36:27.278Z"
   },
   {
    "duration": 9,
    "start_time": "2023-02-16T08:36:28.304Z"
   },
   {
    "duration": 9,
    "start_time": "2023-02-16T08:36:44.730Z"
   },
   {
    "duration": 27,
    "start_time": "2023-02-16T08:37:04.635Z"
   },
   {
    "duration": 22,
    "start_time": "2023-02-16T08:42:50.558Z"
   },
   {
    "duration": 21,
    "start_time": "2023-02-16T08:43:03.423Z"
   },
   {
    "duration": 36,
    "start_time": "2023-02-16T08:43:09.680Z"
   },
   {
    "duration": 22,
    "start_time": "2023-02-16T08:43:09.718Z"
   },
   {
    "duration": 8,
    "start_time": "2023-02-16T08:43:09.741Z"
   },
   {
    "duration": 13,
    "start_time": "2023-02-16T08:43:09.752Z"
   },
   {
    "duration": 7,
    "start_time": "2023-02-16T08:43:09.766Z"
   },
   {
    "duration": 7,
    "start_time": "2023-02-16T08:43:09.775Z"
   },
   {
    "duration": 12,
    "start_time": "2023-02-16T08:43:09.783Z"
   },
   {
    "duration": 43,
    "start_time": "2023-02-16T08:43:09.796Z"
   },
   {
    "duration": 6,
    "start_time": "2023-02-16T08:43:09.841Z"
   },
   {
    "duration": 23,
    "start_time": "2023-02-16T08:43:09.849Z"
   },
   {
    "duration": 10,
    "start_time": "2023-02-16T08:43:09.874Z"
   },
   {
    "duration": 8,
    "start_time": "2023-02-16T08:43:09.885Z"
   },
   {
    "duration": 5,
    "start_time": "2023-02-16T08:43:09.895Z"
   },
   {
    "duration": 4,
    "start_time": "2023-02-16T08:43:09.901Z"
   },
   {
    "duration": 4025,
    "start_time": "2023-02-16T08:43:09.907Z"
   },
   {
    "duration": 98,
    "start_time": "2023-02-16T08:43:13.934Z"
   },
   {
    "duration": 107,
    "start_time": "2023-02-16T08:43:14.041Z"
   },
   {
    "duration": 28120,
    "start_time": "2023-02-16T08:43:14.150Z"
   },
   {
    "duration": 14,
    "start_time": "2023-02-16T08:43:42.271Z"
   },
   {
    "duration": 11,
    "start_time": "2023-02-16T08:43:42.287Z"
   },
   {
    "duration": 0,
    "start_time": "2023-02-16T08:43:42.299Z"
   },
   {
    "duration": 0,
    "start_time": "2023-02-16T08:43:42.300Z"
   },
   {
    "duration": 0,
    "start_time": "2023-02-16T08:43:42.301Z"
   },
   {
    "duration": 0,
    "start_time": "2023-02-16T08:43:42.302Z"
   },
   {
    "duration": 0,
    "start_time": "2023-02-16T08:43:42.303Z"
   },
   {
    "duration": 0,
    "start_time": "2023-02-16T08:43:42.304Z"
   },
   {
    "duration": 0,
    "start_time": "2023-02-16T08:43:42.328Z"
   },
   {
    "duration": 0,
    "start_time": "2023-02-16T08:43:42.329Z"
   },
   {
    "duration": 1,
    "start_time": "2023-02-16T08:43:42.333Z"
   },
   {
    "duration": 0,
    "start_time": "2023-02-16T08:43:42.334Z"
   },
   {
    "duration": 12,
    "start_time": "2023-02-16T08:44:46.645Z"
   },
   {
    "duration": 2240,
    "start_time": "2023-02-16T08:44:50.588Z"
   },
   {
    "duration": 2012,
    "start_time": "2023-02-16T08:45:12.322Z"
   },
   {
    "duration": 102,
    "start_time": "2023-02-16T08:45:14.341Z"
   },
   {
    "duration": 3739,
    "start_time": "2023-02-16T08:45:54.991Z"
   },
   {
    "duration": 45,
    "start_time": "2023-02-16T08:46:04.857Z"
   },
   {
    "duration": 12,
    "start_time": "2023-02-16T08:46:04.905Z"
   },
   {
    "duration": 5,
    "start_time": "2023-02-16T08:46:04.919Z"
   },
   {
    "duration": 32,
    "start_time": "2023-02-16T08:46:04.927Z"
   },
   {
    "duration": 11,
    "start_time": "2023-02-16T08:46:04.960Z"
   },
   {
    "duration": 14,
    "start_time": "2023-02-16T08:46:04.972Z"
   },
   {
    "duration": 12,
    "start_time": "2023-02-16T08:46:04.988Z"
   },
   {
    "duration": 11,
    "start_time": "2023-02-16T08:46:05.002Z"
   },
   {
    "duration": 13,
    "start_time": "2023-02-16T08:46:05.015Z"
   },
   {
    "duration": 28,
    "start_time": "2023-02-16T08:46:05.032Z"
   },
   {
    "duration": 24,
    "start_time": "2023-02-16T08:46:05.062Z"
   },
   {
    "duration": 20,
    "start_time": "2023-02-16T08:46:05.088Z"
   },
   {
    "duration": 6,
    "start_time": "2023-02-16T08:46:05.109Z"
   },
   {
    "duration": 8,
    "start_time": "2023-02-16T08:46:05.117Z"
   },
   {
    "duration": 2102,
    "start_time": "2023-02-16T08:46:05.128Z"
   },
   {
    "duration": 94,
    "start_time": "2023-02-16T08:46:07.238Z"
   },
   {
    "duration": 2492,
    "start_time": "2023-02-16T08:46:07.340Z"
   },
   {
    "duration": 0,
    "start_time": "2023-02-16T08:46:09.834Z"
   },
   {
    "duration": 0,
    "start_time": "2023-02-16T08:46:09.835Z"
   },
   {
    "duration": 0,
    "start_time": "2023-02-16T08:46:09.836Z"
   },
   {
    "duration": 0,
    "start_time": "2023-02-16T08:46:09.836Z"
   },
   {
    "duration": 0,
    "start_time": "2023-02-16T08:46:09.837Z"
   },
   {
    "duration": 0,
    "start_time": "2023-02-16T08:46:09.838Z"
   },
   {
    "duration": 0,
    "start_time": "2023-02-16T08:46:09.839Z"
   },
   {
    "duration": 0,
    "start_time": "2023-02-16T08:46:09.840Z"
   },
   {
    "duration": 0,
    "start_time": "2023-02-16T08:46:09.840Z"
   },
   {
    "duration": 0,
    "start_time": "2023-02-16T08:46:09.841Z"
   },
   {
    "duration": 0,
    "start_time": "2023-02-16T08:46:09.842Z"
   },
   {
    "duration": 0,
    "start_time": "2023-02-16T08:46:09.843Z"
   },
   {
    "duration": 0,
    "start_time": "2023-02-16T08:46:09.844Z"
   },
   {
    "duration": 1288,
    "start_time": "2023-02-16T08:48:11.544Z"
   },
   {
    "duration": 15,
    "start_time": "2023-02-16T08:48:34.905Z"
   },
   {
    "duration": 26,
    "start_time": "2023-02-16T08:49:06.371Z"
   },
   {
    "duration": 48,
    "start_time": "2023-02-16T08:52:56.918Z"
   },
   {
    "duration": 14,
    "start_time": "2023-02-16T08:52:56.968Z"
   },
   {
    "duration": 8,
    "start_time": "2023-02-16T08:52:56.983Z"
   },
   {
    "duration": 12,
    "start_time": "2023-02-16T08:52:56.993Z"
   },
   {
    "duration": 6,
    "start_time": "2023-02-16T08:52:57.008Z"
   },
   {
    "duration": 15,
    "start_time": "2023-02-16T08:52:57.016Z"
   },
   {
    "duration": 20,
    "start_time": "2023-02-16T08:52:57.037Z"
   },
   {
    "duration": 13,
    "start_time": "2023-02-16T08:52:57.059Z"
   },
   {
    "duration": 9,
    "start_time": "2023-02-16T08:52:57.074Z"
   },
   {
    "duration": 9,
    "start_time": "2023-02-16T08:52:57.085Z"
   },
   {
    "duration": 5,
    "start_time": "2023-02-16T08:52:57.096Z"
   },
   {
    "duration": 7,
    "start_time": "2023-02-16T08:52:57.103Z"
   },
   {
    "duration": 23,
    "start_time": "2023-02-16T08:52:57.128Z"
   },
   {
    "duration": 4,
    "start_time": "2023-02-16T08:52:57.154Z"
   },
   {
    "duration": 3085,
    "start_time": "2023-02-16T08:52:57.159Z"
   },
   {
    "duration": 91,
    "start_time": "2023-02-16T08:53:00.246Z"
   },
   {
    "duration": 115,
    "start_time": "2023-02-16T08:53:00.348Z"
   },
   {
    "duration": 28878,
    "start_time": "2023-02-16T08:53:00.465Z"
   },
   {
    "duration": 23,
    "start_time": "2023-02-16T08:53:29.344Z"
   },
   {
    "duration": 4,
    "start_time": "2023-02-16T08:53:29.369Z"
   },
   {
    "duration": 13,
    "start_time": "2023-02-16T08:53:29.375Z"
   },
   {
    "duration": 40780,
    "start_time": "2023-02-16T08:53:29.390Z"
   },
   {
    "duration": 25,
    "start_time": "2023-02-16T08:54:10.172Z"
   },
   {
    "duration": 5,
    "start_time": "2023-02-16T08:54:10.198Z"
   },
   {
    "duration": 35,
    "start_time": "2023-02-16T08:54:10.204Z"
   },
   {
    "duration": 20128,
    "start_time": "2023-02-16T08:54:10.240Z"
   },
   {
    "duration": 29,
    "start_time": "2023-02-16T08:54:30.371Z"
   },
   {
    "duration": 58,
    "start_time": "2023-02-16T08:54:30.402Z"
   },
   {
    "duration": 51,
    "start_time": "2023-02-17T15:18:28.178Z"
   },
   {
    "duration": 1276,
    "start_time": "2023-02-17T15:18:32.279Z"
   },
   {
    "duration": 29,
    "start_time": "2023-02-17T15:18:33.558Z"
   },
   {
    "duration": 13,
    "start_time": "2023-02-17T15:18:33.589Z"
   },
   {
    "duration": 39,
    "start_time": "2023-02-17T15:18:33.604Z"
   },
   {
    "duration": 32,
    "start_time": "2023-02-17T15:18:33.646Z"
   },
   {
    "duration": 19,
    "start_time": "2023-02-17T15:18:33.680Z"
   },
   {
    "duration": 30,
    "start_time": "2023-02-17T15:18:33.701Z"
   },
   {
    "duration": 23,
    "start_time": "2023-02-17T15:18:33.733Z"
   },
   {
    "duration": 29,
    "start_time": "2023-02-17T15:18:33.758Z"
   },
   {
    "duration": 24,
    "start_time": "2023-02-17T15:18:33.789Z"
   },
   {
    "duration": 18,
    "start_time": "2023-02-17T15:18:33.815Z"
   },
   {
    "duration": 31,
    "start_time": "2023-02-17T15:18:33.835Z"
   },
   {
    "duration": 25,
    "start_time": "2023-02-17T15:18:33.868Z"
   },
   {
    "duration": 20,
    "start_time": "2023-02-17T15:18:33.896Z"
   },
   {
    "duration": 1620,
    "start_time": "2023-02-17T15:18:33.918Z"
   },
   {
    "duration": 98,
    "start_time": "2023-02-17T15:18:35.540Z"
   },
   {
    "duration": 111,
    "start_time": "2023-02-17T15:18:35.640Z"
   },
   {
    "duration": 28383,
    "start_time": "2023-02-17T15:18:35.754Z"
   },
   {
    "duration": 16,
    "start_time": "2023-02-17T15:19:04.139Z"
   },
   {
    "duration": 7,
    "start_time": "2023-02-17T15:19:04.157Z"
   },
   {
    "duration": 17,
    "start_time": "2023-02-17T15:19:04.166Z"
   },
   {
    "duration": 41149,
    "start_time": "2023-02-17T15:19:04.185Z"
   },
   {
    "duration": 25,
    "start_time": "2023-02-17T15:19:45.342Z"
   },
   {
    "duration": 6,
    "start_time": "2023-02-17T15:19:45.369Z"
   },
   {
    "duration": 51,
    "start_time": "2023-02-17T15:19:45.376Z"
   },
   {
    "duration": 19803,
    "start_time": "2023-02-17T15:19:45.429Z"
   },
   {
    "duration": 23,
    "start_time": "2023-02-17T15:20:05.236Z"
   },
   {
    "duration": 30,
    "start_time": "2023-02-17T15:20:05.261Z"
   },
   {
    "duration": 9,
    "start_time": "2023-02-17T15:20:08.676Z"
   },
   {
    "duration": 18,
    "start_time": "2023-02-17T15:20:32.615Z"
   },
   {
    "duration": 14,
    "start_time": "2023-02-17T15:20:43.025Z"
   },
   {
    "duration": 81,
    "start_time": "2023-02-17T15:21:09.295Z"
   },
   {
    "duration": 41,
    "start_time": "2023-02-17T15:21:17.268Z"
   },
   {
    "duration": 17,
    "start_time": "2023-02-17T15:21:17.312Z"
   },
   {
    "duration": 29,
    "start_time": "2023-02-17T15:21:17.331Z"
   },
   {
    "duration": 33,
    "start_time": "2023-02-17T15:21:17.362Z"
   },
   {
    "duration": 6,
    "start_time": "2023-02-17T15:21:17.398Z"
   },
   {
    "duration": 9,
    "start_time": "2023-02-17T15:21:17.406Z"
   },
   {
    "duration": 11,
    "start_time": "2023-02-17T15:21:17.418Z"
   },
   {
    "duration": 12,
    "start_time": "2023-02-17T15:21:17.431Z"
   },
   {
    "duration": 6,
    "start_time": "2023-02-17T15:21:17.444Z"
   },
   {
    "duration": 10,
    "start_time": "2023-02-17T15:21:17.451Z"
   },
   {
    "duration": 9,
    "start_time": "2023-02-17T15:21:17.462Z"
   },
   {
    "duration": 8,
    "start_time": "2023-02-17T15:21:17.473Z"
   },
   {
    "duration": 5,
    "start_time": "2023-02-17T15:21:17.483Z"
   },
   {
    "duration": 7,
    "start_time": "2023-02-17T15:21:17.490Z"
   },
   {
    "duration": 1040,
    "start_time": "2023-02-17T15:21:17.498Z"
   },
   {
    "duration": 98,
    "start_time": "2023-02-17T15:21:18.540Z"
   },
   {
    "duration": 103,
    "start_time": "2023-02-17T15:21:18.640Z"
   },
   {
    "duration": 94,
    "start_time": "2023-02-17T15:21:18.744Z"
   },
   {
    "duration": 28572,
    "start_time": "2023-02-17T15:21:18.843Z"
   },
   {
    "duration": 34,
    "start_time": "2023-02-17T15:21:47.418Z"
   },
   {
    "duration": 16,
    "start_time": "2023-02-17T15:21:47.454Z"
   },
   {
    "duration": 0,
    "start_time": "2023-02-17T15:21:47.472Z"
   },
   {
    "duration": 0,
    "start_time": "2023-02-17T15:21:47.473Z"
   },
   {
    "duration": 0,
    "start_time": "2023-02-17T15:21:47.475Z"
   },
   {
    "duration": 0,
    "start_time": "2023-02-17T15:21:47.476Z"
   },
   {
    "duration": 0,
    "start_time": "2023-02-17T15:21:47.479Z"
   },
   {
    "duration": 0,
    "start_time": "2023-02-17T15:21:47.480Z"
   },
   {
    "duration": 0,
    "start_time": "2023-02-17T15:21:47.482Z"
   },
   {
    "duration": 0,
    "start_time": "2023-02-17T15:21:47.484Z"
   },
   {
    "duration": 0,
    "start_time": "2023-02-17T15:21:47.485Z"
   },
   {
    "duration": 28,
    "start_time": "2023-02-17T15:22:45.400Z"
   },
   {
    "duration": 42,
    "start_time": "2023-02-17T15:28:33.907Z"
   },
   {
    "duration": 13,
    "start_time": "2023-02-17T15:28:33.951Z"
   },
   {
    "duration": 8,
    "start_time": "2023-02-17T15:28:33.966Z"
   },
   {
    "duration": 13,
    "start_time": "2023-02-17T15:28:33.976Z"
   },
   {
    "duration": 6,
    "start_time": "2023-02-17T15:28:33.991Z"
   },
   {
    "duration": 7,
    "start_time": "2023-02-17T15:28:33.999Z"
   },
   {
    "duration": 35,
    "start_time": "2023-02-17T15:28:34.008Z"
   },
   {
    "duration": 12,
    "start_time": "2023-02-17T15:28:34.045Z"
   },
   {
    "duration": 6,
    "start_time": "2023-02-17T15:28:34.058Z"
   },
   {
    "duration": 5,
    "start_time": "2023-02-17T15:28:34.065Z"
   },
   {
    "duration": 5,
    "start_time": "2023-02-17T15:28:34.072Z"
   },
   {
    "duration": 8,
    "start_time": "2023-02-17T15:28:34.078Z"
   },
   {
    "duration": 4,
    "start_time": "2023-02-17T15:28:34.087Z"
   },
   {
    "duration": 3,
    "start_time": "2023-02-17T15:28:34.094Z"
   },
   {
    "duration": 1339,
    "start_time": "2023-02-17T15:28:34.098Z"
   },
   {
    "duration": 98,
    "start_time": "2023-02-17T15:28:35.439Z"
   },
   {
    "duration": 9,
    "start_time": "2023-02-17T15:28:35.540Z"
   },
   {
    "duration": 7,
    "start_time": "2023-02-17T15:28:35.637Z"
   },
   {
    "duration": 27868,
    "start_time": "2023-02-17T15:28:35.646Z"
   },
   {
    "duration": 30,
    "start_time": "2023-02-17T15:29:03.516Z"
   },
   {
    "duration": 28,
    "start_time": "2023-02-17T15:29:03.548Z"
   },
   {
    "duration": 4,
    "start_time": "2023-02-17T15:29:03.578Z"
   },
   {
    "duration": 26,
    "start_time": "2023-02-17T15:29:03.583Z"
   },
   {
    "duration": 39281,
    "start_time": "2023-02-17T15:29:03.611Z"
   },
   {
    "duration": 32,
    "start_time": "2023-02-17T15:29:42.894Z"
   },
   {
    "duration": 5,
    "start_time": "2023-02-17T15:29:42.937Z"
   },
   {
    "duration": 23,
    "start_time": "2023-02-17T15:29:42.944Z"
   },
   {
    "duration": 19166,
    "start_time": "2023-02-17T15:29:42.968Z"
   },
   {
    "duration": 24,
    "start_time": "2023-02-17T15:30:02.136Z"
   },
   {
    "duration": 36,
    "start_time": "2023-02-17T15:30:02.161Z"
   },
   {
    "duration": 13,
    "start_time": "2023-02-17T15:52:19.942Z"
   },
   {
    "duration": 11,
    "start_time": "2023-02-17T15:59:16.404Z"
   },
   {
    "duration": 11,
    "start_time": "2023-02-17T16:00:12.463Z"
   },
   {
    "duration": 583,
    "start_time": "2023-02-17T16:00:36.415Z"
   },
   {
    "duration": 15,
    "start_time": "2023-02-17T16:00:37.000Z"
   },
   {
    "duration": 29,
    "start_time": "2023-02-17T16:00:41.153Z"
   },
   {
    "duration": 429,
    "start_time": "2023-02-17T16:01:44.496Z"
   },
   {
    "duration": 2523,
    "start_time": "2023-02-17T16:02:34.356Z"
   },
   {
    "duration": 6,
    "start_time": "2023-02-17T16:04:47.351Z"
   },
   {
    "duration": 428,
    "start_time": "2023-02-17T16:05:30.908Z"
   },
   {
    "duration": 282,
    "start_time": "2023-02-17T16:05:36.883Z"
   },
   {
    "duration": 22,
    "start_time": "2023-02-17T16:12:58.187Z"
   },
   {
    "duration": 21,
    "start_time": "2023-02-17T16:15:10.279Z"
   },
   {
    "duration": 12,
    "start_time": "2023-02-18T19:51:52.391Z"
   },
   {
    "duration": 13,
    "start_time": "2023-02-18T20:13:12.009Z"
   },
   {
    "duration": 50,
    "start_time": "2023-02-18T20:16:30.748Z"
   },
   {
    "duration": 0,
    "start_time": "2023-02-18T20:16:30.800Z"
   },
   {
    "duration": 349,
    "start_time": "2023-02-18T20:16:30.821Z"
   },
   {
    "duration": 15,
    "start_time": "2023-02-18T20:16:31.172Z"
   },
   {
    "duration": 0,
    "start_time": "2023-02-18T20:16:31.190Z"
   },
   {
    "duration": 0,
    "start_time": "2023-02-18T20:16:31.191Z"
   },
   {
    "duration": 0,
    "start_time": "2023-02-18T20:16:31.192Z"
   },
   {
    "duration": 0,
    "start_time": "2023-02-18T20:16:31.194Z"
   },
   {
    "duration": 0,
    "start_time": "2023-02-18T20:16:31.196Z"
   },
   {
    "duration": 1,
    "start_time": "2023-02-18T20:16:31.197Z"
   },
   {
    "duration": 0,
    "start_time": "2023-02-18T20:16:31.199Z"
   },
   {
    "duration": 0,
    "start_time": "2023-02-18T20:16:31.201Z"
   },
   {
    "duration": 0,
    "start_time": "2023-02-18T20:16:31.202Z"
   },
   {
    "duration": 0,
    "start_time": "2023-02-18T20:16:31.237Z"
   },
   {
    "duration": 0,
    "start_time": "2023-02-18T20:16:31.239Z"
   },
   {
    "duration": 0,
    "start_time": "2023-02-18T20:16:31.240Z"
   },
   {
    "duration": 0,
    "start_time": "2023-02-18T20:16:31.242Z"
   },
   {
    "duration": 0,
    "start_time": "2023-02-18T20:16:31.243Z"
   },
   {
    "duration": 0,
    "start_time": "2023-02-18T20:16:31.245Z"
   },
   {
    "duration": 0,
    "start_time": "2023-02-18T20:16:31.246Z"
   },
   {
    "duration": 0,
    "start_time": "2023-02-18T20:16:31.248Z"
   },
   {
    "duration": 0,
    "start_time": "2023-02-18T20:16:31.249Z"
   },
   {
    "duration": 0,
    "start_time": "2023-02-18T20:16:31.251Z"
   },
   {
    "duration": 0,
    "start_time": "2023-02-18T20:16:31.252Z"
   },
   {
    "duration": 0,
    "start_time": "2023-02-18T20:16:31.254Z"
   },
   {
    "duration": 0,
    "start_time": "2023-02-18T20:16:31.255Z"
   },
   {
    "duration": 0,
    "start_time": "2023-02-18T20:16:31.257Z"
   },
   {
    "duration": 0,
    "start_time": "2023-02-18T20:16:31.259Z"
   },
   {
    "duration": 0,
    "start_time": "2023-02-18T20:16:31.260Z"
   },
   {
    "duration": 0,
    "start_time": "2023-02-18T20:16:31.261Z"
   },
   {
    "duration": 0,
    "start_time": "2023-02-18T20:16:31.263Z"
   },
   {
    "duration": 0,
    "start_time": "2023-02-18T20:16:31.264Z"
   },
   {
    "duration": 0,
    "start_time": "2023-02-18T20:16:31.266Z"
   },
   {
    "duration": 0,
    "start_time": "2023-02-18T20:16:31.268Z"
   },
   {
    "duration": 0,
    "start_time": "2023-02-18T20:16:31.269Z"
   },
   {
    "duration": 50,
    "start_time": "2023-02-18T20:17:34.503Z"
   },
   {
    "duration": 0,
    "start_time": "2023-02-18T20:17:34.556Z"
   },
   {
    "duration": 0,
    "start_time": "2023-02-18T20:17:34.557Z"
   },
   {
    "duration": 0,
    "start_time": "2023-02-18T20:17:34.559Z"
   },
   {
    "duration": 0,
    "start_time": "2023-02-18T20:17:34.560Z"
   },
   {
    "duration": 0,
    "start_time": "2023-02-18T20:17:34.561Z"
   },
   {
    "duration": 0,
    "start_time": "2023-02-18T20:17:34.563Z"
   },
   {
    "duration": 0,
    "start_time": "2023-02-18T20:17:34.567Z"
   },
   {
    "duration": 0,
    "start_time": "2023-02-18T20:17:34.569Z"
   },
   {
    "duration": 0,
    "start_time": "2023-02-18T20:17:34.574Z"
   },
   {
    "duration": 0,
    "start_time": "2023-02-18T20:17:34.576Z"
   },
   {
    "duration": 0,
    "start_time": "2023-02-18T20:17:34.578Z"
   },
   {
    "duration": 0,
    "start_time": "2023-02-18T20:17:34.579Z"
   },
   {
    "duration": 0,
    "start_time": "2023-02-18T20:17:34.580Z"
   },
   {
    "duration": 0,
    "start_time": "2023-02-18T20:17:34.582Z"
   },
   {
    "duration": 0,
    "start_time": "2023-02-18T20:17:34.583Z"
   },
   {
    "duration": 0,
    "start_time": "2023-02-18T20:17:34.585Z"
   },
   {
    "duration": 0,
    "start_time": "2023-02-18T20:17:34.586Z"
   },
   {
    "duration": 0,
    "start_time": "2023-02-18T20:17:34.636Z"
   },
   {
    "duration": 0,
    "start_time": "2023-02-18T20:17:34.638Z"
   },
   {
    "duration": 0,
    "start_time": "2023-02-18T20:17:34.640Z"
   },
   {
    "duration": 0,
    "start_time": "2023-02-18T20:17:34.641Z"
   },
   {
    "duration": 0,
    "start_time": "2023-02-18T20:17:34.642Z"
   },
   {
    "duration": 0,
    "start_time": "2023-02-18T20:17:34.643Z"
   },
   {
    "duration": 0,
    "start_time": "2023-02-18T20:17:34.644Z"
   },
   {
    "duration": 0,
    "start_time": "2023-02-18T20:17:34.645Z"
   },
   {
    "duration": 0,
    "start_time": "2023-02-18T20:17:34.646Z"
   },
   {
    "duration": 0,
    "start_time": "2023-02-18T20:17:34.648Z"
   },
   {
    "duration": 40796,
    "start_time": "2023-02-18T20:17:34.652Z"
   },
   {
    "duration": 27,
    "start_time": "2023-02-18T20:18:15.450Z"
   },
   {
    "duration": 4,
    "start_time": "2023-02-18T20:18:15.479Z"
   },
   {
    "duration": 20,
    "start_time": "2023-02-18T20:18:15.485Z"
   },
   {
    "duration": 19806,
    "start_time": "2023-02-18T20:18:15.508Z"
   },
   {
    "duration": 23,
    "start_time": "2023-02-18T20:18:35.316Z"
   },
   {
    "duration": 17,
    "start_time": "2023-02-18T20:18:35.341Z"
   },
   {
    "duration": 48,
    "start_time": "2023-02-18T20:18:35.360Z"
   },
   {
    "duration": 0,
    "start_time": "2023-02-18T20:18:35.410Z"
   },
   {
    "duration": 0,
    "start_time": "2023-02-18T20:18:35.411Z"
   },
   {
    "duration": 0,
    "start_time": "2023-02-18T20:18:35.412Z"
   },
   {
    "duration": 0,
    "start_time": "2023-02-18T20:18:35.413Z"
   },
   {
    "duration": 0,
    "start_time": "2023-02-18T20:18:35.415Z"
   },
   {
    "duration": 48,
    "start_time": "2023-02-18T20:20:27.168Z"
   },
   {
    "duration": 48,
    "start_time": "2023-02-18T20:21:00.332Z"
   },
   {
    "duration": 47,
    "start_time": "2023-02-18T20:22:27.454Z"
   },
   {
    "duration": 64,
    "start_time": "2023-02-18T20:22:30.721Z"
   },
   {
    "duration": 48,
    "start_time": "2023-02-18T20:22:44.934Z"
   },
   {
    "duration": 351,
    "start_time": "2023-02-18T20:24:13.823Z"
   },
   {
    "duration": 2782,
    "start_time": "2023-02-18T20:25:46.566Z"
   },
   {
    "duration": 5,
    "start_time": "2023-02-18T20:25:57.289Z"
   },
   {
    "duration": 15,
    "start_time": "2023-02-18T20:27:59.378Z"
   },
   {
    "duration": 12,
    "start_time": "2023-02-18T20:28:06.893Z"
   },
   {
    "duration": 60,
    "start_time": "2023-02-18T20:28:15.830Z"
   },
   {
    "duration": 0,
    "start_time": "2023-02-18T20:28:15.892Z"
   },
   {
    "duration": 0,
    "start_time": "2023-02-18T20:28:15.894Z"
   },
   {
    "duration": 0,
    "start_time": "2023-02-18T20:28:15.895Z"
   },
   {
    "duration": 0,
    "start_time": "2023-02-18T20:28:15.896Z"
   },
   {
    "duration": 0,
    "start_time": "2023-02-18T20:28:15.897Z"
   },
   {
    "duration": 0,
    "start_time": "2023-02-18T20:28:15.898Z"
   },
   {
    "duration": 0,
    "start_time": "2023-02-18T20:28:15.899Z"
   },
   {
    "duration": 0,
    "start_time": "2023-02-18T20:28:15.900Z"
   },
   {
    "duration": 0,
    "start_time": "2023-02-18T20:28:15.902Z"
   },
   {
    "duration": 0,
    "start_time": "2023-02-18T20:28:15.903Z"
   },
   {
    "duration": 0,
    "start_time": "2023-02-18T20:28:15.904Z"
   },
   {
    "duration": 0,
    "start_time": "2023-02-18T20:28:15.905Z"
   },
   {
    "duration": 0,
    "start_time": "2023-02-18T20:28:15.906Z"
   },
   {
    "duration": 0,
    "start_time": "2023-02-18T20:28:15.907Z"
   },
   {
    "duration": 0,
    "start_time": "2023-02-18T20:28:15.908Z"
   },
   {
    "duration": 0,
    "start_time": "2023-02-18T20:28:15.909Z"
   },
   {
    "duration": 0,
    "start_time": "2023-02-18T20:28:15.911Z"
   },
   {
    "duration": 0,
    "start_time": "2023-02-18T20:28:15.911Z"
   },
   {
    "duration": 0,
    "start_time": "2023-02-18T20:28:15.913Z"
   },
   {
    "duration": 0,
    "start_time": "2023-02-18T20:28:15.914Z"
   },
   {
    "duration": 0,
    "start_time": "2023-02-18T20:28:15.937Z"
   },
   {
    "duration": 0,
    "start_time": "2023-02-18T20:28:15.938Z"
   },
   {
    "duration": 0,
    "start_time": "2023-02-18T20:28:15.939Z"
   },
   {
    "duration": 0,
    "start_time": "2023-02-18T20:28:15.940Z"
   },
   {
    "duration": 0,
    "start_time": "2023-02-18T20:28:15.941Z"
   },
   {
    "duration": 40319,
    "start_time": "2023-02-18T20:28:15.944Z"
   },
   {
    "duration": 36,
    "start_time": "2023-02-18T20:28:56.265Z"
   },
   {
    "duration": 5,
    "start_time": "2023-02-18T20:28:56.302Z"
   },
   {
    "duration": 28,
    "start_time": "2023-02-18T20:28:56.308Z"
   },
   {
    "duration": 19841,
    "start_time": "2023-02-18T20:28:56.338Z"
   },
   {
    "duration": 21,
    "start_time": "2023-02-18T20:29:16.180Z"
   },
   {
    "duration": 37,
    "start_time": "2023-02-18T20:29:16.202Z"
   },
   {
    "duration": 13,
    "start_time": "2023-02-18T20:29:27.586Z"
   },
   {
    "duration": 42,
    "start_time": "2023-02-18T20:33:50.744Z"
   },
   {
    "duration": 10,
    "start_time": "2023-02-18T20:39:05.041Z"
   },
   {
    "duration": 10,
    "start_time": "2023-02-18T21:08:51.494Z"
   },
   {
    "duration": 9,
    "start_time": "2023-02-18T21:09:05.992Z"
   },
   {
    "duration": 21,
    "start_time": "2023-02-18T21:11:19.123Z"
   },
   {
    "duration": 6,
    "start_time": "2023-02-18T21:15:25.552Z"
   },
   {
    "duration": 10,
    "start_time": "2023-02-18T21:15:48.976Z"
   },
   {
    "duration": 6,
    "start_time": "2023-02-18T21:15:52.798Z"
   },
   {
    "duration": 8,
    "start_time": "2023-02-18T21:15:57.132Z"
   },
   {
    "duration": 6,
    "start_time": "2023-02-18T21:19:17.416Z"
   },
   {
    "duration": 7,
    "start_time": "2023-02-18T21:19:18.131Z"
   },
   {
    "duration": 7,
    "start_time": "2023-02-18T21:19:34.393Z"
   },
   {
    "duration": 7,
    "start_time": "2023-02-18T21:19:35.148Z"
   },
   {
    "duration": 6,
    "start_time": "2023-02-18T21:21:39.408Z"
   },
   {
    "duration": 8,
    "start_time": "2023-02-18T21:21:40.081Z"
   },
   {
    "duration": 5,
    "start_time": "2023-02-18T21:21:50.388Z"
   },
   {
    "duration": 8,
    "start_time": "2023-02-18T21:21:51.068Z"
   },
   {
    "duration": 10,
    "start_time": "2023-02-18T21:33:55.295Z"
   },
   {
    "duration": 50,
    "start_time": "2023-02-18T21:34:10.731Z"
   },
   {
    "duration": 0,
    "start_time": "2023-02-18T21:34:10.783Z"
   },
   {
    "duration": 0,
    "start_time": "2023-02-18T21:34:10.784Z"
   },
   {
    "duration": 0,
    "start_time": "2023-02-18T21:34:10.785Z"
   },
   {
    "duration": 0,
    "start_time": "2023-02-18T21:34:10.787Z"
   },
   {
    "duration": 0,
    "start_time": "2023-02-18T21:34:10.789Z"
   },
   {
    "duration": 0,
    "start_time": "2023-02-18T21:34:10.790Z"
   },
   {
    "duration": 0,
    "start_time": "2023-02-18T21:34:10.792Z"
   },
   {
    "duration": 0,
    "start_time": "2023-02-18T21:34:10.793Z"
   },
   {
    "duration": 14,
    "start_time": "2023-02-18T21:34:10.801Z"
   },
   {
    "duration": 0,
    "start_time": "2023-02-18T21:34:10.837Z"
   },
   {
    "duration": 0,
    "start_time": "2023-02-18T21:34:10.839Z"
   },
   {
    "duration": 0,
    "start_time": "2023-02-18T21:34:10.840Z"
   },
   {
    "duration": 0,
    "start_time": "2023-02-18T21:34:10.841Z"
   },
   {
    "duration": 0,
    "start_time": "2023-02-18T21:34:10.842Z"
   },
   {
    "duration": 0,
    "start_time": "2023-02-18T21:34:10.843Z"
   },
   {
    "duration": 0,
    "start_time": "2023-02-18T21:34:10.845Z"
   },
   {
    "duration": 0,
    "start_time": "2023-02-18T21:34:10.846Z"
   },
   {
    "duration": 0,
    "start_time": "2023-02-18T21:34:10.847Z"
   },
   {
    "duration": 993,
    "start_time": "2023-02-18T21:34:10.851Z"
   },
   {
    "duration": 97,
    "start_time": "2023-02-18T21:34:11.846Z"
   },
   {
    "duration": 100,
    "start_time": "2023-02-18T21:34:11.945Z"
   },
   {
    "duration": 4,
    "start_time": "2023-02-18T21:34:12.139Z"
   },
   {
    "duration": 27743,
    "start_time": "2023-02-18T21:34:12.144Z"
   },
   {
    "duration": 19,
    "start_time": "2023-02-18T21:34:39.889Z"
   },
   {
    "duration": 28,
    "start_time": "2023-02-18T21:34:39.909Z"
   },
   {
    "duration": 4,
    "start_time": "2023-02-18T21:34:39.939Z"
   },
   {
    "duration": 16,
    "start_time": "2023-02-18T21:34:39.944Z"
   },
   {
    "duration": 40351,
    "start_time": "2023-02-18T21:34:39.961Z"
   },
   {
    "duration": 38,
    "start_time": "2023-02-18T21:35:20.313Z"
   },
   {
    "duration": 6,
    "start_time": "2023-02-18T21:35:20.354Z"
   },
   {
    "duration": 18,
    "start_time": "2023-02-18T21:35:20.363Z"
   },
   {
    "duration": 20074,
    "start_time": "2023-02-18T21:35:20.383Z"
   },
   {
    "duration": 22,
    "start_time": "2023-02-18T21:35:40.460Z"
   },
   {
    "duration": 21,
    "start_time": "2023-02-18T21:35:40.484Z"
   },
   {
    "duration": 463,
    "start_time": "2023-02-18T21:36:08.243Z"
   },
   {
    "duration": 734,
    "start_time": "2023-02-18T21:37:11.766Z"
   },
   {
    "duration": 47,
    "start_time": "2023-02-18T21:37:30.063Z"
   },
   {
    "duration": 0,
    "start_time": "2023-02-18T21:37:30.112Z"
   },
   {
    "duration": 0,
    "start_time": "2023-02-18T21:37:30.113Z"
   },
   {
    "duration": 0,
    "start_time": "2023-02-18T21:37:30.114Z"
   },
   {
    "duration": 0,
    "start_time": "2023-02-18T21:37:30.115Z"
   },
   {
    "duration": 0,
    "start_time": "2023-02-18T21:37:30.116Z"
   },
   {
    "duration": 0,
    "start_time": "2023-02-18T21:37:30.117Z"
   },
   {
    "duration": 0,
    "start_time": "2023-02-18T21:37:30.118Z"
   },
   {
    "duration": 0,
    "start_time": "2023-02-18T21:37:30.120Z"
   },
   {
    "duration": 0,
    "start_time": "2023-02-18T21:37:30.120Z"
   },
   {
    "duration": 0,
    "start_time": "2023-02-18T21:37:30.121Z"
   },
   {
    "duration": 1,
    "start_time": "2023-02-18T21:37:30.122Z"
   },
   {
    "duration": 0,
    "start_time": "2023-02-18T21:37:30.123Z"
   },
   {
    "duration": 0,
    "start_time": "2023-02-18T21:37:30.124Z"
   },
   {
    "duration": 0,
    "start_time": "2023-02-18T21:37:30.126Z"
   },
   {
    "duration": 0,
    "start_time": "2023-02-18T21:37:30.128Z"
   },
   {
    "duration": 0,
    "start_time": "2023-02-18T21:37:30.129Z"
   },
   {
    "duration": 0,
    "start_time": "2023-02-18T21:37:30.130Z"
   },
   {
    "duration": 0,
    "start_time": "2023-02-18T21:37:30.131Z"
   },
   {
    "duration": 0,
    "start_time": "2023-02-18T21:37:30.138Z"
   },
   {
    "duration": 0,
    "start_time": "2023-02-18T21:37:30.139Z"
   },
   {
    "duration": 0,
    "start_time": "2023-02-18T21:37:30.141Z"
   },
   {
    "duration": 0,
    "start_time": "2023-02-18T21:37:30.142Z"
   },
   {
    "duration": 0,
    "start_time": "2023-02-18T21:37:30.145Z"
   },
   {
    "duration": 0,
    "start_time": "2023-02-18T21:37:30.146Z"
   },
   {
    "duration": 21,
    "start_time": "2023-02-18T21:37:30.154Z"
   },
   {
    "duration": 70,
    "start_time": "2023-02-18T21:37:30.177Z"
   },
   {
    "duration": 5,
    "start_time": "2023-02-18T21:37:30.249Z"
   },
   {
    "duration": 51,
    "start_time": "2023-02-18T21:37:30.256Z"
   },
   {
    "duration": 41450,
    "start_time": "2023-02-18T21:37:30.309Z"
   },
   {
    "duration": 24,
    "start_time": "2023-02-18T21:38:11.761Z"
   },
   {
    "duration": 9,
    "start_time": "2023-02-18T21:38:11.787Z"
   },
   {
    "duration": 20,
    "start_time": "2023-02-18T21:38:11.797Z"
   },
   {
    "duration": 20383,
    "start_time": "2023-02-18T21:38:11.819Z"
   },
   {
    "duration": 21,
    "start_time": "2023-02-18T21:38:32.203Z"
   },
   {
    "duration": 35,
    "start_time": "2023-02-18T21:38:32.226Z"
   },
   {
    "duration": 420,
    "start_time": "2023-02-18T21:38:43.887Z"
   },
   {
    "duration": 715,
    "start_time": "2023-02-18T21:38:45.391Z"
   },
   {
    "duration": 68,
    "start_time": "2023-02-18T21:39:52.397Z"
   },
   {
    "duration": 351,
    "start_time": "2023-02-18T21:40:16.887Z"
   },
   {
    "duration": 2499,
    "start_time": "2023-02-18T21:40:18.862Z"
   },
   {
    "duration": 4,
    "start_time": "2023-02-18T21:40:21.363Z"
   },
   {
    "duration": 286,
    "start_time": "2023-02-18T21:40:22.940Z"
   },
   {
    "duration": 11,
    "start_time": "2023-02-18T21:40:24.164Z"
   },
   {
    "duration": 5,
    "start_time": "2023-02-18T21:40:25.583Z"
   },
   {
    "duration": 6,
    "start_time": "2023-02-18T21:40:26.905Z"
   },
   {
    "duration": 22,
    "start_time": "2023-02-18T21:40:31.314Z"
   },
   {
    "duration": 7,
    "start_time": "2023-02-18T21:40:35.925Z"
   },
   {
    "duration": 11,
    "start_time": "2023-02-18T21:42:09.652Z"
   },
   {
    "duration": 36,
    "start_time": "2023-02-18T21:42:14.247Z"
   },
   {
    "duration": 12,
    "start_time": "2023-02-18T21:49:39.919Z"
   },
   {
    "duration": 11,
    "start_time": "2023-02-18T21:50:27.024Z"
   },
   {
    "duration": 10,
    "start_time": "2023-02-18T21:50:57.525Z"
   },
   {
    "duration": 45,
    "start_time": "2023-02-18T22:17:22.398Z"
   },
   {
    "duration": 10,
    "start_time": "2023-02-18T22:18:05.991Z"
   },
   {
    "duration": 36,
    "start_time": "2023-02-18T22:18:18.624Z"
   },
   {
    "duration": 495,
    "start_time": "2023-02-19T09:28:14.033Z"
   },
   {
    "duration": 0,
    "start_time": "2023-02-19T09:28:14.531Z"
   },
   {
    "duration": 0,
    "start_time": "2023-02-19T09:28:14.533Z"
   },
   {
    "duration": 0,
    "start_time": "2023-02-19T09:28:14.534Z"
   },
   {
    "duration": 0,
    "start_time": "2023-02-19T09:28:14.536Z"
   },
   {
    "duration": 0,
    "start_time": "2023-02-19T09:28:14.539Z"
   },
   {
    "duration": 0,
    "start_time": "2023-02-19T09:28:14.540Z"
   },
   {
    "duration": 0,
    "start_time": "2023-02-19T09:28:14.541Z"
   },
   {
    "duration": 0,
    "start_time": "2023-02-19T09:28:14.543Z"
   },
   {
    "duration": 0,
    "start_time": "2023-02-19T09:28:14.544Z"
   },
   {
    "duration": 0,
    "start_time": "2023-02-19T09:28:14.545Z"
   },
   {
    "duration": 0,
    "start_time": "2023-02-19T09:28:14.568Z"
   },
   {
    "duration": 0,
    "start_time": "2023-02-19T09:28:14.571Z"
   },
   {
    "duration": 0,
    "start_time": "2023-02-19T09:28:14.572Z"
   },
   {
    "duration": 0,
    "start_time": "2023-02-19T09:28:14.574Z"
   },
   {
    "duration": 0,
    "start_time": "2023-02-19T09:28:14.576Z"
   },
   {
    "duration": 0,
    "start_time": "2023-02-19T09:28:14.578Z"
   },
   {
    "duration": 0,
    "start_time": "2023-02-19T09:28:14.580Z"
   },
   {
    "duration": 0,
    "start_time": "2023-02-19T09:28:14.582Z"
   },
   {
    "duration": 0,
    "start_time": "2023-02-19T09:28:14.583Z"
   },
   {
    "duration": 0,
    "start_time": "2023-02-19T09:28:14.584Z"
   },
   {
    "duration": 0,
    "start_time": "2023-02-19T09:28:14.587Z"
   },
   {
    "duration": 0,
    "start_time": "2023-02-19T09:28:14.588Z"
   },
   {
    "duration": 0,
    "start_time": "2023-02-19T09:28:14.589Z"
   },
   {
    "duration": 0,
    "start_time": "2023-02-19T09:28:14.591Z"
   },
   {
    "duration": 0,
    "start_time": "2023-02-19T09:28:14.592Z"
   },
   {
    "duration": 0,
    "start_time": "2023-02-19T09:28:14.594Z"
   },
   {
    "duration": 0,
    "start_time": "2023-02-19T09:28:14.596Z"
   },
   {
    "duration": 0,
    "start_time": "2023-02-19T09:28:14.598Z"
   },
   {
    "duration": 0,
    "start_time": "2023-02-19T09:28:14.599Z"
   },
   {
    "duration": 0,
    "start_time": "2023-02-19T09:28:14.600Z"
   },
   {
    "duration": 0,
    "start_time": "2023-02-19T09:28:14.601Z"
   },
   {
    "duration": 0,
    "start_time": "2023-02-19T09:28:14.602Z"
   },
   {
    "duration": 0,
    "start_time": "2023-02-19T09:28:14.603Z"
   },
   {
    "duration": 0,
    "start_time": "2023-02-19T09:28:14.604Z"
   },
   {
    "duration": 0,
    "start_time": "2023-02-19T09:28:14.605Z"
   },
   {
    "duration": 0,
    "start_time": "2023-02-19T09:28:14.606Z"
   },
   {
    "duration": 6,
    "start_time": "2023-02-19T09:28:45.956Z"
   },
   {
    "duration": 11,
    "start_time": "2023-02-19T09:28:53.044Z"
   },
   {
    "duration": 178,
    "start_time": "2023-02-19T09:28:53.547Z"
   },
   {
    "duration": 21,
    "start_time": "2023-02-19T09:28:55.555Z"
   },
   {
    "duration": 9,
    "start_time": "2023-02-19T09:28:57.594Z"
   },
   {
    "duration": 9,
    "start_time": "2023-02-19T09:28:59.115Z"
   },
   {
    "duration": 5,
    "start_time": "2023-02-19T09:29:01.657Z"
   },
   {
    "duration": 7,
    "start_time": "2023-02-19T09:29:04.116Z"
   },
   {
    "duration": 10,
    "start_time": "2023-02-19T09:29:22.357Z"
   },
   {
    "duration": 43,
    "start_time": "2023-02-19T09:29:22.944Z"
   },
   {
    "duration": 15,
    "start_time": "2023-02-19T09:29:24.830Z"
   },
   {
    "duration": 8,
    "start_time": "2023-02-19T09:29:27.472Z"
   },
   {
    "duration": 7,
    "start_time": "2023-02-19T09:29:31.582Z"
   },
   {
    "duration": 4,
    "start_time": "2023-02-19T09:29:33.817Z"
   },
   {
    "duration": 8,
    "start_time": "2023-02-19T09:29:35.653Z"
   },
   {
    "duration": 15,
    "start_time": "2023-02-19T09:29:37.293Z"
   },
   {
    "duration": 6,
    "start_time": "2023-02-19T09:29:39.559Z"
   },
   {
    "duration": 6,
    "start_time": "2023-02-19T09:29:40.627Z"
   },
   {
    "duration": 19,
    "start_time": "2023-02-19T09:29:43.431Z"
   },
   {
    "duration": 7,
    "start_time": "2023-02-19T09:29:44.011Z"
   },
   {
    "duration": 12,
    "start_time": "2023-02-19T09:29:46.352Z"
   },
   {
    "duration": 12,
    "start_time": "2023-02-19T09:29:48.125Z"
   },
   {
    "duration": 7,
    "start_time": "2023-02-19T09:29:48.646Z"
   },
   {
    "duration": 24,
    "start_time": "2023-02-19T09:29:49.359Z"
   },
   {
    "duration": 9,
    "start_time": "2023-02-19T09:30:18.160Z"
   },
   {
    "duration": 41,
    "start_time": "2023-02-19T09:30:19.048Z"
   },
   {
    "duration": 13,
    "start_time": "2023-02-19T09:30:20.861Z"
   },
   {
    "duration": 8,
    "start_time": "2023-02-19T09:30:23.810Z"
   },
   {
    "duration": 9,
    "start_time": "2023-02-19T09:30:32.735Z"
   },
   {
    "duration": 0,
    "start_time": "2023-02-19T09:30:32.746Z"
   },
   {
    "duration": 0,
    "start_time": "2023-02-19T09:30:32.747Z"
   },
   {
    "duration": 0,
    "start_time": "2023-02-19T09:30:32.749Z"
   },
   {
    "duration": 7,
    "start_time": "2023-02-19T09:30:32.751Z"
   },
   {
    "duration": 0,
    "start_time": "2023-02-19T09:30:32.760Z"
   },
   {
    "duration": 0,
    "start_time": "2023-02-19T09:30:32.761Z"
   },
   {
    "duration": 0,
    "start_time": "2023-02-19T09:30:32.762Z"
   },
   {
    "duration": 0,
    "start_time": "2023-02-19T09:30:32.764Z"
   },
   {
    "duration": 0,
    "start_time": "2023-02-19T09:30:32.765Z"
   },
   {
    "duration": 0,
    "start_time": "2023-02-19T09:30:32.765Z"
   },
   {
    "duration": 5,
    "start_time": "2023-02-19T09:30:32.768Z"
   },
   {
    "duration": 12,
    "start_time": "2023-02-19T09:30:32.774Z"
   },
   {
    "duration": 0,
    "start_time": "2023-02-19T09:30:32.787Z"
   },
   {
    "duration": 1,
    "start_time": "2023-02-19T09:30:32.788Z"
   },
   {
    "duration": 0,
    "start_time": "2023-02-19T09:30:32.789Z"
   },
   {
    "duration": 0,
    "start_time": "2023-02-19T09:30:32.791Z"
   },
   {
    "duration": 0,
    "start_time": "2023-02-19T09:30:32.792Z"
   },
   {
    "duration": 0,
    "start_time": "2023-02-19T09:30:32.793Z"
   },
   {
    "duration": 0,
    "start_time": "2023-02-19T09:30:32.794Z"
   },
   {
    "duration": 0,
    "start_time": "2023-02-19T09:30:32.795Z"
   },
   {
    "duration": 0,
    "start_time": "2023-02-19T09:30:32.796Z"
   },
   {
    "duration": 0,
    "start_time": "2023-02-19T09:30:32.797Z"
   },
   {
    "duration": 1,
    "start_time": "2023-02-19T09:30:32.798Z"
   },
   {
    "duration": 0,
    "start_time": "2023-02-19T09:30:32.799Z"
   },
   {
    "duration": 0,
    "start_time": "2023-02-19T09:30:32.801Z"
   },
   {
    "duration": 65,
    "start_time": "2023-02-19T09:30:32.803Z"
   },
   {
    "duration": 0,
    "start_time": "2023-02-19T09:30:32.869Z"
   },
   {
    "duration": 0,
    "start_time": "2023-02-19T09:30:32.871Z"
   },
   {
    "duration": 8,
    "start_time": "2023-02-19T09:30:32.872Z"
   },
   {
    "duration": 0,
    "start_time": "2023-02-19T09:30:32.883Z"
   },
   {
    "duration": 0,
    "start_time": "2023-02-19T09:30:32.885Z"
   },
   {
    "duration": 0,
    "start_time": "2023-02-19T09:30:32.886Z"
   },
   {
    "duration": 1,
    "start_time": "2023-02-19T09:30:32.887Z"
   },
   {
    "duration": 0,
    "start_time": "2023-02-19T09:30:32.889Z"
   },
   {
    "duration": 0,
    "start_time": "2023-02-19T09:30:32.891Z"
   },
   {
    "duration": 0,
    "start_time": "2023-02-19T09:30:32.892Z"
   },
   {
    "duration": 7,
    "start_time": "2023-02-19T09:30:53.872Z"
   },
   {
    "duration": 9,
    "start_time": "2023-02-19T09:31:15.108Z"
   },
   {
    "duration": 39,
    "start_time": "2023-02-19T09:31:16.010Z"
   },
   {
    "duration": 11,
    "start_time": "2023-02-19T09:31:18.965Z"
   },
   {
    "duration": 9,
    "start_time": "2023-02-19T09:31:22.344Z"
   },
   {
    "duration": 11,
    "start_time": "2023-02-19T09:34:48.799Z"
   },
   {
    "duration": 42,
    "start_time": "2023-02-19T09:34:49.841Z"
   },
   {
    "duration": 12,
    "start_time": "2023-02-19T09:34:51.698Z"
   },
   {
    "duration": 8,
    "start_time": "2023-02-19T09:34:54.526Z"
   },
   {
    "duration": 9,
    "start_time": "2023-02-19T09:36:33.303Z"
   },
   {
    "duration": 46,
    "start_time": "2023-02-19T09:37:08.639Z"
   },
   {
    "duration": 14,
    "start_time": "2023-02-19T09:37:12.006Z"
   },
   {
    "duration": 9,
    "start_time": "2023-02-19T09:37:14.955Z"
   },
   {
    "duration": 47,
    "start_time": "2023-02-19T09:37:27.137Z"
   },
   {
    "duration": 19,
    "start_time": "2023-02-19T09:37:28.939Z"
   },
   {
    "duration": 10,
    "start_time": "2023-02-19T09:37:31.648Z"
   },
   {
    "duration": 7,
    "start_time": "2023-02-19T09:37:33.342Z"
   },
   {
    "duration": 5,
    "start_time": "2023-02-19T09:37:40.466Z"
   },
   {
    "duration": 7,
    "start_time": "2023-02-19T09:37:43.037Z"
   },
   {
    "duration": 10,
    "start_time": "2023-02-19T09:37:46.354Z"
   },
   {
    "duration": 7,
    "start_time": "2023-02-19T09:37:47.316Z"
   },
   {
    "duration": 6,
    "start_time": "2023-02-19T09:37:48.720Z"
   },
   {
    "duration": 19,
    "start_time": "2023-02-19T09:37:52.041Z"
   },
   {
    "duration": 5,
    "start_time": "2023-02-19T09:37:52.893Z"
   },
   {
    "duration": 7,
    "start_time": "2023-02-19T09:37:55.465Z"
   },
   {
    "duration": 5,
    "start_time": "2023-02-19T09:39:22.316Z"
   },
   {
    "duration": 8,
    "start_time": "2023-02-19T09:39:22.856Z"
   },
   {
    "duration": 7,
    "start_time": "2023-02-19T09:40:01.218Z"
   },
   {
    "duration": 8,
    "start_time": "2023-02-19T09:40:08.936Z"
   },
   {
    "duration": 4,
    "start_time": "2023-02-19T09:40:10.404Z"
   },
   {
    "duration": 8,
    "start_time": "2023-02-19T09:40:10.925Z"
   },
   {
    "duration": 7,
    "start_time": "2023-02-19T09:40:11.932Z"
   },
   {
    "duration": 7,
    "start_time": "2023-02-19T09:40:12.445Z"
   },
   {
    "duration": 9,
    "start_time": "2023-02-19T09:40:14.112Z"
   },
   {
    "duration": 10,
    "start_time": "2023-02-19T09:40:42.735Z"
   },
   {
    "duration": 0,
    "start_time": "2023-02-19T09:40:42.746Z"
   },
   {
    "duration": 0,
    "start_time": "2023-02-19T09:40:42.748Z"
   },
   {
    "duration": 0,
    "start_time": "2023-02-19T09:40:42.749Z"
   },
   {
    "duration": 0,
    "start_time": "2023-02-19T09:40:42.750Z"
   },
   {
    "duration": 0,
    "start_time": "2023-02-19T09:40:42.751Z"
   },
   {
    "duration": 8,
    "start_time": "2023-02-19T09:40:42.753Z"
   },
   {
    "duration": 0,
    "start_time": "2023-02-19T09:40:42.763Z"
   },
   {
    "duration": 0,
    "start_time": "2023-02-19T09:40:42.764Z"
   },
   {
    "duration": 0,
    "start_time": "2023-02-19T09:40:42.766Z"
   },
   {
    "duration": 0,
    "start_time": "2023-02-19T09:40:42.768Z"
   },
   {
    "duration": 0,
    "start_time": "2023-02-19T09:40:42.770Z"
   },
   {
    "duration": 0,
    "start_time": "2023-02-19T09:40:42.772Z"
   },
   {
    "duration": 9,
    "start_time": "2023-02-19T09:40:42.775Z"
   },
   {
    "duration": 0,
    "start_time": "2023-02-19T09:40:42.787Z"
   },
   {
    "duration": 0,
    "start_time": "2023-02-19T09:40:42.789Z"
   },
   {
    "duration": 0,
    "start_time": "2023-02-19T09:40:42.790Z"
   },
   {
    "duration": 0,
    "start_time": "2023-02-19T09:40:42.792Z"
   },
   {
    "duration": 0,
    "start_time": "2023-02-19T09:40:42.794Z"
   },
   {
    "duration": 0,
    "start_time": "2023-02-19T09:40:42.795Z"
   },
   {
    "duration": 0,
    "start_time": "2023-02-19T09:40:42.797Z"
   },
   {
    "duration": 0,
    "start_time": "2023-02-19T09:40:42.799Z"
   },
   {
    "duration": 0,
    "start_time": "2023-02-19T09:40:42.801Z"
   },
   {
    "duration": 0,
    "start_time": "2023-02-19T09:40:42.802Z"
   },
   {
    "duration": 0,
    "start_time": "2023-02-19T09:40:42.804Z"
   },
   {
    "duration": 0,
    "start_time": "2023-02-19T09:40:42.805Z"
   },
   {
    "duration": 11,
    "start_time": "2023-02-19T09:40:42.870Z"
   },
   {
    "duration": 0,
    "start_time": "2023-02-19T09:40:42.883Z"
   },
   {
    "duration": 0,
    "start_time": "2023-02-19T09:40:42.884Z"
   },
   {
    "duration": 0,
    "start_time": "2023-02-19T09:40:42.886Z"
   },
   {
    "duration": 0,
    "start_time": "2023-02-19T09:40:42.887Z"
   },
   {
    "duration": 0,
    "start_time": "2023-02-19T09:40:42.888Z"
   },
   {
    "duration": 0,
    "start_time": "2023-02-19T09:40:42.889Z"
   },
   {
    "duration": 0,
    "start_time": "2023-02-19T09:40:42.895Z"
   },
   {
    "duration": 0,
    "start_time": "2023-02-19T09:40:42.896Z"
   },
   {
    "duration": 0,
    "start_time": "2023-02-19T09:40:42.897Z"
   },
   {
    "duration": 0,
    "start_time": "2023-02-19T09:40:42.898Z"
   },
   {
    "duration": 8,
    "start_time": "2023-02-19T09:41:04.517Z"
   },
   {
    "duration": 0,
    "start_time": "2023-02-19T09:41:04.527Z"
   },
   {
    "duration": 0,
    "start_time": "2023-02-19T09:41:04.529Z"
   },
   {
    "duration": 0,
    "start_time": "2023-02-19T09:41:04.531Z"
   },
   {
    "duration": 0,
    "start_time": "2023-02-19T09:41:04.532Z"
   },
   {
    "duration": 0,
    "start_time": "2023-02-19T09:41:04.534Z"
   },
   {
    "duration": 10,
    "start_time": "2023-02-19T09:41:04.536Z"
   },
   {
    "duration": 0,
    "start_time": "2023-02-19T09:41:04.548Z"
   },
   {
    "duration": 0,
    "start_time": "2023-02-19T09:41:04.550Z"
   },
   {
    "duration": 0,
    "start_time": "2023-02-19T09:41:04.551Z"
   },
   {
    "duration": 0,
    "start_time": "2023-02-19T09:41:04.552Z"
   },
   {
    "duration": 0,
    "start_time": "2023-02-19T09:41:04.553Z"
   },
   {
    "duration": 0,
    "start_time": "2023-02-19T09:41:04.555Z"
   },
   {
    "duration": 0,
    "start_time": "2023-02-19T09:41:04.556Z"
   },
   {
    "duration": 9,
    "start_time": "2023-02-19T09:41:04.561Z"
   },
   {
    "duration": 0,
    "start_time": "2023-02-19T09:41:04.572Z"
   },
   {
    "duration": 0,
    "start_time": "2023-02-19T09:41:04.575Z"
   },
   {
    "duration": 0,
    "start_time": "2023-02-19T09:41:04.576Z"
   },
   {
    "duration": 0,
    "start_time": "2023-02-19T09:41:04.577Z"
   },
   {
    "duration": 0,
    "start_time": "2023-02-19T09:41:04.587Z"
   },
   {
    "duration": 0,
    "start_time": "2023-02-19T09:41:04.588Z"
   },
   {
    "duration": 0,
    "start_time": "2023-02-19T09:41:04.591Z"
   },
   {
    "duration": 0,
    "start_time": "2023-02-19T09:41:04.593Z"
   },
   {
    "duration": 29,
    "start_time": "2023-02-19T09:41:04.595Z"
   },
   {
    "duration": 0,
    "start_time": "2023-02-19T09:41:04.626Z"
   },
   {
    "duration": 0,
    "start_time": "2023-02-19T09:41:04.667Z"
   },
   {
    "duration": 0,
    "start_time": "2023-02-19T09:41:04.669Z"
   },
   {
    "duration": 0,
    "start_time": "2023-02-19T09:41:04.671Z"
   },
   {
    "duration": 0,
    "start_time": "2023-02-19T09:41:04.674Z"
   },
   {
    "duration": 0,
    "start_time": "2023-02-19T09:41:04.675Z"
   },
   {
    "duration": 0,
    "start_time": "2023-02-19T09:41:04.676Z"
   },
   {
    "duration": 0,
    "start_time": "2023-02-19T09:41:04.676Z"
   },
   {
    "duration": 0,
    "start_time": "2023-02-19T09:41:04.677Z"
   },
   {
    "duration": 0,
    "start_time": "2023-02-19T09:41:04.677Z"
   },
   {
    "duration": 0,
    "start_time": "2023-02-19T09:41:04.678Z"
   },
   {
    "duration": 0,
    "start_time": "2023-02-19T09:41:04.679Z"
   },
   {
    "duration": 0,
    "start_time": "2023-02-19T09:41:04.681Z"
   },
   {
    "duration": 12,
    "start_time": "2023-02-19T09:41:09.833Z"
   },
   {
    "duration": 0,
    "start_time": "2023-02-19T09:41:09.848Z"
   },
   {
    "duration": 0,
    "start_time": "2023-02-19T09:41:09.850Z"
   },
   {
    "duration": 0,
    "start_time": "2023-02-19T09:41:09.852Z"
   },
   {
    "duration": 0,
    "start_time": "2023-02-19T09:41:09.853Z"
   },
   {
    "duration": 0,
    "start_time": "2023-02-19T09:41:09.854Z"
   },
   {
    "duration": 0,
    "start_time": "2023-02-19T09:41:09.855Z"
   },
   {
    "duration": 0,
    "start_time": "2023-02-19T09:41:09.856Z"
   },
   {
    "duration": 8,
    "start_time": "2023-02-19T09:41:09.861Z"
   },
   {
    "duration": 16,
    "start_time": "2023-02-19T09:41:09.871Z"
   },
   {
    "duration": 20,
    "start_time": "2023-02-19T09:41:09.889Z"
   },
   {
    "duration": 5,
    "start_time": "2023-02-19T09:41:09.911Z"
   },
   {
    "duration": 56,
    "start_time": "2023-02-19T09:41:09.918Z"
   },
   {
    "duration": 0,
    "start_time": "2023-02-19T09:41:09.977Z"
   },
   {
    "duration": 0,
    "start_time": "2023-02-19T09:41:09.978Z"
   },
   {
    "duration": 0,
    "start_time": "2023-02-19T09:41:09.981Z"
   },
   {
    "duration": 0,
    "start_time": "2023-02-19T09:41:09.982Z"
   },
   {
    "duration": 0,
    "start_time": "2023-02-19T09:41:09.983Z"
   },
   {
    "duration": 0,
    "start_time": "2023-02-19T09:41:09.985Z"
   },
   {
    "duration": 0,
    "start_time": "2023-02-19T09:41:09.985Z"
   },
   {
    "duration": 0,
    "start_time": "2023-02-19T09:41:09.987Z"
   },
   {
    "duration": 0,
    "start_time": "2023-02-19T09:41:09.988Z"
   },
   {
    "duration": 1,
    "start_time": "2023-02-19T09:41:09.990Z"
   },
   {
    "duration": 0,
    "start_time": "2023-02-19T09:41:09.992Z"
   },
   {
    "duration": 0,
    "start_time": "2023-02-19T09:41:09.994Z"
   },
   {
    "duration": 0,
    "start_time": "2023-02-19T09:41:09.996Z"
   },
   {
    "duration": 0,
    "start_time": "2023-02-19T09:41:09.997Z"
   },
   {
    "duration": 0,
    "start_time": "2023-02-19T09:41:09.998Z"
   },
   {
    "duration": 0,
    "start_time": "2023-02-19T09:41:09.999Z"
   },
   {
    "duration": 0,
    "start_time": "2023-02-19T09:41:10.001Z"
   },
   {
    "duration": 0,
    "start_time": "2023-02-19T09:41:10.002Z"
   },
   {
    "duration": 0,
    "start_time": "2023-02-19T09:41:10.004Z"
   },
   {
    "duration": 0,
    "start_time": "2023-02-19T09:41:10.006Z"
   },
   {
    "duration": 0,
    "start_time": "2023-02-19T09:41:10.007Z"
   },
   {
    "duration": 0,
    "start_time": "2023-02-19T09:41:10.010Z"
   },
   {
    "duration": 0,
    "start_time": "2023-02-19T09:41:10.012Z"
   },
   {
    "duration": 0,
    "start_time": "2023-02-19T09:41:10.067Z"
   },
   {
    "duration": 1232,
    "start_time": "2023-02-19T09:41:38.621Z"
   },
   {
    "duration": 44,
    "start_time": "2023-02-19T09:41:39.855Z"
   },
   {
    "duration": 16,
    "start_time": "2023-02-19T09:41:41.629Z"
   },
   {
    "duration": 435,
    "start_time": "2023-02-19T09:41:44.319Z"
   },
   {
    "duration": 2680,
    "start_time": "2023-02-19T09:41:46.996Z"
   },
   {
    "duration": 4,
    "start_time": "2023-02-19T09:41:49.679Z"
   },
   {
    "duration": 274,
    "start_time": "2023-02-19T09:41:51.297Z"
   },
   {
    "duration": 13,
    "start_time": "2023-02-19T09:41:52.549Z"
   },
   {
    "duration": 6,
    "start_time": "2023-02-19T09:41:53.801Z"
   },
   {
    "duration": 11,
    "start_time": "2023-02-19T09:41:55.070Z"
   },
   {
    "duration": 24,
    "start_time": "2023-02-19T09:42:00.617Z"
   },
   {
    "duration": 5,
    "start_time": "2023-02-19T09:42:01.325Z"
   },
   {
    "duration": 93,
    "start_time": "2023-02-19T09:42:04.997Z"
   },
   {
    "duration": 9,
    "start_time": "2023-02-19T09:43:34.209Z"
   },
   {
    "duration": 13,
    "start_time": "2023-02-19T09:43:44.403Z"
   },
   {
    "duration": 11,
    "start_time": "2023-02-19T09:44:36.848Z"
   },
   {
    "duration": 8,
    "start_time": "2023-02-19T09:45:19.538Z"
   },
   {
    "duration": 9,
    "start_time": "2023-02-19T09:45:19.927Z"
   },
   {
    "duration": 11,
    "start_time": "2023-02-19T09:46:15.415Z"
   },
   {
    "duration": 6,
    "start_time": "2023-02-19T09:46:16.853Z"
   },
   {
    "duration": 4,
    "start_time": "2023-02-19T09:46:18.012Z"
   },
   {
    "duration": 16,
    "start_time": "2023-02-19T09:46:18.771Z"
   },
   {
    "duration": 6,
    "start_time": "2023-02-19T09:51:19.075Z"
   },
   {
    "duration": 7,
    "start_time": "2023-02-19T09:51:19.573Z"
   },
   {
    "duration": 5,
    "start_time": "2023-02-19T09:51:20.068Z"
   },
   {
    "duration": 6,
    "start_time": "2023-02-19T09:51:20.584Z"
   },
   {
    "duration": 3,
    "start_time": "2023-02-19T09:51:21.027Z"
   },
   {
    "duration": 18,
    "start_time": "2023-02-19T09:51:25.622Z"
   },
   {
    "duration": 16,
    "start_time": "2023-02-19T09:51:55.105Z"
   },
   {
    "duration": 17,
    "start_time": "2023-02-19T09:52:10.763Z"
   },
   {
    "duration": 13,
    "start_time": "2023-02-19T09:52:18.586Z"
   },
   {
    "duration": 3,
    "start_time": "2023-02-19T09:52:27.604Z"
   },
   {
    "duration": 16,
    "start_time": "2023-02-19T09:52:31.704Z"
   },
   {
    "duration": 12,
    "start_time": "2023-02-19T09:52:32.666Z"
   },
   {
    "duration": 11,
    "start_time": "2023-02-19T09:52:33.309Z"
   },
   {
    "duration": 3,
    "start_time": "2023-02-19T09:52:35.703Z"
   },
   {
    "duration": 4,
    "start_time": "2023-02-19T09:52:55.559Z"
   },
   {
    "duration": 42,
    "start_time": "2023-02-19T09:52:55.921Z"
   },
   {
    "duration": 12,
    "start_time": "2023-02-19T09:52:57.793Z"
   },
   {
    "duration": 345,
    "start_time": "2023-02-19T09:53:00.044Z"
   },
   {
    "duration": 2341,
    "start_time": "2023-02-19T09:53:01.938Z"
   },
   {
    "duration": 4,
    "start_time": "2023-02-19T09:53:04.281Z"
   },
   {
    "duration": 282,
    "start_time": "2023-02-19T09:53:10.253Z"
   },
   {
    "duration": 11,
    "start_time": "2023-02-19T09:53:11.509Z"
   },
   {
    "duration": 5,
    "start_time": "2023-02-19T09:53:12.910Z"
   },
   {
    "duration": 5,
    "start_time": "2023-02-19T09:53:13.897Z"
   },
   {
    "duration": 21,
    "start_time": "2023-02-19T09:53:16.792Z"
   },
   {
    "duration": 4,
    "start_time": "2023-02-19T09:53:17.481Z"
   },
   {
    "duration": 10,
    "start_time": "2023-02-19T09:53:19.936Z"
   },
   {
    "duration": 6,
    "start_time": "2023-02-19T09:53:21.840Z"
   },
   {
    "duration": 4,
    "start_time": "2023-02-19T09:53:22.508Z"
   },
   {
    "duration": 15,
    "start_time": "2023-02-19T09:53:23.253Z"
   },
   {
    "duration": 6,
    "start_time": "2023-02-19T09:53:32.982Z"
   },
   {
    "duration": 7,
    "start_time": "2023-02-19T09:53:33.673Z"
   },
   {
    "duration": 6,
    "start_time": "2023-02-19T09:53:34.338Z"
   },
   {
    "duration": 8,
    "start_time": "2023-02-19T09:53:34.900Z"
   },
   {
    "duration": 3,
    "start_time": "2023-02-19T09:53:35.510Z"
   },
   {
    "duration": 16,
    "start_time": "2023-02-19T09:53:42.181Z"
   },
   {
    "duration": 12,
    "start_time": "2023-02-19T09:53:42.990Z"
   },
   {
    "duration": 6,
    "start_time": "2023-02-19T09:56:46.727Z"
   },
   {
    "duration": 7,
    "start_time": "2023-02-19T09:56:51.325Z"
   },
   {
    "duration": 6,
    "start_time": "2023-02-19T09:56:51.925Z"
   },
   {
    "duration": 5,
    "start_time": "2023-02-19T09:56:52.463Z"
   },
   {
    "duration": 7,
    "start_time": "2023-02-19T09:56:52.983Z"
   },
   {
    "duration": 3,
    "start_time": "2023-02-19T09:56:53.498Z"
   },
   {
    "duration": 1192,
    "start_time": "2023-02-19T09:56:57.084Z"
   },
   {
    "duration": 99,
    "start_time": "2023-02-19T09:56:58.369Z"
   },
   {
    "duration": 9,
    "start_time": "2023-02-19T09:56:58.758Z"
   },
   {
    "duration": 10,
    "start_time": "2023-02-19T09:57:34.369Z"
   },
   {
    "duration": 18,
    "start_time": "2023-02-19T09:57:57.780Z"
   },
   {
    "duration": 5,
    "start_time": "2023-02-19T09:58:07.203Z"
   },
   {
    "duration": 6,
    "start_time": "2023-02-19T09:58:07.731Z"
   },
   {
    "duration": 5,
    "start_time": "2023-02-19T09:58:08.251Z"
   },
   {
    "duration": 7,
    "start_time": "2023-02-19T09:58:08.767Z"
   },
   {
    "duration": 3,
    "start_time": "2023-02-19T09:58:09.309Z"
   },
   {
    "duration": 15,
    "start_time": "2023-02-19T09:58:12.972Z"
   },
   {
    "duration": 11,
    "start_time": "2023-02-19T09:58:15.508Z"
   },
   {
    "duration": 20,
    "start_time": "2023-02-19T10:02:21.670Z"
   },
   {
    "duration": 6,
    "start_time": "2023-02-19T10:02:31.538Z"
   },
   {
    "duration": 7,
    "start_time": "2023-02-19T10:02:32.144Z"
   },
   {
    "duration": 5,
    "start_time": "2023-02-19T10:02:32.742Z"
   },
   {
    "duration": 9,
    "start_time": "2023-02-19T10:02:33.382Z"
   },
   {
    "duration": 3,
    "start_time": "2023-02-19T10:02:34.011Z"
   },
   {
    "duration": 17,
    "start_time": "2023-02-19T10:02:38.165Z"
   },
   {
    "duration": 11,
    "start_time": "2023-02-19T10:02:39.127Z"
   },
   {
    "duration": 11,
    "start_time": "2023-02-19T10:02:39.799Z"
   },
   {
    "duration": 7,
    "start_time": "2023-02-19T10:03:06.085Z"
   },
   {
    "duration": 6,
    "start_time": "2023-02-19T10:03:12.520Z"
   },
   {
    "duration": 7,
    "start_time": "2023-02-19T10:03:13.057Z"
   },
   {
    "duration": 6,
    "start_time": "2023-02-19T10:03:13.555Z"
   },
   {
    "duration": 7,
    "start_time": "2023-02-19T10:03:14.008Z"
   },
   {
    "duration": 4,
    "start_time": "2023-02-19T10:03:14.487Z"
   },
   {
    "duration": 16,
    "start_time": "2023-02-19T10:03:17.887Z"
   },
   {
    "duration": 12,
    "start_time": "2023-02-19T10:03:18.488Z"
   },
   {
    "duration": 12,
    "start_time": "2023-02-19T10:03:19.021Z"
   },
   {
    "duration": 886,
    "start_time": "2023-02-19T10:04:04.417Z"
   },
   {
    "duration": 5,
    "start_time": "2023-02-19T10:05:08.775Z"
   },
   {
    "duration": 6,
    "start_time": "2023-02-19T10:05:21.091Z"
   },
   {
    "duration": 6,
    "start_time": "2023-02-19T10:05:21.660Z"
   },
   {
    "duration": 4,
    "start_time": "2023-02-19T10:05:22.077Z"
   },
   {
    "duration": 7,
    "start_time": "2023-02-19T10:05:22.376Z"
   },
   {
    "duration": 3,
    "start_time": "2023-02-19T10:05:22.822Z"
   },
   {
    "duration": 1085,
    "start_time": "2023-02-19T10:05:26.388Z"
   },
   {
    "duration": 98,
    "start_time": "2023-02-19T10:05:27.476Z"
   },
   {
    "duration": 9,
    "start_time": "2023-02-19T10:05:27.823Z"
   },
   {
    "duration": 19,
    "start_time": "2023-02-19T10:10:15.103Z"
   },
   {
    "duration": 13,
    "start_time": "2023-02-19T10:10:37.357Z"
   },
   {
    "duration": 13,
    "start_time": "2023-02-19T10:10:51.429Z"
   },
   {
    "duration": 18,
    "start_time": "2023-02-19T10:11:10.115Z"
   },
   {
    "duration": 5,
    "start_time": "2023-02-19T10:11:14.540Z"
   },
   {
    "duration": 7,
    "start_time": "2023-02-19T10:11:15.574Z"
   },
   {
    "duration": 6,
    "start_time": "2023-02-19T10:11:16.104Z"
   },
   {
    "duration": 7,
    "start_time": "2023-02-19T10:11:16.522Z"
   },
   {
    "duration": 3,
    "start_time": "2023-02-19T10:11:17.175Z"
   },
   {
    "duration": 18,
    "start_time": "2023-02-19T10:11:20.857Z"
   },
   {
    "duration": 4,
    "start_time": "2023-02-19T10:16:26.408Z"
   },
   {
    "duration": 698,
    "start_time": "2023-02-19T10:16:43.322Z"
   },
   {
    "duration": 13,
    "start_time": "2023-02-19T10:17:04.073Z"
   },
   {
    "duration": 13,
    "start_time": "2023-02-19T10:20:07.441Z"
   },
   {
    "duration": 17,
    "start_time": "2023-02-19T10:28:01.891Z"
   },
   {
    "duration": 13,
    "start_time": "2023-02-19T10:28:57.274Z"
   },
   {
    "duration": 11,
    "start_time": "2023-02-19T10:29:19.799Z"
   },
   {
    "duration": 12,
    "start_time": "2023-02-19T10:30:20.464Z"
   },
   {
    "duration": 50,
    "start_time": "2023-02-19T10:30:32.343Z"
   },
   {
    "duration": 13,
    "start_time": "2023-02-19T10:30:37.144Z"
   },
   {
    "duration": 6,
    "start_time": "2023-02-19T10:31:23.788Z"
   },
   {
    "duration": 7,
    "start_time": "2023-02-19T10:31:24.400Z"
   },
   {
    "duration": 5,
    "start_time": "2023-02-19T10:31:24.833Z"
   },
   {
    "duration": 9,
    "start_time": "2023-02-19T10:31:25.235Z"
   },
   {
    "duration": 4,
    "start_time": "2023-02-19T10:31:25.681Z"
   },
   {
    "duration": 19,
    "start_time": "2023-02-19T10:31:29.949Z"
   },
   {
    "duration": 15,
    "start_time": "2023-02-19T10:31:30.967Z"
   },
   {
    "duration": 13,
    "start_time": "2023-02-19T10:31:31.641Z"
   },
   {
    "duration": 17,
    "start_time": "2023-02-19T10:32:46.984Z"
   },
   {
    "duration": 9,
    "start_time": "2023-02-19T10:32:47.541Z"
   },
   {
    "duration": 4,
    "start_time": "2023-02-19T10:33:00.081Z"
   },
   {
    "duration": 7,
    "start_time": "2023-02-19T10:33:02.437Z"
   },
   {
    "duration": 9,
    "start_time": "2023-02-19T10:33:02.828Z"
   },
   {
    "duration": 6,
    "start_time": "2023-02-19T10:33:03.217Z"
   },
   {
    "duration": 9,
    "start_time": "2023-02-19T10:33:03.607Z"
   },
   {
    "duration": 4,
    "start_time": "2023-02-19T10:33:03.973Z"
   },
   {
    "duration": 15,
    "start_time": "2023-02-19T10:33:07.582Z"
   },
   {
    "duration": 11,
    "start_time": "2023-02-19T10:33:08.156Z"
   },
   {
    "duration": 11,
    "start_time": "2023-02-19T10:33:08.640Z"
   },
   {
    "duration": 12,
    "start_time": "2023-02-19T10:36:50.069Z"
   },
   {
    "duration": 818,
    "start_time": "2023-02-19T10:37:10.719Z"
   },
   {
    "duration": 13,
    "start_time": "2023-02-19T10:37:34.510Z"
   },
   {
    "duration": 4,
    "start_time": "2023-02-19T10:37:40.983Z"
   },
   {
    "duration": 6,
    "start_time": "2023-02-19T10:37:43.248Z"
   },
   {
    "duration": 7,
    "start_time": "2023-02-19T10:37:43.701Z"
   },
   {
    "duration": 5,
    "start_time": "2023-02-19T10:37:44.043Z"
   },
   {
    "duration": 8,
    "start_time": "2023-02-19T10:37:44.418Z"
   },
   {
    "duration": 3,
    "start_time": "2023-02-19T10:37:44.786Z"
   },
   {
    "duration": 16,
    "start_time": "2023-02-19T10:37:47.411Z"
   },
   {
    "duration": 13,
    "start_time": "2023-02-19T10:37:48.197Z"
   },
   {
    "duration": 15,
    "start_time": "2023-02-19T10:37:48.663Z"
   },
   {
    "duration": 12,
    "start_time": "2023-02-19T10:38:32.037Z"
   },
   {
    "duration": 10,
    "start_time": "2023-02-19T10:38:41.800Z"
   },
   {
    "duration": 5,
    "start_time": "2023-02-19T10:43:35.347Z"
   },
   {
    "duration": 12,
    "start_time": "2023-02-19T10:43:38.638Z"
   },
   {
    "duration": 10,
    "start_time": "2023-02-19T10:43:43.874Z"
   },
   {
    "duration": 6,
    "start_time": "2023-02-19T10:43:45.955Z"
   },
   {
    "duration": 12,
    "start_time": "2023-02-19T10:43:46.422Z"
   },
   {
    "duration": 5,
    "start_time": "2023-02-19T10:43:47.606Z"
   },
   {
    "duration": 11,
    "start_time": "2023-02-19T10:44:27.791Z"
   },
   {
    "duration": 7,
    "start_time": "2023-02-19T10:44:29.276Z"
   },
   {
    "duration": 4,
    "start_time": "2023-02-19T10:44:36.322Z"
   },
   {
    "duration": 48,
    "start_time": "2023-02-19T10:44:36.732Z"
   },
   {
    "duration": 12,
    "start_time": "2023-02-19T10:44:37.840Z"
   },
   {
    "duration": 343,
    "start_time": "2023-02-19T10:44:39.310Z"
   },
   {
    "duration": 2636,
    "start_time": "2023-02-19T10:44:40.492Z"
   },
   {
    "duration": 5,
    "start_time": "2023-02-19T10:44:43.131Z"
   },
   {
    "duration": 306,
    "start_time": "2023-02-19T10:44:43.137Z"
   },
   {
    "duration": 12,
    "start_time": "2023-02-19T10:44:43.615Z"
   },
   {
    "duration": 6,
    "start_time": "2023-02-19T10:44:44.404Z"
   },
   {
    "duration": 6,
    "start_time": "2023-02-19T10:44:45.254Z"
   },
   {
    "duration": 17,
    "start_time": "2023-02-19T10:44:47.409Z"
   },
   {
    "duration": 6,
    "start_time": "2023-02-19T10:44:48.144Z"
   },
   {
    "duration": 14,
    "start_time": "2023-02-19T10:44:50.271Z"
   },
   {
    "duration": 4,
    "start_time": "2023-02-19T10:45:09.345Z"
   },
   {
    "duration": 3,
    "start_time": "2023-02-19T10:45:48.798Z"
   },
   {
    "duration": 11,
    "start_time": "2023-02-19T10:45:49.790Z"
   },
   {
    "duration": 16,
    "start_time": "2023-02-19T10:45:53.194Z"
   },
   {
    "duration": 9,
    "start_time": "2023-02-19T10:45:54.569Z"
   },
   {
    "duration": 6,
    "start_time": "2023-02-19T10:45:55.091Z"
   },
   {
    "duration": 12,
    "start_time": "2023-02-19T10:46:43.781Z"
   },
   {
    "duration": 12,
    "start_time": "2023-02-19T10:46:53.010Z"
   },
   {
    "duration": 12,
    "start_time": "2023-02-19T10:47:08.532Z"
   },
   {
    "duration": 5,
    "start_time": "2023-02-19T10:47:21.739Z"
   },
   {
    "duration": 41,
    "start_time": "2023-02-19T10:47:22.160Z"
   },
   {
    "duration": 12,
    "start_time": "2023-02-19T10:47:23.425Z"
   },
   {
    "duration": 13,
    "start_time": "2023-02-19T10:47:23.887Z"
   },
   {
    "duration": 313,
    "start_time": "2023-02-19T10:47:25.775Z"
   },
   {
    "duration": 2450,
    "start_time": "2023-02-19T10:47:27.355Z"
   },
   {
    "duration": 4,
    "start_time": "2023-02-19T10:47:29.807Z"
   },
   {
    "duration": 297,
    "start_time": "2023-02-19T10:47:30.154Z"
   },
   {
    "duration": 15,
    "start_time": "2023-02-19T10:47:31.054Z"
   },
   {
    "duration": 7,
    "start_time": "2023-02-19T10:47:31.933Z"
   },
   {
    "duration": 7,
    "start_time": "2023-02-19T10:47:32.824Z"
   },
   {
    "duration": 17,
    "start_time": "2023-02-19T10:47:35.059Z"
   },
   {
    "duration": 5,
    "start_time": "2023-02-19T10:47:35.571Z"
   },
   {
    "duration": 5,
    "start_time": "2023-02-19T10:47:38.368Z"
   },
   {
    "duration": 11,
    "start_time": "2023-02-19T10:47:39.288Z"
   },
   {
    "duration": 12,
    "start_time": "2023-02-19T10:47:42.022Z"
   },
   {
    "duration": 7,
    "start_time": "2023-02-19T10:47:44.285Z"
   },
   {
    "duration": 4,
    "start_time": "2023-02-19T10:47:45.474Z"
   },
   {
    "duration": 10,
    "start_time": "2023-02-19T10:48:19.983Z"
   },
   {
    "duration": 3,
    "start_time": "2023-02-19T10:48:50.914Z"
   },
   {
    "duration": 40,
    "start_time": "2023-02-19T10:48:51.483Z"
   },
   {
    "duration": 14,
    "start_time": "2023-02-19T10:48:53.490Z"
   },
   {
    "duration": 14,
    "start_time": "2023-02-19T10:48:54.064Z"
   },
   {
    "duration": 5,
    "start_time": "2023-02-19T10:48:54.629Z"
   },
   {
    "duration": 14,
    "start_time": "2023-02-19T10:48:56.008Z"
   },
   {
    "duration": 336,
    "start_time": "2023-02-19T10:48:59.417Z"
   },
   {
    "duration": 2599,
    "start_time": "2023-02-19T10:49:01.132Z"
   },
   {
    "duration": 4,
    "start_time": "2023-02-19T10:49:03.733Z"
   },
   {
    "duration": 325,
    "start_time": "2023-02-19T10:49:04.518Z"
   },
   {
    "duration": 10,
    "start_time": "2023-02-19T10:49:05.872Z"
   },
   {
    "duration": 5,
    "start_time": "2023-02-19T10:49:06.929Z"
   },
   {
    "duration": 5,
    "start_time": "2023-02-19T10:49:08.075Z"
   },
   {
    "duration": 23,
    "start_time": "2023-02-19T10:49:10.720Z"
   },
   {
    "duration": 5,
    "start_time": "2023-02-19T10:49:11.849Z"
   },
   {
    "duration": 14,
    "start_time": "2023-02-19T10:49:14.988Z"
   },
   {
    "duration": 8,
    "start_time": "2023-02-19T10:49:16.965Z"
   },
   {
    "duration": 4,
    "start_time": "2023-02-19T10:49:18.632Z"
   },
   {
    "duration": 6,
    "start_time": "2023-02-19T10:49:22.048Z"
   },
   {
    "duration": 7,
    "start_time": "2023-02-19T10:49:22.588Z"
   },
   {
    "duration": 5,
    "start_time": "2023-02-19T10:49:23.193Z"
   },
   {
    "duration": 6,
    "start_time": "2023-02-19T10:49:23.744Z"
   },
   {
    "duration": 3,
    "start_time": "2023-02-19T10:49:24.299Z"
   },
   {
    "duration": 990,
    "start_time": "2023-02-19T10:49:28.085Z"
   },
   {
    "duration": 99,
    "start_time": "2023-02-19T10:49:29.078Z"
   },
   {
    "duration": 34,
    "start_time": "2023-02-19T10:49:29.268Z"
   },
   {
    "duration": 6,
    "start_time": "2023-02-19T10:50:11.589Z"
   },
   {
    "duration": 7,
    "start_time": "2023-02-19T10:50:12.053Z"
   },
   {
    "duration": 5,
    "start_time": "2023-02-19T10:50:12.595Z"
   },
   {
    "duration": 7,
    "start_time": "2023-02-19T10:50:13.603Z"
   },
   {
    "duration": 3,
    "start_time": "2023-02-19T10:50:14.276Z"
   },
   {
    "duration": 1379,
    "start_time": "2023-02-19T10:50:21.693Z"
   },
   {
    "duration": 101,
    "start_time": "2023-02-19T10:50:23.075Z"
   },
   {
    "duration": 104,
    "start_time": "2023-02-19T10:50:23.273Z"
   },
   {
    "duration": 1397,
    "start_time": "2023-02-19T10:50:47.284Z"
   },
   {
    "duration": 9,
    "start_time": "2023-02-19T10:52:15.797Z"
   },
   {
    "duration": 8,
    "start_time": "2023-02-19T10:52:43.385Z"
   },
   {
    "duration": 4,
    "start_time": "2023-02-19T10:53:42.179Z"
   },
   {
    "duration": 75,
    "start_time": "2023-02-19T10:53:42.185Z"
   },
   {
    "duration": 13,
    "start_time": "2023-02-19T10:53:42.261Z"
   },
   {
    "duration": 12,
    "start_time": "2023-02-19T10:53:42.275Z"
   },
   {
    "duration": 4,
    "start_time": "2023-02-19T10:53:42.289Z"
   },
   {
    "duration": 16,
    "start_time": "2023-02-19T10:53:42.295Z"
   },
   {
    "duration": 361,
    "start_time": "2023-02-19T10:53:42.313Z"
   },
   {
    "duration": 2525,
    "start_time": "2023-02-19T10:53:42.677Z"
   },
   {
    "duration": 5,
    "start_time": "2023-02-19T10:53:45.205Z"
   },
   {
    "duration": 408,
    "start_time": "2023-02-19T10:53:45.212Z"
   },
   {
    "duration": 10,
    "start_time": "2023-02-19T10:53:45.622Z"
   },
   {
    "duration": 39,
    "start_time": "2023-02-19T10:53:45.633Z"
   },
   {
    "duration": 7,
    "start_time": "2023-02-19T10:53:45.676Z"
   },
   {
    "duration": 45,
    "start_time": "2023-02-19T10:53:45.685Z"
   },
   {
    "duration": 5,
    "start_time": "2023-02-19T10:53:45.732Z"
   },
   {
    "duration": 21,
    "start_time": "2023-02-19T10:53:45.739Z"
   },
   {
    "duration": 6,
    "start_time": "2023-02-19T10:53:45.767Z"
   },
   {
    "duration": 7,
    "start_time": "2023-02-19T10:53:45.774Z"
   },
   {
    "duration": 17,
    "start_time": "2023-02-19T10:53:45.783Z"
   },
   {
    "duration": 18,
    "start_time": "2023-02-19T10:53:45.801Z"
   },
   {
    "duration": 10,
    "start_time": "2023-02-19T10:53:45.820Z"
   },
   {
    "duration": 9,
    "start_time": "2023-02-19T10:53:45.832Z"
   },
   {
    "duration": 6,
    "start_time": "2023-02-19T10:53:45.842Z"
   },
   {
    "duration": 1323,
    "start_time": "2023-02-19T10:53:45.849Z"
   },
   {
    "duration": 100,
    "start_time": "2023-02-19T10:53:47.177Z"
   },
   {
    "duration": 191,
    "start_time": "2023-02-19T10:53:47.279Z"
   },
   {
    "duration": 19,
    "start_time": "2023-02-19T10:53:47.566Z"
   },
   {
    "duration": 8,
    "start_time": "2023-02-19T10:53:47.588Z"
   },
   {
    "duration": 28024,
    "start_time": "2023-02-19T10:53:47.598Z"
   },
   {
    "duration": 21,
    "start_time": "2023-02-19T10:54:15.624Z"
   },
   {
    "duration": 36,
    "start_time": "2023-02-19T10:54:15.646Z"
   },
   {
    "duration": 6,
    "start_time": "2023-02-19T10:54:15.684Z"
   },
   {
    "duration": 16,
    "start_time": "2023-02-19T10:54:15.691Z"
   },
   {
    "duration": 40473,
    "start_time": "2023-02-19T10:54:15.709Z"
   },
   {
    "duration": 25,
    "start_time": "2023-02-19T10:54:56.184Z"
   },
   {
    "duration": 5,
    "start_time": "2023-02-19T10:54:56.211Z"
   },
   {
    "duration": 27,
    "start_time": "2023-02-19T10:54:56.220Z"
   },
   {
    "duration": 19720,
    "start_time": "2023-02-19T10:54:56.249Z"
   },
   {
    "duration": 17,
    "start_time": "2023-02-19T10:55:15.971Z"
   },
   {
    "duration": 16,
    "start_time": "2023-02-19T10:55:15.989Z"
   },
   {
    "duration": 9,
    "start_time": "2023-02-19T10:55:16.008Z"
   },
   {
    "duration": 56,
    "start_time": "2023-02-19T10:58:08.061Z"
   },
   {
    "duration": 3,
    "start_time": "2023-02-19T11:10:27.716Z"
   },
   {
    "duration": 9,
    "start_time": "2023-02-19T11:10:28.228Z"
   },
   {
    "duration": 13,
    "start_time": "2023-02-19T11:10:48.940Z"
   },
   {
    "duration": 5,
    "start_time": "2023-02-19T11:11:57.497Z"
   },
   {
    "duration": 10,
    "start_time": "2023-02-19T11:11:57.977Z"
   },
   {
    "duration": 9,
    "start_time": "2023-02-19T11:14:41.725Z"
   },
   {
    "duration": 20,
    "start_time": "2023-02-19T11:21:46.790Z"
   },
   {
    "duration": 4,
    "start_time": "2023-02-19T11:25:44.639Z"
   },
   {
    "duration": 60,
    "start_time": "2023-02-19T11:25:44.645Z"
   },
   {
    "duration": 15,
    "start_time": "2023-02-19T11:25:44.707Z"
   },
   {
    "duration": 18,
    "start_time": "2023-02-19T11:25:44.724Z"
   },
   {
    "duration": 5,
    "start_time": "2023-02-19T11:25:44.744Z"
   },
   {
    "duration": 21,
    "start_time": "2023-02-19T11:25:44.751Z"
   },
   {
    "duration": 428,
    "start_time": "2023-02-19T11:25:44.774Z"
   },
   {
    "duration": 2729,
    "start_time": "2023-02-19T11:25:45.204Z"
   },
   {
    "duration": 5,
    "start_time": "2023-02-19T11:25:47.936Z"
   },
   {
    "duration": 323,
    "start_time": "2023-02-19T11:25:47.944Z"
   },
   {
    "duration": 13,
    "start_time": "2023-02-19T11:25:48.271Z"
   },
   {
    "duration": 7,
    "start_time": "2023-02-19T11:25:48.286Z"
   },
   {
    "duration": 10,
    "start_time": "2023-02-19T11:25:48.295Z"
   },
   {
    "duration": 27,
    "start_time": "2023-02-19T11:25:48.306Z"
   },
   {
    "duration": 32,
    "start_time": "2023-02-19T11:25:48.335Z"
   },
   {
    "duration": 11,
    "start_time": "2023-02-19T11:25:48.369Z"
   },
   {
    "duration": 10,
    "start_time": "2023-02-19T11:25:48.381Z"
   },
   {
    "duration": 7,
    "start_time": "2023-02-19T11:25:48.392Z"
   },
   {
    "duration": 13,
    "start_time": "2023-02-19T11:25:48.401Z"
   },
   {
    "duration": 14,
    "start_time": "2023-02-19T11:25:48.416Z"
   },
   {
    "duration": 7,
    "start_time": "2023-02-19T11:25:48.434Z"
   },
   {
    "duration": 26,
    "start_time": "2023-02-19T11:25:48.442Z"
   },
   {
    "duration": 4,
    "start_time": "2023-02-19T11:25:48.470Z"
   },
   {
    "duration": 8004,
    "start_time": "2023-02-19T11:25:48.475Z"
   },
   {
    "duration": 185,
    "start_time": "2023-02-19T11:25:56.481Z"
   },
   {
    "duration": 121,
    "start_time": "2023-02-19T11:25:56.670Z"
   },
   {
    "duration": 182,
    "start_time": "2023-02-19T11:25:56.795Z"
   },
   {
    "duration": 0,
    "start_time": "2023-02-19T11:25:56.979Z"
   },
   {
    "duration": 1,
    "start_time": "2023-02-19T11:25:56.983Z"
   },
   {
    "duration": 0,
    "start_time": "2023-02-19T11:25:56.985Z"
   },
   {
    "duration": 0,
    "start_time": "2023-02-19T11:25:56.987Z"
   },
   {
    "duration": 0,
    "start_time": "2023-02-19T11:25:56.988Z"
   },
   {
    "duration": 0,
    "start_time": "2023-02-19T11:25:56.989Z"
   },
   {
    "duration": 0,
    "start_time": "2023-02-19T11:25:56.991Z"
   },
   {
    "duration": 0,
    "start_time": "2023-02-19T11:25:56.992Z"
   },
   {
    "duration": 0,
    "start_time": "2023-02-19T11:25:56.994Z"
   },
   {
    "duration": 0,
    "start_time": "2023-02-19T11:25:56.996Z"
   },
   {
    "duration": 0,
    "start_time": "2023-02-19T11:25:56.997Z"
   },
   {
    "duration": 18,
    "start_time": "2023-02-19T11:25:59.877Z"
   },
   {
    "duration": 4,
    "start_time": "2023-02-19T11:27:55.775Z"
   },
   {
    "duration": 51,
    "start_time": "2023-02-19T11:27:55.782Z"
   },
   {
    "duration": 13,
    "start_time": "2023-02-19T11:27:55.834Z"
   },
   {
    "duration": 21,
    "start_time": "2023-02-19T11:27:55.849Z"
   },
   {
    "duration": 9,
    "start_time": "2023-02-19T11:27:55.872Z"
   },
   {
    "duration": 18,
    "start_time": "2023-02-19T11:27:55.882Z"
   },
   {
    "duration": 349,
    "start_time": "2023-02-19T11:27:55.902Z"
   },
   {
    "duration": 2670,
    "start_time": "2023-02-19T11:27:56.254Z"
   },
   {
    "duration": 4,
    "start_time": "2023-02-19T11:27:58.926Z"
   },
   {
    "duration": 355,
    "start_time": "2023-02-19T11:27:58.933Z"
   },
   {
    "duration": 11,
    "start_time": "2023-02-19T11:27:59.291Z"
   },
   {
    "duration": 12,
    "start_time": "2023-02-19T11:27:59.306Z"
   },
   {
    "duration": 9,
    "start_time": "2023-02-19T11:27:59.320Z"
   },
   {
    "duration": 39,
    "start_time": "2023-02-19T11:27:59.331Z"
   },
   {
    "duration": 5,
    "start_time": "2023-02-19T11:27:59.372Z"
   },
   {
    "duration": 15,
    "start_time": "2023-02-19T11:27:59.379Z"
   },
   {
    "duration": 6,
    "start_time": "2023-02-19T11:27:59.396Z"
   },
   {
    "duration": 4,
    "start_time": "2023-02-19T11:27:59.404Z"
   },
   {
    "duration": 9,
    "start_time": "2023-02-19T11:27:59.409Z"
   },
   {
    "duration": 9,
    "start_time": "2023-02-19T11:27:59.421Z"
   },
   {
    "duration": 36,
    "start_time": "2023-02-19T11:27:59.432Z"
   },
   {
    "duration": 11,
    "start_time": "2023-02-19T11:27:59.469Z"
   },
   {
    "duration": 12,
    "start_time": "2023-02-19T11:27:59.481Z"
   },
   {
    "duration": 883,
    "start_time": "2023-02-19T11:27:59.495Z"
   },
   {
    "duration": 101,
    "start_time": "2023-02-19T11:28:00.380Z"
   },
   {
    "duration": 131,
    "start_time": "2023-02-19T11:28:00.568Z"
   },
   {
    "duration": 19,
    "start_time": "2023-02-19T11:28:37.727Z"
   },
   {
    "duration": 34,
    "start_time": "2023-02-19T11:28:37.748Z"
   },
   {
    "duration": 5,
    "start_time": "2023-02-19T11:28:37.784Z"
   },
   {
    "duration": 20,
    "start_time": "2023-02-19T11:28:37.791Z"
   },
   {
    "duration": 259247,
    "start_time": "2023-02-19T11:28:37.813Z"
   },
   {
    "duration": 87,
    "start_time": "2023-02-19T11:32:57.063Z"
   },
   {
    "duration": 16,
    "start_time": "2023-02-19T11:32:57.152Z"
   },
   {
    "duration": 18,
    "start_time": "2023-02-19T11:32:57.170Z"
   },
   {
    "duration": 126205,
    "start_time": "2023-02-19T11:32:57.189Z"
   },
   {
    "duration": 50,
    "start_time": "2023-02-19T11:35:03.396Z"
   },
   {
    "duration": 42,
    "start_time": "2023-02-19T11:35:03.466Z"
   },
   {
    "duration": 35966,
    "start_time": "2023-02-19T11:35:03.510Z"
   },
   {
    "duration": 22,
    "start_time": "2023-02-19T11:38:05.077Z"
   },
   {
    "duration": 5,
    "start_time": "2023-02-19T11:38:47.733Z"
   },
   {
    "duration": 55,
    "start_time": "2023-02-19T11:38:47.740Z"
   },
   {
    "duration": 15,
    "start_time": "2023-02-19T11:38:47.797Z"
   },
   {
    "duration": 28,
    "start_time": "2023-02-19T11:38:47.814Z"
   },
   {
    "duration": 9,
    "start_time": "2023-02-19T11:38:47.843Z"
   },
   {
    "duration": 20,
    "start_time": "2023-02-19T11:38:47.853Z"
   },
   {
    "duration": 327,
    "start_time": "2023-02-19T11:38:47.875Z"
   },
   {
    "duration": 2376,
    "start_time": "2023-02-19T11:38:48.204Z"
   },
   {
    "duration": 4,
    "start_time": "2023-02-19T11:38:50.583Z"
   },
   {
    "duration": 287,
    "start_time": "2023-02-19T11:38:50.589Z"
   },
   {
    "duration": 10,
    "start_time": "2023-02-19T11:38:50.877Z"
   },
   {
    "duration": 7,
    "start_time": "2023-02-19T11:38:50.889Z"
   },
   {
    "duration": 10,
    "start_time": "2023-02-19T11:38:50.898Z"
   },
   {
    "duration": 20,
    "start_time": "2023-02-19T11:38:50.910Z"
   },
   {
    "duration": 4,
    "start_time": "2023-02-19T11:38:50.932Z"
   },
   {
    "duration": 39,
    "start_time": "2023-02-19T11:38:50.938Z"
   },
   {
    "duration": 6,
    "start_time": "2023-02-19T11:38:50.978Z"
   },
   {
    "duration": 7,
    "start_time": "2023-02-19T11:38:50.986Z"
   },
   {
    "duration": 7,
    "start_time": "2023-02-19T11:38:50.995Z"
   },
   {
    "duration": 11,
    "start_time": "2023-02-19T11:38:51.004Z"
   },
   {
    "duration": 9,
    "start_time": "2023-02-19T11:38:51.017Z"
   },
   {
    "duration": 16,
    "start_time": "2023-02-19T11:38:51.028Z"
   },
   {
    "duration": 6,
    "start_time": "2023-02-19T11:38:51.046Z"
   },
   {
    "duration": 11526,
    "start_time": "2023-02-19T11:38:51.055Z"
   },
   {
    "duration": 97,
    "start_time": "2023-02-19T11:39:02.584Z"
   },
   {
    "duration": 210,
    "start_time": "2023-02-19T11:39:02.686Z"
   },
   {
    "duration": 34625,
    "start_time": "2023-02-19T11:39:02.898Z"
   },
   {
    "duration": 19,
    "start_time": "2023-02-19T11:39:37.525Z"
   },
   {
    "duration": 52,
    "start_time": "2023-02-19T11:39:37.545Z"
   },
   {
    "duration": 47,
    "start_time": "2023-02-19T11:39:37.599Z"
   },
   {
    "duration": 6,
    "start_time": "2023-02-19T11:39:37.648Z"
   },
   {
    "duration": 28,
    "start_time": "2023-02-19T11:39:37.655Z"
   },
   {
    "duration": 261258,
    "start_time": "2023-02-19T11:39:37.685Z"
   },
   {
    "duration": 78,
    "start_time": "2023-02-19T11:43:58.945Z"
   },
   {
    "duration": 5,
    "start_time": "2023-02-19T11:43:59.026Z"
   },
   {
    "duration": 13,
    "start_time": "2023-02-19T11:43:59.032Z"
   },
   {
    "duration": 128052,
    "start_time": "2023-02-19T11:43:59.047Z"
   },
   {
    "duration": 44,
    "start_time": "2023-02-19T11:46:07.100Z"
   },
   {
    "duration": 54,
    "start_time": "2023-02-19T11:46:07.145Z"
   },
   {
    "duration": 44,
    "start_time": "2023-02-19T11:46:07.202Z"
   },
   {
    "duration": 13,
    "start_time": "2023-02-19T11:49:41.913Z"
   },
   {
    "duration": 7,
    "start_time": "2023-02-19T11:49:46.827Z"
   },
   {
    "duration": 10,
    "start_time": "2023-02-19T11:50:02.552Z"
   },
   {
    "duration": 6,
    "start_time": "2023-02-19T11:51:22.386Z"
   },
   {
    "duration": 13,
    "start_time": "2023-02-19T11:51:54.445Z"
   },
   {
    "duration": 6,
    "start_time": "2023-02-19T11:52:18.543Z"
   },
   {
    "duration": 17,
    "start_time": "2023-02-19T11:58:02.149Z"
   },
   {
    "duration": 49879,
    "start_time": "2023-02-19T11:59:31.111Z"
   },
   {
    "duration": 50967,
    "start_time": "2023-02-19T12:01:00.853Z"
   },
   {
    "duration": 22,
    "start_time": "2023-02-19T12:01:51.822Z"
   },
   {
    "duration": 24,
    "start_time": "2023-02-19T12:12:32.946Z"
   },
   {
    "duration": 60,
    "start_time": "2023-02-19T12:13:04.296Z"
   },
   {
    "duration": 10,
    "start_time": "2023-02-19T12:13:18.413Z"
   },
   {
    "duration": 132996,
    "start_time": "2023-02-19T12:13:40.387Z"
   },
   {
    "duration": 18,
    "start_time": "2023-02-19T12:16:13.112Z"
   },
   {
    "duration": 6,
    "start_time": "2023-02-19T12:18:09.435Z"
   },
   {
    "duration": 13,
    "start_time": "2023-02-19T12:18:10.153Z"
   },
   {
    "duration": 12,
    "start_time": "2023-02-19T12:18:15.239Z"
   },
   {
    "duration": 12,
    "start_time": "2023-02-19T12:19:54.800Z"
   },
   {
    "duration": 6,
    "start_time": "2023-02-19T12:20:31.404Z"
   },
   {
    "duration": 14,
    "start_time": "2023-02-19T12:20:31.835Z"
   },
   {
    "duration": 7,
    "start_time": "2023-02-19T12:20:32.270Z"
   },
   {
    "duration": 13,
    "start_time": "2023-02-19T12:20:32.756Z"
   },
   {
    "duration": 7,
    "start_time": "2023-02-19T12:20:56.841Z"
   },
   {
    "duration": 60,
    "start_time": "2023-02-19T12:22:23.132Z"
   },
   {
    "duration": 12,
    "start_time": "2023-02-19T12:23:00.087Z"
   },
   {
    "duration": 20,
    "start_time": "2023-02-19T12:23:27.649Z"
   },
   {
    "duration": 24717,
    "start_time": "2023-02-19T12:24:30.882Z"
   },
   {
    "duration": 25,
    "start_time": "2023-02-19T12:25:02.328Z"
   },
   {
    "duration": 29,
    "start_time": "2023-02-19T12:26:16.554Z"
   },
   {
    "duration": 94629,
    "start_time": "2023-02-19T12:27:56.841Z"
   },
   {
    "duration": 61,
    "start_time": "2023-02-19T12:57:29.418Z"
   },
   {
    "duration": 445,
    "start_time": "2023-02-19T13:00:22.170Z"
   },
   {
    "duration": 432,
    "start_time": "2023-02-19T13:00:47.367Z"
   },
   {
    "duration": 20,
    "start_time": "2023-02-19T13:00:51.058Z"
   },
   {
    "duration": 10,
    "start_time": "2023-02-19T13:01:40.434Z"
   },
   {
    "duration": 8,
    "start_time": "2023-02-19T13:01:51.441Z"
   },
   {
    "duration": 11,
    "start_time": "2023-02-19T13:03:58.366Z"
   },
   {
    "duration": 508,
    "start_time": "2023-02-19T13:04:04.550Z"
   },
   {
    "duration": 12,
    "start_time": "2023-02-19T13:04:10.065Z"
   },
   {
    "duration": 50,
    "start_time": "2023-02-19T13:09:16.388Z"
   },
   {
    "duration": 57,
    "start_time": "2023-02-19T13:09:28.588Z"
   },
   {
    "duration": 47,
    "start_time": "2023-02-19T13:10:10.946Z"
   },
   {
    "duration": 67,
    "start_time": "2023-02-19T13:11:32.926Z"
   },
   {
    "duration": 47,
    "start_time": "2023-02-19T13:11:43.153Z"
   },
   {
    "duration": 8,
    "start_time": "2023-02-19T13:12:20.688Z"
   },
   {
    "duration": 10,
    "start_time": "2023-02-19T13:15:05.904Z"
   },
   {
    "duration": 12,
    "start_time": "2023-02-19T13:17:44.765Z"
   },
   {
    "duration": 11,
    "start_time": "2023-02-19T13:17:45.936Z"
   },
   {
    "duration": 12,
    "start_time": "2023-02-19T13:21:09.888Z"
   },
   {
    "duration": 25,
    "start_time": "2023-02-19T13:23:07.814Z"
   },
   {
    "duration": 28,
    "start_time": "2023-02-19T13:24:01.097Z"
   },
   {
    "duration": 169,
    "start_time": "2023-02-19T13:24:52.253Z"
   },
   {
    "duration": 14,
    "start_time": "2023-02-19T15:25:35.219Z"
   },
   {
    "duration": 172,
    "start_time": "2023-02-19T15:32:46.814Z"
   },
   {
    "duration": 421,
    "start_time": "2023-02-19T15:32:59.129Z"
   },
   {
    "duration": 14,
    "start_time": "2023-02-19T15:34:46.773Z"
   },
   {
    "duration": 17,
    "start_time": "2023-02-19T15:49:56.735Z"
   },
   {
    "duration": 11,
    "start_time": "2023-02-19T15:50:47.380Z"
   },
   {
    "duration": 13,
    "start_time": "2023-02-19T15:53:07.678Z"
   },
   {
    "duration": 11,
    "start_time": "2023-02-19T15:54:30.681Z"
   },
   {
    "duration": 8,
    "start_time": "2023-02-19T15:58:52.527Z"
   },
   {
    "duration": 11,
    "start_time": "2023-02-19T16:01:50.876Z"
   },
   {
    "duration": 62,
    "start_time": "2023-02-19T16:01:51.511Z"
   },
   {
    "duration": 11,
    "start_time": "2023-02-19T16:10:35.295Z"
   },
   {
    "duration": 13,
    "start_time": "2023-02-19T16:12:37.926Z"
   },
   {
    "duration": 101793,
    "start_time": "2023-02-19T16:14:28.034Z"
   },
   {
    "duration": 134,
    "start_time": "2023-02-19T16:16:22.956Z"
   },
   {
    "duration": 13,
    "start_time": "2023-02-19T16:17:38.716Z"
   },
   {
    "duration": 102898,
    "start_time": "2023-02-19T16:20:21.871Z"
   },
   {
    "duration": 28,
    "start_time": "2023-02-19T16:22:04.785Z"
   },
   {
    "duration": 93,
    "start_time": "2023-02-19T16:22:04.883Z"
   },
   {
    "duration": 1629,
    "start_time": "2023-02-20T05:28:03.173Z"
   },
   {
    "duration": 41,
    "start_time": "2023-02-20T05:28:04.804Z"
   },
   {
    "duration": 17,
    "start_time": "2023-02-20T05:28:04.847Z"
   },
   {
    "duration": 17,
    "start_time": "2023-02-20T05:28:04.866Z"
   },
   {
    "duration": 4,
    "start_time": "2023-02-20T05:28:04.885Z"
   },
   {
    "duration": 18,
    "start_time": "2023-02-20T05:28:04.890Z"
   },
   {
    "duration": 364,
    "start_time": "2023-02-20T05:28:04.912Z"
   },
   {
    "duration": 2856,
    "start_time": "2023-02-20T05:28:05.277Z"
   },
   {
    "duration": 4,
    "start_time": "2023-02-20T05:28:08.135Z"
   },
   {
    "duration": 332,
    "start_time": "2023-02-20T05:28:08.142Z"
   },
   {
    "duration": 16,
    "start_time": "2023-02-20T05:28:08.476Z"
   },
   {
    "duration": 5,
    "start_time": "2023-02-20T05:28:08.494Z"
   },
   {
    "duration": 7,
    "start_time": "2023-02-20T05:28:08.501Z"
   },
   {
    "duration": 20,
    "start_time": "2023-02-20T05:28:08.509Z"
   },
   {
    "duration": 5,
    "start_time": "2023-02-20T05:28:08.530Z"
   },
   {
    "duration": 11,
    "start_time": "2023-02-20T05:28:08.536Z"
   },
   {
    "duration": 6,
    "start_time": "2023-02-20T05:28:08.549Z"
   },
   {
    "duration": 35,
    "start_time": "2023-02-20T05:28:08.557Z"
   },
   {
    "duration": 5,
    "start_time": "2023-02-20T05:28:08.594Z"
   },
   {
    "duration": 10,
    "start_time": "2023-02-20T05:28:08.601Z"
   },
   {
    "duration": 10,
    "start_time": "2023-02-20T05:28:08.612Z"
   },
   {
    "duration": 17,
    "start_time": "2023-02-20T05:28:08.624Z"
   },
   {
    "duration": 7,
    "start_time": "2023-02-20T05:28:08.642Z"
   },
   {
    "duration": 794,
    "start_time": "2023-02-20T07:23:13.114Z"
   },
   {
    "duration": 16,
    "start_time": "2023-02-20T07:23:14.230Z"
   },
   {
    "duration": 5,
    "start_time": "2023-02-20T07:23:25.463Z"
   },
   {
    "duration": 64,
    "start_time": "2023-02-20T07:23:25.471Z"
   },
   {
    "duration": 10,
    "start_time": "2023-02-20T07:23:25.537Z"
   },
   {
    "duration": 18,
    "start_time": "2023-02-20T07:23:25.548Z"
   },
   {
    "duration": 9,
    "start_time": "2023-02-20T07:23:25.568Z"
   },
   {
    "duration": 25,
    "start_time": "2023-02-20T07:23:25.579Z"
   },
   {
    "duration": 344,
    "start_time": "2023-02-20T07:23:25.605Z"
   },
   {
    "duration": 2622,
    "start_time": "2023-02-20T07:23:25.950Z"
   },
   {
    "duration": 5,
    "start_time": "2023-02-20T07:23:28.574Z"
   },
   {
    "duration": 272,
    "start_time": "2023-02-20T07:23:28.581Z"
   },
   {
    "duration": 18,
    "start_time": "2023-02-20T07:23:28.855Z"
   },
   {
    "duration": 20,
    "start_time": "2023-02-20T07:23:28.875Z"
   },
   {
    "duration": 7,
    "start_time": "2023-02-20T07:23:28.896Z"
   },
   {
    "duration": 18,
    "start_time": "2023-02-20T07:23:28.904Z"
   },
   {
    "duration": 4,
    "start_time": "2023-02-20T07:23:28.924Z"
   },
   {
    "duration": 17,
    "start_time": "2023-02-20T07:23:28.930Z"
   },
   {
    "duration": 20,
    "start_time": "2023-02-20T07:23:28.948Z"
   },
   {
    "duration": 17,
    "start_time": "2023-02-20T07:23:28.970Z"
   },
   {
    "duration": 8,
    "start_time": "2023-02-20T07:23:28.988Z"
   },
   {
    "duration": 10,
    "start_time": "2023-02-20T07:23:28.998Z"
   },
   {
    "duration": 5,
    "start_time": "2023-02-20T07:23:29.010Z"
   },
   {
    "duration": 8,
    "start_time": "2023-02-20T07:23:29.017Z"
   },
   {
    "duration": 14,
    "start_time": "2023-02-20T07:23:29.027Z"
   },
   {
    "duration": 695,
    "start_time": "2023-02-20T07:23:29.043Z"
   },
   {
    "duration": 0,
    "start_time": "2023-02-20T07:23:29.740Z"
   },
   {
    "duration": 0,
    "start_time": "2023-02-20T07:23:29.741Z"
   },
   {
    "duration": 0,
    "start_time": "2023-02-20T07:23:29.742Z"
   },
   {
    "duration": 0,
    "start_time": "2023-02-20T07:23:29.743Z"
   },
   {
    "duration": 0,
    "start_time": "2023-02-20T07:23:29.744Z"
   },
   {
    "duration": 0,
    "start_time": "2023-02-20T07:23:29.745Z"
   },
   {
    "duration": 0,
    "start_time": "2023-02-20T07:23:29.746Z"
   },
   {
    "duration": 0,
    "start_time": "2023-02-20T07:23:29.747Z"
   },
   {
    "duration": 0,
    "start_time": "2023-02-20T07:23:29.748Z"
   },
   {
    "duration": 0,
    "start_time": "2023-02-20T07:23:29.749Z"
   },
   {
    "duration": 0,
    "start_time": "2023-02-20T07:23:29.749Z"
   },
   {
    "duration": 0,
    "start_time": "2023-02-20T07:23:29.750Z"
   },
   {
    "duration": 0,
    "start_time": "2023-02-20T07:23:29.768Z"
   },
   {
    "duration": 0,
    "start_time": "2023-02-20T07:23:29.769Z"
   },
   {
    "duration": 0,
    "start_time": "2023-02-20T07:23:29.772Z"
   },
   {
    "duration": 0,
    "start_time": "2023-02-20T07:23:29.773Z"
   },
   {
    "duration": 0,
    "start_time": "2023-02-20T07:23:29.775Z"
   },
   {
    "duration": 0,
    "start_time": "2023-02-20T07:23:29.775Z"
   },
   {
    "duration": 0,
    "start_time": "2023-02-20T07:23:29.776Z"
   },
   {
    "duration": 0,
    "start_time": "2023-02-20T07:23:29.777Z"
   },
   {
    "duration": 0,
    "start_time": "2023-02-20T07:23:29.778Z"
   },
   {
    "duration": 0,
    "start_time": "2023-02-20T07:23:29.780Z"
   },
   {
    "duration": 0,
    "start_time": "2023-02-20T07:23:29.781Z"
   },
   {
    "duration": 0,
    "start_time": "2023-02-20T07:23:29.782Z"
   },
   {
    "duration": 0,
    "start_time": "2023-02-20T07:23:29.783Z"
   },
   {
    "duration": 0,
    "start_time": "2023-02-20T07:23:29.785Z"
   },
   {
    "duration": 0,
    "start_time": "2023-02-20T07:23:29.786Z"
   },
   {
    "duration": 11,
    "start_time": "2023-02-20T07:24:21.834Z"
   },
   {
    "duration": 21,
    "start_time": "2023-02-20T07:24:24.864Z"
   },
   {
    "duration": 13489,
    "start_time": "2023-02-20T07:25:05.344Z"
   },
   {
    "duration": 45,
    "start_time": "2023-02-20T07:25:18.835Z"
   },
   {
    "duration": 3776,
    "start_time": "2023-02-20T07:28:36.723Z"
   },
   {
    "duration": 51,
    "start_time": "2023-02-20T07:28:40.502Z"
   },
   {
    "duration": 2696,
    "start_time": "2023-02-20T07:41:28.929Z"
   },
   {
    "duration": 2863,
    "start_time": "2023-02-20T07:53:44.565Z"
   },
   {
    "duration": 55,
    "start_time": "2023-02-20T07:53:47.431Z"
   },
   {
    "duration": 25,
    "start_time": "2023-02-20T08:16:17.583Z"
   },
   {
    "duration": 19,
    "start_time": "2023-02-20T08:16:58.961Z"
   },
   {
    "duration": 19575,
    "start_time": "2023-02-20T08:17:16.046Z"
   },
   {
    "duration": 28,
    "start_time": "2023-02-20T08:18:31.891Z"
   },
   {
    "duration": 24,
    "start_time": "2023-02-20T08:19:42.702Z"
   },
   {
    "duration": 66,
    "start_time": "2023-02-20T08:25:56.588Z"
   },
   {
    "duration": 4813,
    "start_time": "2023-02-20T08:26:08.470Z"
   },
   {
    "duration": 232,
    "start_time": "2023-02-20T08:26:13.286Z"
   },
   {
    "duration": 20,
    "start_time": "2023-02-20T08:26:13.521Z"
   },
   {
    "duration": 28,
    "start_time": "2023-02-20T08:26:13.543Z"
   },
   {
    "duration": 37,
    "start_time": "2023-02-20T08:26:13.575Z"
   },
   {
    "duration": 15,
    "start_time": "2023-02-20T08:26:13.614Z"
   },
   {
    "duration": 76,
    "start_time": "2023-02-20T08:27:55.632Z"
   },
   {
    "duration": 1910,
    "start_time": "2023-02-20T08:29:43.832Z"
   },
   {
    "duration": 218,
    "start_time": "2023-02-20T08:29:50.197Z"
   },
   {
    "duration": 58,
    "start_time": "2023-02-20T08:31:00.409Z"
   },
   {
    "duration": 11,
    "start_time": "2023-02-20T08:31:01.795Z"
   },
   {
    "duration": 2138,
    "start_time": "2023-02-20T08:31:19.322Z"
   },
   {
    "duration": 231,
    "start_time": "2023-02-20T08:31:21.462Z"
   },
   {
    "duration": 23,
    "start_time": "2023-02-20T08:31:22.121Z"
   },
   {
    "duration": 13,
    "start_time": "2023-02-20T08:31:22.627Z"
   },
   {
    "duration": 6,
    "start_time": "2023-02-20T08:31:23.157Z"
   },
   {
    "duration": 19,
    "start_time": "2023-02-20T08:31:23.703Z"
   },
   {
    "duration": 50,
    "start_time": "2023-02-20T08:34:36.184Z"
   },
   {
    "duration": 1668,
    "start_time": "2023-02-20T08:34:49.305Z"
   },
   {
    "duration": 185,
    "start_time": "2023-02-20T08:34:50.975Z"
   },
   {
    "duration": 18,
    "start_time": "2023-02-20T08:34:52.184Z"
   },
   {
    "duration": 17,
    "start_time": "2023-02-20T08:34:52.763Z"
   },
   {
    "duration": 6,
    "start_time": "2023-02-20T08:34:53.354Z"
   },
   {
    "duration": 16,
    "start_time": "2023-02-20T08:34:53.958Z"
   },
   {
    "duration": 1712,
    "start_time": "2023-02-20T08:36:35.492Z"
   },
   {
    "duration": 195,
    "start_time": "2023-02-20T08:36:37.206Z"
   },
   {
    "duration": 24,
    "start_time": "2023-02-20T08:36:37.403Z"
   },
   {
    "duration": 18,
    "start_time": "2023-02-20T08:36:37.429Z"
   },
   {
    "duration": 15,
    "start_time": "2023-02-20T08:36:37.451Z"
   },
   {
    "duration": 23,
    "start_time": "2023-02-20T08:36:37.468Z"
   },
   {
    "duration": 1704,
    "start_time": "2023-02-20T08:39:08.198Z"
   },
   {
    "duration": 204,
    "start_time": "2023-02-20T08:39:10.715Z"
   },
   {
    "duration": 6,
    "start_time": "2023-02-20T08:39:33.393Z"
   },
   {
    "duration": 58,
    "start_time": "2023-02-20T08:39:34.860Z"
   },
   {
    "duration": 16,
    "start_time": "2023-02-20T08:39:38.225Z"
   },
   {
    "duration": 14,
    "start_time": "2023-02-20T08:39:39.106Z"
   },
   {
    "duration": 7,
    "start_time": "2023-02-20T08:39:39.666Z"
   },
   {
    "duration": 21,
    "start_time": "2023-02-20T08:39:40.890Z"
   },
   {
    "duration": 76,
    "start_time": "2023-02-20T08:52:11.514Z"
   },
   {
    "duration": 1614,
    "start_time": "2023-02-20T08:52:27.280Z"
   },
   {
    "duration": 194,
    "start_time": "2023-02-20T08:52:28.896Z"
   },
   {
    "duration": 25,
    "start_time": "2023-02-20T08:52:30.415Z"
   },
   {
    "duration": 19,
    "start_time": "2023-02-20T08:52:31.095Z"
   },
   {
    "duration": 6,
    "start_time": "2023-02-20T08:52:31.679Z"
   },
   {
    "duration": 14,
    "start_time": "2023-02-20T08:52:32.313Z"
   },
   {
    "duration": 65,
    "start_time": "2023-02-20T08:52:50.121Z"
   },
   {
    "duration": 0,
    "start_time": "2023-02-20T08:52:50.188Z"
   },
   {
    "duration": 2009,
    "start_time": "2023-02-20T09:28:26.067Z"
   },
   {
    "duration": 221,
    "start_time": "2023-02-20T09:28:28.078Z"
   },
   {
    "duration": 20,
    "start_time": "2023-02-20T09:28:28.302Z"
   },
   {
    "duration": 22,
    "start_time": "2023-02-20T09:28:28.324Z"
   },
   {
    "duration": 13,
    "start_time": "2023-02-20T09:28:28.348Z"
   },
   {
    "duration": 29,
    "start_time": "2023-02-20T09:28:28.363Z"
   },
   {
    "duration": 1886,
    "start_time": "2023-02-20T09:54:23.395Z"
   },
   {
    "duration": 219,
    "start_time": "2023-02-20T09:54:25.284Z"
   },
   {
    "duration": 19,
    "start_time": "2023-02-20T09:54:25.505Z"
   },
   {
    "duration": 19,
    "start_time": "2023-02-20T09:54:25.527Z"
   },
   {
    "duration": 6,
    "start_time": "2023-02-20T09:54:25.548Z"
   },
   {
    "duration": 28,
    "start_time": "2023-02-20T09:54:25.556Z"
   },
   {
    "duration": 1798,
    "start_time": "2023-02-20T10:11:21.795Z"
   },
   {
    "duration": 208,
    "start_time": "2023-02-20T10:11:23.595Z"
   },
   {
    "duration": 19,
    "start_time": "2023-02-20T10:11:23.805Z"
   },
   {
    "duration": 21,
    "start_time": "2023-02-20T10:11:23.828Z"
   },
   {
    "duration": 6,
    "start_time": "2023-02-20T10:11:23.851Z"
   },
   {
    "duration": 19,
    "start_time": "2023-02-20T10:11:23.871Z"
   },
   {
    "duration": 520,
    "start_time": "2023-02-20T20:55:20.554Z"
   },
   {
    "duration": 0,
    "start_time": "2023-02-20T20:55:21.077Z"
   },
   {
    "duration": 0,
    "start_time": "2023-02-20T20:55:21.078Z"
   },
   {
    "duration": 0,
    "start_time": "2023-02-20T20:55:21.079Z"
   },
   {
    "duration": 0,
    "start_time": "2023-02-20T20:55:21.081Z"
   },
   {
    "duration": 0,
    "start_time": "2023-02-20T20:55:21.082Z"
   },
   {
    "duration": 0,
    "start_time": "2023-02-20T20:55:21.082Z"
   },
   {
    "duration": 0,
    "start_time": "2023-02-20T20:55:21.083Z"
   },
   {
    "duration": 0,
    "start_time": "2023-02-20T20:55:21.084Z"
   },
   {
    "duration": 0,
    "start_time": "2023-02-20T20:55:21.085Z"
   },
   {
    "duration": 0,
    "start_time": "2023-02-20T20:55:21.086Z"
   },
   {
    "duration": 0,
    "start_time": "2023-02-20T20:55:21.087Z"
   },
   {
    "duration": 0,
    "start_time": "2023-02-20T20:55:21.089Z"
   },
   {
    "duration": 0,
    "start_time": "2023-02-20T20:55:21.089Z"
   },
   {
    "duration": 0,
    "start_time": "2023-02-20T20:55:21.090Z"
   },
   {
    "duration": 0,
    "start_time": "2023-02-20T20:55:21.091Z"
   },
   {
    "duration": 0,
    "start_time": "2023-02-20T20:55:21.093Z"
   },
   {
    "duration": 0,
    "start_time": "2023-02-20T20:55:21.094Z"
   },
   {
    "duration": 0,
    "start_time": "2023-02-20T20:55:21.095Z"
   },
   {
    "duration": 0,
    "start_time": "2023-02-20T20:55:21.096Z"
   },
   {
    "duration": 0,
    "start_time": "2023-02-20T20:55:21.097Z"
   },
   {
    "duration": 0,
    "start_time": "2023-02-20T20:55:21.098Z"
   },
   {
    "duration": 0,
    "start_time": "2023-02-20T20:55:21.137Z"
   },
   {
    "duration": 0,
    "start_time": "2023-02-20T20:55:21.138Z"
   },
   {
    "duration": 0,
    "start_time": "2023-02-20T20:55:21.139Z"
   },
   {
    "duration": 0,
    "start_time": "2023-02-20T20:55:21.141Z"
   },
   {
    "duration": 0,
    "start_time": "2023-02-20T20:55:21.142Z"
   },
   {
    "duration": 0,
    "start_time": "2023-02-20T20:55:21.143Z"
   },
   {
    "duration": 0,
    "start_time": "2023-02-20T20:55:21.144Z"
   },
   {
    "duration": 0,
    "start_time": "2023-02-20T20:55:21.145Z"
   },
   {
    "duration": 0,
    "start_time": "2023-02-20T20:55:21.147Z"
   },
   {
    "duration": 0,
    "start_time": "2023-02-20T20:55:21.148Z"
   },
   {
    "duration": 0,
    "start_time": "2023-02-20T20:55:21.149Z"
   },
   {
    "duration": 0,
    "start_time": "2023-02-20T20:55:21.150Z"
   },
   {
    "duration": 0,
    "start_time": "2023-02-20T20:55:21.152Z"
   },
   {
    "duration": 0,
    "start_time": "2023-02-20T20:55:21.153Z"
   },
   {
    "duration": 0,
    "start_time": "2023-02-20T20:55:21.154Z"
   },
   {
    "duration": 0,
    "start_time": "2023-02-20T20:55:21.155Z"
   },
   {
    "duration": 0,
    "start_time": "2023-02-20T20:55:21.156Z"
   },
   {
    "duration": 0,
    "start_time": "2023-02-20T20:55:21.157Z"
   },
   {
    "duration": 0,
    "start_time": "2023-02-20T20:55:21.158Z"
   },
   {
    "duration": 0,
    "start_time": "2023-02-20T20:55:21.159Z"
   },
   {
    "duration": 0,
    "start_time": "2023-02-20T20:55:21.160Z"
   },
   {
    "duration": 0,
    "start_time": "2023-02-20T20:55:21.161Z"
   },
   {
    "duration": 0,
    "start_time": "2023-02-20T20:55:21.162Z"
   },
   {
    "duration": 0,
    "start_time": "2023-02-20T20:55:21.163Z"
   },
   {
    "duration": 0,
    "start_time": "2023-02-20T20:55:21.164Z"
   },
   {
    "duration": 0,
    "start_time": "2023-02-20T20:55:21.165Z"
   },
   {
    "duration": 0,
    "start_time": "2023-02-20T20:55:21.166Z"
   },
   {
    "duration": 0,
    "start_time": "2023-02-20T20:55:21.167Z"
   },
   {
    "duration": 0,
    "start_time": "2023-02-20T20:55:21.168Z"
   },
   {
    "duration": 0,
    "start_time": "2023-02-20T20:55:21.169Z"
   },
   {
    "duration": 0,
    "start_time": "2023-02-20T20:55:21.170Z"
   },
   {
    "duration": 4126,
    "start_time": "2023-02-20T20:56:52.924Z"
   },
   {
    "duration": 172,
    "start_time": "2023-02-20T20:56:58.530Z"
   },
   {
    "duration": 27,
    "start_time": "2023-02-20T20:57:00.477Z"
   },
   {
    "duration": 16,
    "start_time": "2023-02-20T20:57:01.008Z"
   },
   {
    "duration": 6,
    "start_time": "2023-02-20T20:57:01.544Z"
   },
   {
    "duration": 20,
    "start_time": "2023-02-20T20:57:02.183Z"
   },
   {
    "duration": 5325,
    "start_time": "2023-02-20T20:58:00.923Z"
   },
   {
    "duration": 178,
    "start_time": "2023-02-20T20:58:06.251Z"
   },
   {
    "duration": 18,
    "start_time": "2023-02-20T20:58:06.432Z"
   },
   {
    "duration": 13,
    "start_time": "2023-02-20T20:58:06.452Z"
   },
   {
    "duration": 5,
    "start_time": "2023-02-20T20:58:06.467Z"
   },
   {
    "duration": 15,
    "start_time": "2023-02-20T20:58:06.474Z"
   },
   {
    "duration": 3910,
    "start_time": "2023-02-20T21:03:53.976Z"
   },
   {
    "duration": 164,
    "start_time": "2023-02-20T21:03:57.888Z"
   },
   {
    "duration": 21,
    "start_time": "2023-02-20T21:03:58.054Z"
   },
   {
    "duration": 24,
    "start_time": "2023-02-20T21:03:58.077Z"
   },
   {
    "duration": 6,
    "start_time": "2023-02-20T21:03:58.105Z"
   },
   {
    "duration": 19,
    "start_time": "2023-02-20T21:03:58.112Z"
   },
   {
    "duration": 1910,
    "start_time": "2023-02-20T21:07:03.696Z"
   },
   {
    "duration": 168,
    "start_time": "2023-02-20T21:07:21.821Z"
   },
   {
    "duration": 26,
    "start_time": "2023-02-20T21:07:24.385Z"
   },
   {
    "duration": 13,
    "start_time": "2023-02-20T21:07:25.378Z"
   },
   {
    "duration": 5,
    "start_time": "2023-02-20T21:07:26.144Z"
   },
   {
    "duration": 18,
    "start_time": "2023-02-20T21:07:26.734Z"
   },
   {
    "duration": 1804,
    "start_time": "2023-02-20T21:08:42.649Z"
   },
   {
    "duration": 5,
    "start_time": "2023-02-20T21:09:26.092Z"
   },
   {
    "duration": 177,
    "start_time": "2023-02-20T21:09:26.100Z"
   },
   {
    "duration": 26,
    "start_time": "2023-02-20T21:09:26.279Z"
   },
   {
    "duration": 13,
    "start_time": "2023-02-20T21:09:26.308Z"
   },
   {
    "duration": 4,
    "start_time": "2023-02-20T21:09:26.324Z"
   },
   {
    "duration": 17,
    "start_time": "2023-02-20T21:09:26.329Z"
   },
   {
    "duration": 516,
    "start_time": "2023-02-22T07:04:12.785Z"
   },
   {
    "duration": 0,
    "start_time": "2023-02-22T07:04:13.304Z"
   },
   {
    "duration": 0,
    "start_time": "2023-02-22T07:04:13.305Z"
   },
   {
    "duration": 0,
    "start_time": "2023-02-22T07:04:13.306Z"
   },
   {
    "duration": 0,
    "start_time": "2023-02-22T07:04:13.306Z"
   },
   {
    "duration": 0,
    "start_time": "2023-02-22T07:04:13.307Z"
   },
   {
    "duration": 0,
    "start_time": "2023-02-22T07:04:13.309Z"
   },
   {
    "duration": 0,
    "start_time": "2023-02-22T07:04:13.310Z"
   },
   {
    "duration": 0,
    "start_time": "2023-02-22T07:04:13.311Z"
   },
   {
    "duration": 0,
    "start_time": "2023-02-22T07:04:13.312Z"
   },
   {
    "duration": 0,
    "start_time": "2023-02-22T07:04:13.313Z"
   },
   {
    "duration": 0,
    "start_time": "2023-02-22T07:04:13.314Z"
   },
   {
    "duration": 0,
    "start_time": "2023-02-22T07:04:13.315Z"
   },
   {
    "duration": 0,
    "start_time": "2023-02-22T07:04:13.316Z"
   },
   {
    "duration": 0,
    "start_time": "2023-02-22T07:04:13.317Z"
   },
   {
    "duration": 0,
    "start_time": "2023-02-22T07:04:13.318Z"
   },
   {
    "duration": 0,
    "start_time": "2023-02-22T07:04:13.319Z"
   },
   {
    "duration": 0,
    "start_time": "2023-02-22T07:04:13.320Z"
   },
   {
    "duration": 0,
    "start_time": "2023-02-22T07:04:13.321Z"
   },
   {
    "duration": 0,
    "start_time": "2023-02-22T07:04:13.322Z"
   },
   {
    "duration": 0,
    "start_time": "2023-02-22T07:04:13.323Z"
   },
   {
    "duration": 0,
    "start_time": "2023-02-22T07:04:13.324Z"
   },
   {
    "duration": 0,
    "start_time": "2023-02-22T07:04:13.325Z"
   },
   {
    "duration": 0,
    "start_time": "2023-02-22T07:04:13.325Z"
   },
   {
    "duration": 0,
    "start_time": "2023-02-22T07:04:13.326Z"
   },
   {
    "duration": 0,
    "start_time": "2023-02-22T07:04:13.327Z"
   },
   {
    "duration": 0,
    "start_time": "2023-02-22T07:04:13.328Z"
   },
   {
    "duration": 0,
    "start_time": "2023-02-22T07:04:13.329Z"
   },
   {
    "duration": 0,
    "start_time": "2023-02-22T07:04:13.330Z"
   },
   {
    "duration": 0,
    "start_time": "2023-02-22T07:04:13.332Z"
   },
   {
    "duration": 0,
    "start_time": "2023-02-22T07:04:13.332Z"
   },
   {
    "duration": 0,
    "start_time": "2023-02-22T07:04:13.333Z"
   },
   {
    "duration": 0,
    "start_time": "2023-02-22T07:04:13.334Z"
   },
   {
    "duration": 0,
    "start_time": "2023-02-22T07:04:13.385Z"
   },
   {
    "duration": 0,
    "start_time": "2023-02-22T07:04:13.387Z"
   },
   {
    "duration": 0,
    "start_time": "2023-02-22T07:04:13.388Z"
   },
   {
    "duration": 0,
    "start_time": "2023-02-22T07:04:13.391Z"
   },
   {
    "duration": 0,
    "start_time": "2023-02-22T07:04:13.392Z"
   },
   {
    "duration": 0,
    "start_time": "2023-02-22T07:04:13.394Z"
   },
   {
    "duration": 0,
    "start_time": "2023-02-22T07:04:13.395Z"
   },
   {
    "duration": 0,
    "start_time": "2023-02-22T07:04:13.396Z"
   },
   {
    "duration": 0,
    "start_time": "2023-02-22T07:04:13.397Z"
   },
   {
    "duration": 0,
    "start_time": "2023-02-22T07:04:13.398Z"
   },
   {
    "duration": 0,
    "start_time": "2023-02-22T07:04:13.399Z"
   },
   {
    "duration": 0,
    "start_time": "2023-02-22T07:04:13.400Z"
   },
   {
    "duration": 0,
    "start_time": "2023-02-22T07:04:13.401Z"
   },
   {
    "duration": 0,
    "start_time": "2023-02-22T07:04:13.402Z"
   },
   {
    "duration": 1,
    "start_time": "2023-02-22T07:04:13.403Z"
   },
   {
    "duration": 0,
    "start_time": "2023-02-22T07:04:13.404Z"
   },
   {
    "duration": 0,
    "start_time": "2023-02-22T07:04:13.405Z"
   },
   {
    "duration": 0,
    "start_time": "2023-02-22T07:04:13.406Z"
   },
   {
    "duration": 0,
    "start_time": "2023-02-22T07:04:13.407Z"
   },
   {
    "duration": 0,
    "start_time": "2023-02-22T07:04:13.408Z"
   },
   {
    "duration": 1177,
    "start_time": "2023-02-22T07:04:41.662Z"
   },
   {
    "duration": 82,
    "start_time": "2023-02-22T07:04:42.841Z"
   },
   {
    "duration": 6,
    "start_time": "2023-02-22T07:05:14.869Z"
   },
   {
    "duration": 42,
    "start_time": "2023-02-22T07:05:15.330Z"
   },
   {
    "duration": 23,
    "start_time": "2023-02-22T07:05:18.595Z"
   },
   {
    "duration": 21,
    "start_time": "2023-02-22T07:05:19.050Z"
   },
   {
    "duration": 6,
    "start_time": "2023-02-22T07:05:19.452Z"
   },
   {
    "duration": 16,
    "start_time": "2023-02-22T07:05:19.908Z"
   },
   {
    "duration": 69,
    "start_time": "2023-02-22T07:05:22.895Z"
   },
   {
    "duration": 11,
    "start_time": "2023-02-22T07:05:23.376Z"
   },
   {
    "duration": 374,
    "start_time": "2023-02-22T07:05:24.291Z"
   },
   {
    "duration": 2611,
    "start_time": "2023-02-22T07:05:49.033Z"
   },
   {
    "duration": 6,
    "start_time": "2023-02-22T07:05:51.647Z"
   },
   {
    "duration": 308,
    "start_time": "2023-02-22T07:06:03.795Z"
   },
   {
    "duration": 10,
    "start_time": "2023-02-22T07:06:04.520Z"
   },
   {
    "duration": 5,
    "start_time": "2023-02-22T07:06:05.312Z"
   },
   {
    "duration": 6,
    "start_time": "2023-02-22T07:06:06.321Z"
   },
   {
    "duration": 20,
    "start_time": "2023-02-22T07:06:08.787Z"
   },
   {
    "duration": 6,
    "start_time": "2023-02-22T07:06:09.199Z"
   },
   {
    "duration": 11,
    "start_time": "2023-02-22T07:06:12.359Z"
   },
   {
    "duration": 7,
    "start_time": "2023-02-22T07:06:13.599Z"
   },
   {
    "duration": 4,
    "start_time": "2023-02-22T07:06:13.990Z"
   },
   {
    "duration": 6,
    "start_time": "2023-02-22T07:06:16.074Z"
   },
   {
    "duration": 8,
    "start_time": "2023-02-22T07:06:16.501Z"
   },
   {
    "duration": 5,
    "start_time": "2023-02-22T07:06:16.915Z"
   },
   {
    "duration": 6,
    "start_time": "2023-02-22T07:06:17.464Z"
   },
   {
    "duration": 3,
    "start_time": "2023-02-22T07:06:18.032Z"
   },
   {
    "duration": 1420,
    "start_time": "2023-02-22T07:06:21.550Z"
   },
   {
    "duration": 27,
    "start_time": "2023-02-22T07:06:22.972Z"
   },
   {
    "duration": 22156,
    "start_time": "2023-02-22T07:06:25.324Z"
   },
   {
    "duration": 43,
    "start_time": "2023-02-22T07:06:47.485Z"
   },
   {
    "duration": 13,
    "start_time": "2023-02-22T07:06:47.530Z"
   },
   {
    "duration": 0,
    "start_time": "2023-02-22T07:06:47.546Z"
   },
   {
    "duration": 0,
    "start_time": "2023-02-22T07:06:47.547Z"
   },
   {
    "duration": 0,
    "start_time": "2023-02-22T07:06:47.550Z"
   },
   {
    "duration": 0,
    "start_time": "2023-02-22T07:06:47.551Z"
   },
   {
    "duration": 0,
    "start_time": "2023-02-22T07:06:47.553Z"
   },
   {
    "duration": 20,
    "start_time": "2023-02-22T07:07:08.791Z"
   },
   {
    "duration": 18,
    "start_time": "2023-02-22T07:07:09.249Z"
   },
   {
    "duration": 25,
    "start_time": "2023-02-22T07:07:18.276Z"
   },
   {
    "duration": 22093,
    "start_time": "2023-02-22T07:07:21.288Z"
   },
   {
    "duration": 34,
    "start_time": "2023-02-22T07:07:43.385Z"
   },
   {
    "duration": 17,
    "start_time": "2023-02-22T07:07:43.421Z"
   },
   {
    "duration": 0,
    "start_time": "2023-02-22T07:07:43.441Z"
   },
   {
    "duration": 0,
    "start_time": "2023-02-22T07:07:43.443Z"
   },
   {
    "duration": 0,
    "start_time": "2023-02-22T07:07:43.444Z"
   },
   {
    "duration": 0,
    "start_time": "2023-02-22T07:07:43.446Z"
   },
   {
    "duration": 0,
    "start_time": "2023-02-22T07:07:43.448Z"
   },
   {
    "duration": 36,
    "start_time": "2023-02-22T07:08:03.457Z"
   },
   {
    "duration": 13,
    "start_time": "2023-02-22T07:08:04.428Z"
   },
   {
    "duration": 14,
    "start_time": "2023-02-22T07:08:04.937Z"
   },
   {
    "duration": 6,
    "start_time": "2023-02-22T07:08:08.452Z"
   },
   {
    "duration": 14,
    "start_time": "2023-02-22T07:08:08.899Z"
   },
   {
    "duration": 5,
    "start_time": "2023-02-22T07:08:09.720Z"
   },
   {
    "duration": 7,
    "start_time": "2023-02-22T07:08:10.547Z"
   },
   {
    "duration": 29185,
    "start_time": "2023-02-22T07:08:12.792Z"
   },
   {
    "duration": 47,
    "start_time": "2023-02-22T07:08:41.979Z"
   },
   {
    "duration": 100450,
    "start_time": "2023-02-22T07:08:42.027Z"
   },
   {
    "duration": 114,
    "start_time": "2023-02-22T07:10:22.479Z"
   },
   {
    "duration": 562,
    "start_time": "2023-02-22T07:10:22.594Z"
   },
   {
    "duration": 9,
    "start_time": "2023-02-22T07:10:23.157Z"
   },
   {
    "duration": 37,
    "start_time": "2023-02-22T07:10:23.168Z"
   },
   {
    "duration": 22,
    "start_time": "2023-02-22T07:10:23.208Z"
   },
   {
    "duration": 7,
    "start_time": "2023-02-22T07:10:23.232Z"
   },
   {
    "duration": 16,
    "start_time": "2023-02-22T07:10:23.242Z"
   },
   {
    "duration": 13,
    "start_time": "2023-02-22T07:14:15.204Z"
   },
   {
    "duration": 8040,
    "start_time": "2023-02-22T07:14:23.087Z"
   },
   {
    "duration": 21,
    "start_time": "2023-02-22T07:16:15.818Z"
   },
   {
    "duration": 38,
    "start_time": "2023-02-22T07:16:17.384Z"
   },
   {
    "duration": 23,
    "start_time": "2023-02-22T07:16:22.621Z"
   },
   {
    "duration": 26,
    "start_time": "2023-02-22T07:16:57.981Z"
   },
   {
    "duration": 38,
    "start_time": "2023-02-22T07:16:58.944Z"
   },
   {
    "duration": 12,
    "start_time": "2023-02-22T07:17:05.303Z"
   },
   {
    "duration": 13,
    "start_time": "2023-02-22T07:17:05.781Z"
   },
   {
    "duration": 4,
    "start_time": "2023-02-22T07:17:06.355Z"
   },
   {
    "duration": 18,
    "start_time": "2023-02-22T07:17:06.900Z"
   },
   {
    "duration": 12,
    "start_time": "2023-02-22T07:17:20.243Z"
   },
   {
    "duration": 12,
    "start_time": "2023-02-22T07:17:20.776Z"
   },
   {
    "duration": 559,
    "start_time": "2023-02-22T07:17:21.295Z"
   },
   {
    "duration": 3047,
    "start_time": "2023-02-22T07:17:23.681Z"
   },
   {
    "duration": 5,
    "start_time": "2023-02-22T07:17:26.731Z"
   },
   {
    "duration": 306,
    "start_time": "2023-02-22T07:17:27.038Z"
   },
   {
    "duration": 11,
    "start_time": "2023-02-22T07:17:27.959Z"
   },
   {
    "duration": 6,
    "start_time": "2023-02-22T07:17:28.834Z"
   },
   {
    "duration": 8,
    "start_time": "2023-02-22T07:17:29.531Z"
   },
   {
    "duration": 20,
    "start_time": "2023-02-22T07:17:31.427Z"
   },
   {
    "duration": 6,
    "start_time": "2023-02-22T07:17:31.835Z"
   },
   {
    "duration": 13,
    "start_time": "2023-02-22T07:17:33.818Z"
   },
   {
    "duration": 8,
    "start_time": "2023-02-22T07:17:35.145Z"
   },
   {
    "duration": 6,
    "start_time": "2023-02-22T07:17:35.547Z"
   },
   {
    "duration": 7,
    "start_time": "2023-02-22T07:17:37.701Z"
   },
   {
    "duration": 10,
    "start_time": "2023-02-22T07:17:38.145Z"
   },
   {
    "duration": 7,
    "start_time": "2023-02-22T07:17:38.565Z"
   },
   {
    "duration": 8,
    "start_time": "2023-02-22T07:17:38.996Z"
   },
   {
    "duration": 4,
    "start_time": "2023-02-22T07:17:39.428Z"
   },
   {
    "duration": 1443,
    "start_time": "2023-02-22T07:17:42.405Z"
   },
   {
    "duration": 137,
    "start_time": "2023-02-22T07:17:43.851Z"
   },
   {
    "duration": 24069,
    "start_time": "2023-02-22T07:17:54.078Z"
   },
   {
    "duration": 44,
    "start_time": "2023-02-22T07:18:18.150Z"
   },
   {
    "duration": 14,
    "start_time": "2023-02-22T07:18:18.196Z"
   },
   {
    "duration": 0,
    "start_time": "2023-02-22T07:18:18.213Z"
   },
   {
    "duration": 24,
    "start_time": "2023-02-22T07:18:28.964Z"
   },
   {
    "duration": 21,
    "start_time": "2023-02-22T07:18:29.584Z"
   },
   {
    "duration": 70,
    "start_time": "2023-02-22T07:25:19.841Z"
   },
   {
    "duration": 34194,
    "start_time": "2023-02-22T07:26:17.336Z"
   },
   {
    "duration": 42,
    "start_time": "2023-02-22T07:26:51.532Z"
   },
   {
    "duration": 111042,
    "start_time": "2023-02-22T07:26:51.576Z"
   },
   {
    "duration": 68,
    "start_time": "2023-02-22T07:28:42.621Z"
   },
   {
    "duration": 7,
    "start_time": "2023-02-22T07:28:47.289Z"
   },
   {
    "duration": 47,
    "start_time": "2023-02-23T14:16:51.745Z"
   },
   {
    "duration": 6,
    "start_time": "2023-02-23T14:17:04.931Z"
   },
   {
    "duration": 1661,
    "start_time": "2023-02-23T14:25:23.937Z"
   },
   {
    "duration": 80,
    "start_time": "2023-02-23T14:25:25.600Z"
   },
   {
    "duration": 18,
    "start_time": "2023-02-23T14:25:25.681Z"
   },
   {
    "duration": 15,
    "start_time": "2023-02-23T14:25:25.701Z"
   },
   {
    "duration": 6,
    "start_time": "2023-02-23T14:25:25.718Z"
   },
   {
    "duration": 17,
    "start_time": "2023-02-23T14:25:25.725Z"
   },
   {
    "duration": 93,
    "start_time": "2023-02-23T14:25:25.744Z"
   },
   {
    "duration": 0,
    "start_time": "2023-02-23T14:25:25.840Z"
   },
   {
    "duration": 0,
    "start_time": "2023-02-23T14:25:25.841Z"
   },
   {
    "duration": 0,
    "start_time": "2023-02-23T14:25:25.843Z"
   },
   {
    "duration": 0,
    "start_time": "2023-02-23T14:25:25.844Z"
   },
   {
    "duration": 0,
    "start_time": "2023-02-23T14:25:25.845Z"
   },
   {
    "duration": 0,
    "start_time": "2023-02-23T14:25:25.846Z"
   },
   {
    "duration": 0,
    "start_time": "2023-02-23T14:25:25.847Z"
   },
   {
    "duration": 0,
    "start_time": "2023-02-23T14:25:25.848Z"
   },
   {
    "duration": 0,
    "start_time": "2023-02-23T14:25:25.849Z"
   },
   {
    "duration": 0,
    "start_time": "2023-02-23T14:25:25.850Z"
   },
   {
    "duration": 0,
    "start_time": "2023-02-23T14:25:25.851Z"
   },
   {
    "duration": 0,
    "start_time": "2023-02-23T14:25:25.852Z"
   },
   {
    "duration": 0,
    "start_time": "2023-02-23T14:25:25.853Z"
   },
   {
    "duration": 0,
    "start_time": "2023-02-23T14:25:25.854Z"
   },
   {
    "duration": 0,
    "start_time": "2023-02-23T14:25:25.855Z"
   },
   {
    "duration": 0,
    "start_time": "2023-02-23T14:25:25.857Z"
   },
   {
    "duration": 0,
    "start_time": "2023-02-23T14:25:25.857Z"
   },
   {
    "duration": 0,
    "start_time": "2023-02-23T14:25:25.859Z"
   },
   {
    "duration": 0,
    "start_time": "2023-02-23T14:25:25.859Z"
   },
   {
    "duration": 0,
    "start_time": "2023-02-23T14:25:25.860Z"
   },
   {
    "duration": 0,
    "start_time": "2023-02-23T14:25:25.862Z"
   },
   {
    "duration": 0,
    "start_time": "2023-02-23T14:25:25.863Z"
   },
   {
    "duration": 0,
    "start_time": "2023-02-23T14:25:25.864Z"
   },
   {
    "duration": 0,
    "start_time": "2023-02-23T14:25:25.903Z"
   },
   {
    "duration": 0,
    "start_time": "2023-02-23T14:25:25.904Z"
   },
   {
    "duration": 0,
    "start_time": "2023-02-23T14:25:25.905Z"
   },
   {
    "duration": 0,
    "start_time": "2023-02-23T14:25:25.906Z"
   },
   {
    "duration": 0,
    "start_time": "2023-02-23T14:25:25.908Z"
   },
   {
    "duration": 0,
    "start_time": "2023-02-23T14:25:25.909Z"
   },
   {
    "duration": 0,
    "start_time": "2023-02-23T14:25:25.909Z"
   },
   {
    "duration": 0,
    "start_time": "2023-02-23T14:25:25.910Z"
   },
   {
    "duration": 0,
    "start_time": "2023-02-23T14:25:25.911Z"
   },
   {
    "duration": 0,
    "start_time": "2023-02-23T14:25:25.912Z"
   },
   {
    "duration": 0,
    "start_time": "2023-02-23T14:25:25.913Z"
   },
   {
    "duration": 0,
    "start_time": "2023-02-23T14:25:25.915Z"
   },
   {
    "duration": 0,
    "start_time": "2023-02-23T14:25:25.915Z"
   },
   {
    "duration": 0,
    "start_time": "2023-02-23T14:25:25.917Z"
   },
   {
    "duration": 0,
    "start_time": "2023-02-23T14:25:25.918Z"
   },
   {
    "duration": 0,
    "start_time": "2023-02-23T14:25:25.919Z"
   },
   {
    "duration": 0,
    "start_time": "2023-02-23T14:25:25.921Z"
   },
   {
    "duration": 1,
    "start_time": "2023-02-23T14:25:25.921Z"
   },
   {
    "duration": 0,
    "start_time": "2023-02-23T14:25:25.922Z"
   },
   {
    "duration": 0,
    "start_time": "2023-02-23T14:25:25.924Z"
   },
   {
    "duration": 0,
    "start_time": "2023-02-23T14:25:25.925Z"
   },
   {
    "duration": 0,
    "start_time": "2023-02-23T14:25:25.926Z"
   },
   {
    "duration": 0,
    "start_time": "2023-02-23T14:25:25.927Z"
   },
   {
    "duration": 4,
    "start_time": "2023-02-23T14:25:41.958Z"
   },
   {
    "duration": 37,
    "start_time": "2023-02-23T14:25:42.974Z"
   },
   {
    "duration": 13,
    "start_time": "2023-02-23T14:25:46.226Z"
   },
   {
    "duration": 11,
    "start_time": "2023-02-23T14:25:46.834Z"
   },
   {
    "duration": 4,
    "start_time": "2023-02-23T14:25:47.412Z"
   },
   {
    "duration": 13,
    "start_time": "2023-02-23T14:25:47.937Z"
   },
   {
    "duration": 10,
    "start_time": "2023-02-23T14:25:50.450Z"
   },
   {
    "duration": 11,
    "start_time": "2023-02-23T14:25:51.129Z"
   },
   {
    "duration": 421,
    "start_time": "2023-02-23T14:27:04.954Z"
   },
   {
    "duration": 2540,
    "start_time": "2023-02-23T14:27:10.037Z"
   },
   {
    "duration": 5,
    "start_time": "2023-02-23T14:27:12.578Z"
   },
   {
    "duration": 306,
    "start_time": "2023-02-23T14:27:14.367Z"
   },
   {
    "duration": 13,
    "start_time": "2023-02-23T14:27:15.561Z"
   },
   {
    "duration": 6,
    "start_time": "2023-02-23T14:27:16.656Z"
   },
   {
    "duration": 7,
    "start_time": "2023-02-23T14:27:17.652Z"
   },
   {
    "duration": 26,
    "start_time": "2023-02-23T14:27:20.293Z"
   },
   {
    "duration": 7,
    "start_time": "2023-02-23T14:27:20.892Z"
   },
   {
    "duration": 16,
    "start_time": "2023-02-23T14:27:26.138Z"
   },
   {
    "duration": 7,
    "start_time": "2023-02-23T14:27:28.333Z"
   },
   {
    "duration": 4,
    "start_time": "2023-02-23T14:27:29.069Z"
   },
   {
    "duration": 6,
    "start_time": "2023-02-23T14:27:54.077Z"
   },
   {
    "duration": 7,
    "start_time": "2023-02-23T14:27:54.566Z"
   },
   {
    "duration": 9,
    "start_time": "2023-02-23T14:27:55.084Z"
   },
   {
    "duration": 7,
    "start_time": "2023-02-23T14:27:55.636Z"
   },
   {
    "duration": 3,
    "start_time": "2023-02-23T14:27:56.134Z"
   },
   {
    "duration": 1450,
    "start_time": "2023-02-23T14:28:02.779Z"
   },
   {
    "duration": 183,
    "start_time": "2023-02-23T14:28:04.620Z"
   },
   {
    "duration": 22104,
    "start_time": "2023-02-23T14:30:57.697Z"
   },
   {
    "duration": 35,
    "start_time": "2023-02-23T14:31:19.803Z"
   },
   {
    "duration": 13,
    "start_time": "2023-02-23T14:31:27.602Z"
   },
   {
    "duration": 5,
    "start_time": "2023-02-23T14:32:21.642Z"
   },
   {
    "duration": 37,
    "start_time": "2023-02-23T14:32:22.085Z"
   },
   {
    "duration": 13,
    "start_time": "2023-02-23T14:32:23.962Z"
   },
   {
    "duration": 12,
    "start_time": "2023-02-23T14:32:24.443Z"
   },
   {
    "duration": 4,
    "start_time": "2023-02-23T14:32:24.948Z"
   },
   {
    "duration": 14,
    "start_time": "2023-02-23T14:32:25.422Z"
   },
   {
    "duration": 324,
    "start_time": "2023-02-23T14:32:27.738Z"
   },
   {
    "duration": 2640,
    "start_time": "2023-02-23T14:32:31.147Z"
   },
   {
    "duration": 5,
    "start_time": "2023-02-23T14:32:33.789Z"
   },
   {
    "duration": 315,
    "start_time": "2023-02-23T14:32:35.081Z"
   },
   {
    "duration": 9,
    "start_time": "2023-02-23T14:32:36.144Z"
   },
   {
    "duration": 7,
    "start_time": "2023-02-23T14:32:37.093Z"
   },
   {
    "duration": 6,
    "start_time": "2023-02-23T14:32:38.030Z"
   },
   {
    "duration": 21,
    "start_time": "2023-02-23T14:32:40.457Z"
   },
   {
    "duration": 5,
    "start_time": "2023-02-23T14:32:40.977Z"
   },
   {
    "duration": 11,
    "start_time": "2023-02-23T14:32:43.418Z"
   },
   {
    "duration": 7,
    "start_time": "2023-02-23T14:32:45.057Z"
   },
   {
    "duration": 5,
    "start_time": "2023-02-23T14:32:45.563Z"
   },
   {
    "duration": 7,
    "start_time": "2023-02-23T14:32:48.073Z"
   },
   {
    "duration": 8,
    "start_time": "2023-02-23T14:32:48.756Z"
   },
   {
    "duration": 6,
    "start_time": "2023-02-23T14:32:49.155Z"
   },
   {
    "duration": 7,
    "start_time": "2023-02-23T14:32:49.672Z"
   },
   {
    "duration": 3,
    "start_time": "2023-02-23T14:32:50.275Z"
   },
   {
    "duration": 1475,
    "start_time": "2023-02-23T14:32:53.834Z"
   },
   {
    "duration": 94,
    "start_time": "2023-02-23T14:32:55.311Z"
   },
   {
    "duration": 22203,
    "start_time": "2023-02-23T14:32:58.833Z"
   },
   {
    "duration": 33,
    "start_time": "2023-02-23T14:34:16.204Z"
   },
   {
    "duration": 13,
    "start_time": "2023-02-23T14:34:17.437Z"
   },
   {
    "duration": 11,
    "start_time": "2023-02-23T14:34:18.759Z"
   },
   {
    "duration": 172,
    "start_time": "2023-02-23T14:38:00.260Z"
   },
   {
    "duration": 93,
    "start_time": "2023-02-23T14:47:21.096Z"
   },
   {
    "duration": 12,
    "start_time": "2023-02-23T14:58:35.738Z"
   },
   {
    "duration": 15545,
    "start_time": "2023-02-23T14:58:59.223Z"
   },
   {
    "duration": 44,
    "start_time": "2023-02-23T15:01:22.088Z"
   },
   {
    "duration": 15,
    "start_time": "2023-02-23T15:02:11.317Z"
   },
   {
    "duration": 15248,
    "start_time": "2023-02-23T15:11:59.940Z"
   },
   {
    "duration": 48,
    "start_time": "2023-02-23T15:12:34.860Z"
   },
   {
    "duration": 72,
    "start_time": "2023-02-23T15:13:22.581Z"
   },
   {
    "duration": 13,
    "start_time": "2023-02-23T15:13:33.704Z"
   },
   {
    "duration": 12,
    "start_time": "2023-02-23T15:14:14.844Z"
   },
   {
    "duration": 14,
    "start_time": "2023-02-23T15:15:07.197Z"
   },
   {
    "duration": 77393,
    "start_time": "2023-02-23T15:22:19.123Z"
   },
   {
    "duration": 19024,
    "start_time": "2023-02-23T15:23:38.500Z"
   },
   {
    "duration": 15333,
    "start_time": "2023-02-23T15:28:09.702Z"
   },
   {
    "duration": 51,
    "start_time": "2023-02-23T15:28:25.038Z"
   },
   {
    "duration": 14,
    "start_time": "2023-02-23T15:28:49.356Z"
   },
   {
    "duration": 570,
    "start_time": "2023-02-23T15:31:44.925Z"
   },
   {
    "duration": 9,
    "start_time": "2023-02-23T15:32:34.883Z"
   },
   {
    "duration": 4,
    "start_time": "2023-02-23T15:33:27.739Z"
   },
   {
    "duration": 12,
    "start_time": "2023-02-23T15:33:28.607Z"
   },
   {
    "duration": 6,
    "start_time": "2023-02-23T15:33:30.266Z"
   },
   {
    "duration": 5,
    "start_time": "2023-02-23T15:33:32.142Z"
   },
   {
    "duration": 5,
    "start_time": "2023-02-23T15:48:50.931Z"
   },
   {
    "duration": 10,
    "start_time": "2023-02-23T15:48:51.425Z"
   },
   {
    "duration": 6,
    "start_time": "2023-02-23T15:48:52.439Z"
   },
   {
    "duration": 7,
    "start_time": "2023-02-23T15:48:59.077Z"
   },
   {
    "duration": 81,
    "start_time": "2023-02-23T15:56:36.688Z"
   },
   {
    "duration": 24580,
    "start_time": "2023-02-23T15:57:05.841Z"
   },
   {
    "duration": 24,
    "start_time": "2023-02-23T16:04:47.585Z"
   },
   {
    "duration": 1005,
    "start_time": "2023-02-23T16:06:24.180Z"
   },
   {
    "duration": 84,
    "start_time": "2023-02-23T16:08:01.191Z"
   },
   {
    "duration": 12,
    "start_time": "2023-02-23T16:09:31.421Z"
   },
   {
    "duration": 1002,
    "start_time": "2023-02-23T16:10:21.744Z"
   },
   {
    "duration": 81,
    "start_time": "2023-02-23T16:10:33.391Z"
   },
   {
    "duration": 425,
    "start_time": "2023-02-23T16:15:12.220Z"
   },
   {
    "duration": 979,
    "start_time": "2023-02-23T16:15:28.395Z"
   },
   {
    "duration": 86,
    "start_time": "2023-02-23T16:15:29.376Z"
   },
   {
    "duration": 196,
    "start_time": "2023-02-23T16:15:57.607Z"
   },
   {
    "duration": 2785,
    "start_time": "2023-02-23T16:16:44.765Z"
   },
   {
    "duration": 55,
    "start_time": "2023-02-23T16:16:47.552Z"
   },
   {
    "duration": 8165,
    "start_time": "2023-02-23T16:17:49.391Z"
   },
   {
    "duration": 58,
    "start_time": "2023-02-23T16:17:57.558Z"
   },
   {
    "duration": 2770,
    "start_time": "2023-02-23T16:18:15.693Z"
   },
   {
    "duration": 144,
    "start_time": "2023-02-23T16:18:18.465Z"
   },
   {
    "duration": 630,
    "start_time": "2023-02-23T16:24:24.481Z"
   },
   {
    "duration": 8,
    "start_time": "2023-02-23T16:26:02.679Z"
   },
   {
    "duration": 5,
    "start_time": "2023-02-23T16:33:35.612Z"
   },
   {
    "duration": 11,
    "start_time": "2023-02-23T16:33:36.226Z"
   },
   {
    "duration": 6,
    "start_time": "2023-02-23T16:33:36.851Z"
   },
   {
    "duration": 5,
    "start_time": "2023-02-23T16:33:37.469Z"
   },
   {
    "duration": 82,
    "start_time": "2023-02-23T16:40:26.585Z"
   },
   {
    "duration": 77,
    "start_time": "2023-02-23T16:40:46.445Z"
   },
   {
    "duration": 23,
    "start_time": "2023-02-23T16:41:54.129Z"
   },
   {
    "duration": 4602,
    "start_time": "2023-02-23T16:42:10.532Z"
   },
   {
    "duration": 78,
    "start_time": "2023-02-23T16:43:56.185Z"
   },
   {
    "duration": 17,
    "start_time": "2023-02-23T16:46:44.883Z"
   },
   {
    "duration": 320,
    "start_time": "2023-02-23T16:47:03.950Z"
   },
   {
    "duration": 66,
    "start_time": "2023-02-23T16:47:07.071Z"
   },
   {
    "duration": 627,
    "start_time": "2023-02-23T16:48:55.115Z"
   },
   {
    "duration": 10,
    "start_time": "2023-02-23T16:49:13.374Z"
   },
   {
    "duration": 12,
    "start_time": "2023-02-23T16:50:15.152Z"
   },
   {
    "duration": 5,
    "start_time": "2023-02-23T16:50:15.743Z"
   },
   {
    "duration": 7,
    "start_time": "2023-02-23T16:50:16.707Z"
   },
   {
    "duration": 27,
    "start_time": "2023-02-23T16:51:42.110Z"
   },
   {
    "duration": 16,
    "start_time": "2023-02-23T16:51:57.308Z"
   },
   {
    "duration": 5,
    "start_time": "2023-02-23T16:52:07.832Z"
   },
   {
    "duration": 9,
    "start_time": "2023-02-23T16:52:20.803Z"
   },
   {
    "duration": 5,
    "start_time": "2023-02-23T16:52:22.212Z"
   },
   {
    "duration": 8,
    "start_time": "2023-02-23T16:52:24.184Z"
   },
   {
    "duration": 15,
    "start_time": "2023-02-23T16:52:42.302Z"
   },
   {
    "duration": 7,
    "start_time": "2023-02-23T16:52:43.853Z"
   },
   {
    "duration": 6,
    "start_time": "2023-02-23T16:52:45.410Z"
   },
   {
    "duration": 6,
    "start_time": "2023-02-23T16:53:09.829Z"
   },
   {
    "duration": 277,
    "start_time": "2023-02-23T16:53:12.526Z"
   },
   {
    "duration": 67,
    "start_time": "2023-02-23T16:53:12.950Z"
   },
   {
    "duration": 96,
    "start_time": "2023-02-23T16:53:14.229Z"
   },
   {
    "duration": 21,
    "start_time": "2023-02-23T16:53:14.727Z"
   },
   {
    "duration": 597,
    "start_time": "2023-02-23T16:53:18.715Z"
   },
   {
    "duration": 9,
    "start_time": "2023-02-23T16:53:19.314Z"
   },
   {
    "duration": 13,
    "start_time": "2023-02-23T16:53:20.746Z"
   },
   {
    "duration": 83,
    "start_time": "2023-02-23T16:55:25.593Z"
   },
   {
    "duration": 63,
    "start_time": "2023-02-23T17:01:12.112Z"
   },
   {
    "duration": 11,
    "start_time": "2023-02-23T17:01:20.516Z"
   },
   {
    "duration": 77,
    "start_time": "2023-02-23T17:01:33.285Z"
   },
   {
    "duration": 241,
    "start_time": "2023-02-23T17:02:08.413Z"
   },
   {
    "duration": 10,
    "start_time": "2023-02-23T17:03:06.272Z"
   },
   {
    "duration": 5,
    "start_time": "2023-02-23T17:03:06.724Z"
   },
   {
    "duration": 5,
    "start_time": "2023-02-23T17:03:07.414Z"
   },
   {
    "duration": 268,
    "start_time": "2023-02-23T17:03:09.988Z"
   },
   {
    "duration": 68,
    "start_time": "2023-02-23T17:03:10.328Z"
   },
   {
    "duration": 76,
    "start_time": "2023-02-23T17:03:10.999Z"
   },
   {
    "duration": 31,
    "start_time": "2023-02-23T17:03:11.374Z"
   },
   {
    "duration": 596,
    "start_time": "2023-02-23T17:03:12.393Z"
   },
   {
    "duration": 13,
    "start_time": "2023-02-23T17:03:12.991Z"
   },
   {
    "duration": 77,
    "start_time": "2023-02-23T17:03:13.437Z"
   },
   {
    "duration": 234,
    "start_time": "2023-02-23T17:03:13.774Z"
   },
   {
    "duration": 11,
    "start_time": "2023-02-23T17:04:51.196Z"
   },
   {
    "duration": 5,
    "start_time": "2023-02-23T17:04:51.793Z"
   },
   {
    "duration": 6,
    "start_time": "2023-02-23T17:04:52.554Z"
   },
   {
    "duration": 282,
    "start_time": "2023-02-23T17:05:03.573Z"
   },
   {
    "duration": 72,
    "start_time": "2023-02-23T17:05:03.982Z"
   },
   {
    "duration": 81,
    "start_time": "2023-02-23T17:05:04.825Z"
   },
   {
    "duration": 95,
    "start_time": "2023-02-23T17:05:05.212Z"
   },
   {
    "duration": 565,
    "start_time": "2023-02-23T17:05:06.429Z"
   },
   {
    "duration": 9,
    "start_time": "2023-02-23T17:05:07.003Z"
   },
   {
    "duration": 79,
    "start_time": "2023-02-23T17:05:07.692Z"
   },
   {
    "duration": 236,
    "start_time": "2023-02-23T17:05:08.083Z"
   }
  ],
  "kernelspec": {
   "display_name": "Python 3 (ipykernel)",
   "language": "python",
   "name": "python3"
  },
  "language_info": {
   "codemirror_mode": {
    "name": "ipython",
    "version": 3
   },
   "file_extension": ".py",
   "mimetype": "text/x-python",
   "name": "python",
   "nbconvert_exporter": "python",
   "pygments_lexer": "ipython3",
   "version": "3.9.5"
  },
  "toc": {
   "base_numbering": 1,
   "nav_menu": {},
   "number_sections": true,
   "sideBar": true,
   "skip_h1_title": true,
   "title_cell": "Содержание",
   "title_sidebar": "Contents",
   "toc_cell": true,
   "toc_position": {
    "height": "calc(100% - 180px)",
    "left": "10px",
    "top": "150px",
    "width": "165px"
   },
   "toc_section_display": true,
   "toc_window_display": true
  }
 },
 "nbformat": 4,
 "nbformat_minor": 2
}
